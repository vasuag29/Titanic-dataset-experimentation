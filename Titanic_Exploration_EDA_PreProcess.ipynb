{
 "cells": [
  {
   "cell_type": "markdown",
   "metadata": {},
   "source": [
    "# 1. Exploratory Data Analysis"
   ]
  },
  {
   "cell_type": "code",
   "execution_count": 1,
   "metadata": {
    "collapsed": true
   },
   "outputs": [],
   "source": [
    "# Importing the the libraries we need for EDA\n",
    "import pandas as pd\n",
    "import numpy as np\n",
    "import os"
   ]
  },
  {
   "cell_type": "code",
   "execution_count": 2,
   "metadata": {
    "collapsed": true
   },
   "outputs": [],
   "source": [
    "# Loading our train and test datasets into pandas dataframe\n",
    "train_df = pd.read_csv('train.csv')\n",
    "test_df = pd.read_csv('test.csv')"
   ]
  },
  {
   "cell_type": "code",
   "execution_count": 3,
   "metadata": {},
   "outputs": [
    {
     "name": "stdout",
     "output_type": "stream",
     "text": [
      "<class 'pandas.core.frame.DataFrame'>\n",
      "RangeIndex: 891 entries, 0 to 890\n",
      "Data columns (total 12 columns):\n",
      "PassengerId    891 non-null int64\n",
      "Survived       891 non-null int64\n",
      "Pclass         891 non-null int64\n",
      "Name           891 non-null object\n",
      "Sex            891 non-null object\n",
      "Age            714 non-null float64\n",
      "SibSp          891 non-null int64\n",
      "Parch          891 non-null int64\n",
      "Ticket         891 non-null object\n",
      "Fare           891 non-null float64\n",
      "Cabin          204 non-null object\n",
      "Embarked       889 non-null object\n",
      "dtypes: float64(2), int64(5), object(5)\n",
      "memory usage: 83.6+ KB\n"
     ]
    },
    {
     "data": {
      "text/html": [
       "<div>\n",
       "<style>\n",
       "    .dataframe thead tr:only-child th {\n",
       "        text-align: right;\n",
       "    }\n",
       "\n",
       "    .dataframe thead th {\n",
       "        text-align: left;\n",
       "    }\n",
       "\n",
       "    .dataframe tbody tr th {\n",
       "        vertical-align: top;\n",
       "    }\n",
       "</style>\n",
       "<table border=\"1\" class=\"dataframe\">\n",
       "  <thead>\n",
       "    <tr style=\"text-align: right;\">\n",
       "      <th></th>\n",
       "      <th>PassengerId</th>\n",
       "      <th>Survived</th>\n",
       "      <th>Pclass</th>\n",
       "      <th>Age</th>\n",
       "      <th>SibSp</th>\n",
       "      <th>Parch</th>\n",
       "      <th>Fare</th>\n",
       "    </tr>\n",
       "  </thead>\n",
       "  <tbody>\n",
       "    <tr>\n",
       "      <th>count</th>\n",
       "      <td>891.000000</td>\n",
       "      <td>891.000000</td>\n",
       "      <td>891.000000</td>\n",
       "      <td>714.000000</td>\n",
       "      <td>891.000000</td>\n",
       "      <td>891.000000</td>\n",
       "      <td>891.000000</td>\n",
       "    </tr>\n",
       "    <tr>\n",
       "      <th>mean</th>\n",
       "      <td>446.000000</td>\n",
       "      <td>0.383838</td>\n",
       "      <td>2.308642</td>\n",
       "      <td>29.699118</td>\n",
       "      <td>0.523008</td>\n",
       "      <td>0.381594</td>\n",
       "      <td>32.204208</td>\n",
       "    </tr>\n",
       "    <tr>\n",
       "      <th>std</th>\n",
       "      <td>257.353842</td>\n",
       "      <td>0.486592</td>\n",
       "      <td>0.836071</td>\n",
       "      <td>14.526497</td>\n",
       "      <td>1.102743</td>\n",
       "      <td>0.806057</td>\n",
       "      <td>49.693429</td>\n",
       "    </tr>\n",
       "    <tr>\n",
       "      <th>min</th>\n",
       "      <td>1.000000</td>\n",
       "      <td>0.000000</td>\n",
       "      <td>1.000000</td>\n",
       "      <td>0.420000</td>\n",
       "      <td>0.000000</td>\n",
       "      <td>0.000000</td>\n",
       "      <td>0.000000</td>\n",
       "    </tr>\n",
       "    <tr>\n",
       "      <th>25%</th>\n",
       "      <td>223.500000</td>\n",
       "      <td>0.000000</td>\n",
       "      <td>2.000000</td>\n",
       "      <td>20.125000</td>\n",
       "      <td>0.000000</td>\n",
       "      <td>0.000000</td>\n",
       "      <td>7.910400</td>\n",
       "    </tr>\n",
       "    <tr>\n",
       "      <th>50%</th>\n",
       "      <td>446.000000</td>\n",
       "      <td>0.000000</td>\n",
       "      <td>3.000000</td>\n",
       "      <td>28.000000</td>\n",
       "      <td>0.000000</td>\n",
       "      <td>0.000000</td>\n",
       "      <td>14.454200</td>\n",
       "    </tr>\n",
       "    <tr>\n",
       "      <th>75%</th>\n",
       "      <td>668.500000</td>\n",
       "      <td>1.000000</td>\n",
       "      <td>3.000000</td>\n",
       "      <td>38.000000</td>\n",
       "      <td>1.000000</td>\n",
       "      <td>0.000000</td>\n",
       "      <td>31.000000</td>\n",
       "    </tr>\n",
       "    <tr>\n",
       "      <th>max</th>\n",
       "      <td>891.000000</td>\n",
       "      <td>1.000000</td>\n",
       "      <td>3.000000</td>\n",
       "      <td>80.000000</td>\n",
       "      <td>8.000000</td>\n",
       "      <td>6.000000</td>\n",
       "      <td>512.329200</td>\n",
       "    </tr>\n",
       "  </tbody>\n",
       "</table>\n",
       "</div>"
      ],
      "text/plain": [
       "       PassengerId    Survived      Pclass         Age       SibSp  \\\n",
       "count   891.000000  891.000000  891.000000  714.000000  891.000000   \n",
       "mean    446.000000    0.383838    2.308642   29.699118    0.523008   \n",
       "std     257.353842    0.486592    0.836071   14.526497    1.102743   \n",
       "min       1.000000    0.000000    1.000000    0.420000    0.000000   \n",
       "25%     223.500000    0.000000    2.000000   20.125000    0.000000   \n",
       "50%     446.000000    0.000000    3.000000   28.000000    0.000000   \n",
       "75%     668.500000    1.000000    3.000000   38.000000    1.000000   \n",
       "max     891.000000    1.000000    3.000000   80.000000    8.000000   \n",
       "\n",
       "            Parch        Fare  \n",
       "count  891.000000  891.000000  \n",
       "mean     0.381594   32.204208  \n",
       "std      0.806057   49.693429  \n",
       "min      0.000000    0.000000  \n",
       "25%      0.000000    7.910400  \n",
       "50%      0.000000   14.454200  \n",
       "75%      0.000000   31.000000  \n",
       "max      6.000000  512.329200  "
      ]
     },
     "execution_count": 3,
     "metadata": {},
     "output_type": "execute_result"
    }
   ],
   "source": [
    "# Some handy functions for getting the gist of the dataset\n",
    "train_df.info()\n",
    "train_df.describe()"
   ]
  },
  {
   "cell_type": "code",
   "execution_count": 4,
   "metadata": {
    "collapsed": true
   },
   "outputs": [],
   "source": [
    "# Creating a coloumn 'Survived' and assigning it some random value\n",
    "test_df['Survived'] = -888"
   ]
  },
  {
   "cell_type": "code",
   "execution_count": 5,
   "metadata": {},
   "outputs": [
    {
     "name": "stdout",
     "output_type": "stream",
     "text": [
      "<class 'pandas.core.frame.DataFrame'>\n",
      "RangeIndex: 418 entries, 0 to 417\n",
      "Data columns (total 12 columns):\n",
      "PassengerId    418 non-null int64\n",
      "Pclass         418 non-null int64\n",
      "Name           418 non-null object\n",
      "Sex            418 non-null object\n",
      "Age            332 non-null float64\n",
      "SibSp          418 non-null int64\n",
      "Parch          418 non-null int64\n",
      "Ticket         418 non-null object\n",
      "Fare           417 non-null float64\n",
      "Cabin          91 non-null object\n",
      "Embarked       418 non-null object\n",
      "Survived       418 non-null int64\n",
      "dtypes: float64(2), int64(5), object(5)\n",
      "memory usage: 39.3+ KB\n"
     ]
    },
    {
     "data": {
      "text/html": [
       "<div>\n",
       "<style>\n",
       "    .dataframe thead tr:only-child th {\n",
       "        text-align: right;\n",
       "    }\n",
       "\n",
       "    .dataframe thead th {\n",
       "        text-align: left;\n",
       "    }\n",
       "\n",
       "    .dataframe tbody tr th {\n",
       "        vertical-align: top;\n",
       "    }\n",
       "</style>\n",
       "<table border=\"1\" class=\"dataframe\">\n",
       "  <thead>\n",
       "    <tr style=\"text-align: right;\">\n",
       "      <th></th>\n",
       "      <th>PassengerId</th>\n",
       "      <th>Pclass</th>\n",
       "      <th>Age</th>\n",
       "      <th>SibSp</th>\n",
       "      <th>Parch</th>\n",
       "      <th>Fare</th>\n",
       "      <th>Survived</th>\n",
       "    </tr>\n",
       "  </thead>\n",
       "  <tbody>\n",
       "    <tr>\n",
       "      <th>count</th>\n",
       "      <td>418.000000</td>\n",
       "      <td>418.000000</td>\n",
       "      <td>332.000000</td>\n",
       "      <td>418.000000</td>\n",
       "      <td>418.000000</td>\n",
       "      <td>417.000000</td>\n",
       "      <td>418.0</td>\n",
       "    </tr>\n",
       "    <tr>\n",
       "      <th>mean</th>\n",
       "      <td>1100.500000</td>\n",
       "      <td>2.265550</td>\n",
       "      <td>30.272590</td>\n",
       "      <td>0.447368</td>\n",
       "      <td>0.392344</td>\n",
       "      <td>35.627188</td>\n",
       "      <td>-888.0</td>\n",
       "    </tr>\n",
       "    <tr>\n",
       "      <th>std</th>\n",
       "      <td>120.810458</td>\n",
       "      <td>0.841838</td>\n",
       "      <td>14.181209</td>\n",
       "      <td>0.896760</td>\n",
       "      <td>0.981429</td>\n",
       "      <td>55.907576</td>\n",
       "      <td>0.0</td>\n",
       "    </tr>\n",
       "    <tr>\n",
       "      <th>min</th>\n",
       "      <td>892.000000</td>\n",
       "      <td>1.000000</td>\n",
       "      <td>0.170000</td>\n",
       "      <td>0.000000</td>\n",
       "      <td>0.000000</td>\n",
       "      <td>0.000000</td>\n",
       "      <td>-888.0</td>\n",
       "    </tr>\n",
       "    <tr>\n",
       "      <th>25%</th>\n",
       "      <td>996.250000</td>\n",
       "      <td>1.000000</td>\n",
       "      <td>21.000000</td>\n",
       "      <td>0.000000</td>\n",
       "      <td>0.000000</td>\n",
       "      <td>7.895800</td>\n",
       "      <td>-888.0</td>\n",
       "    </tr>\n",
       "    <tr>\n",
       "      <th>50%</th>\n",
       "      <td>1100.500000</td>\n",
       "      <td>3.000000</td>\n",
       "      <td>27.000000</td>\n",
       "      <td>0.000000</td>\n",
       "      <td>0.000000</td>\n",
       "      <td>14.454200</td>\n",
       "      <td>-888.0</td>\n",
       "    </tr>\n",
       "    <tr>\n",
       "      <th>75%</th>\n",
       "      <td>1204.750000</td>\n",
       "      <td>3.000000</td>\n",
       "      <td>39.000000</td>\n",
       "      <td>1.000000</td>\n",
       "      <td>0.000000</td>\n",
       "      <td>31.500000</td>\n",
       "      <td>-888.0</td>\n",
       "    </tr>\n",
       "    <tr>\n",
       "      <th>max</th>\n",
       "      <td>1309.000000</td>\n",
       "      <td>3.000000</td>\n",
       "      <td>76.000000</td>\n",
       "      <td>8.000000</td>\n",
       "      <td>9.000000</td>\n",
       "      <td>512.329200</td>\n",
       "      <td>-888.0</td>\n",
       "    </tr>\n",
       "  </tbody>\n",
       "</table>\n",
       "</div>"
      ],
      "text/plain": [
       "       PassengerId      Pclass         Age       SibSp       Parch  \\\n",
       "count   418.000000  418.000000  332.000000  418.000000  418.000000   \n",
       "mean   1100.500000    2.265550   30.272590    0.447368    0.392344   \n",
       "std     120.810458    0.841838   14.181209    0.896760    0.981429   \n",
       "min     892.000000    1.000000    0.170000    0.000000    0.000000   \n",
       "25%     996.250000    1.000000   21.000000    0.000000    0.000000   \n",
       "50%    1100.500000    3.000000   27.000000    0.000000    0.000000   \n",
       "75%    1204.750000    3.000000   39.000000    1.000000    0.000000   \n",
       "max    1309.000000    3.000000   76.000000    8.000000    9.000000   \n",
       "\n",
       "             Fare  Survived  \n",
       "count  417.000000     418.0  \n",
       "mean    35.627188    -888.0  \n",
       "std     55.907576       0.0  \n",
       "min      0.000000    -888.0  \n",
       "25%      7.895800    -888.0  \n",
       "50%     14.454200    -888.0  \n",
       "75%     31.500000    -888.0  \n",
       "max    512.329200    -888.0  "
      ]
     },
     "execution_count": 5,
     "metadata": {},
     "output_type": "execute_result"
    }
   ],
   "source": [
    "# Now we can see that the new column has been added\n",
    "test_df.info()\n",
    "test_df.describe()"
   ]
  },
  {
   "cell_type": "code",
   "execution_count": 6,
   "metadata": {},
   "outputs": [],
   "source": [
    "# Concatenating the train and test data, axis=0 means that we add concatenating them in top to bottom fashion\n",
    "df = pd.concat([train_df, test_df], axis=0) "
   ]
  },
  {
   "cell_type": "code",
   "execution_count": 7,
   "metadata": {},
   "outputs": [
    {
     "data": {
      "text/html": [
       "<div>\n",
       "<style>\n",
       "    .dataframe thead tr:only-child th {\n",
       "        text-align: right;\n",
       "    }\n",
       "\n",
       "    .dataframe thead th {\n",
       "        text-align: left;\n",
       "    }\n",
       "\n",
       "    .dataframe tbody tr th {\n",
       "        vertical-align: top;\n",
       "    }\n",
       "</style>\n",
       "<table border=\"1\" class=\"dataframe\">\n",
       "  <thead>\n",
       "    <tr style=\"text-align: right;\">\n",
       "      <th></th>\n",
       "      <th>Age</th>\n",
       "      <th>Cabin</th>\n",
       "      <th>Embarked</th>\n",
       "      <th>Fare</th>\n",
       "      <th>Name</th>\n",
       "      <th>Parch</th>\n",
       "      <th>PassengerId</th>\n",
       "      <th>Pclass</th>\n",
       "      <th>Sex</th>\n",
       "      <th>SibSp</th>\n",
       "      <th>Survived</th>\n",
       "      <th>Ticket</th>\n",
       "    </tr>\n",
       "  </thead>\n",
       "  <tbody>\n",
       "    <tr>\n",
       "      <th>7</th>\n",
       "      <td>2.00</td>\n",
       "      <td>NaN</td>\n",
       "      <td>S</td>\n",
       "      <td>21.0750</td>\n",
       "      <td>Palsson, Master. Gosta Leonard</td>\n",
       "      <td>1</td>\n",
       "      <td>8</td>\n",
       "      <td>3</td>\n",
       "      <td>male</td>\n",
       "      <td>3</td>\n",
       "      <td>0</td>\n",
       "      <td>349909</td>\n",
       "    </tr>\n",
       "    <tr>\n",
       "      <th>9</th>\n",
       "      <td>14.00</td>\n",
       "      <td>NaN</td>\n",
       "      <td>C</td>\n",
       "      <td>30.0708</td>\n",
       "      <td>Nasser, Mrs. Nicholas (Adele Achem)</td>\n",
       "      <td>0</td>\n",
       "      <td>10</td>\n",
       "      <td>2</td>\n",
       "      <td>female</td>\n",
       "      <td>1</td>\n",
       "      <td>1</td>\n",
       "      <td>237736</td>\n",
       "    </tr>\n",
       "    <tr>\n",
       "      <th>10</th>\n",
       "      <td>4.00</td>\n",
       "      <td>G6</td>\n",
       "      <td>S</td>\n",
       "      <td>16.7000</td>\n",
       "      <td>Sandstrom, Miss. Marguerite Rut</td>\n",
       "      <td>1</td>\n",
       "      <td>11</td>\n",
       "      <td>3</td>\n",
       "      <td>female</td>\n",
       "      <td>1</td>\n",
       "      <td>1</td>\n",
       "      <td>PP 9549</td>\n",
       "    </tr>\n",
       "    <tr>\n",
       "      <th>14</th>\n",
       "      <td>14.00</td>\n",
       "      <td>NaN</td>\n",
       "      <td>S</td>\n",
       "      <td>7.8542</td>\n",
       "      <td>Vestrom, Miss. Hulda Amanda Adolfina</td>\n",
       "      <td>0</td>\n",
       "      <td>15</td>\n",
       "      <td>3</td>\n",
       "      <td>female</td>\n",
       "      <td>0</td>\n",
       "      <td>0</td>\n",
       "      <td>350406</td>\n",
       "    </tr>\n",
       "    <tr>\n",
       "      <th>16</th>\n",
       "      <td>2.00</td>\n",
       "      <td>NaN</td>\n",
       "      <td>Q</td>\n",
       "      <td>29.1250</td>\n",
       "      <td>Rice, Master. Eugene</td>\n",
       "      <td>1</td>\n",
       "      <td>17</td>\n",
       "      <td>3</td>\n",
       "      <td>male</td>\n",
       "      <td>4</td>\n",
       "      <td>0</td>\n",
       "      <td>382652</td>\n",
       "    </tr>\n",
       "    <tr>\n",
       "      <th>24</th>\n",
       "      <td>8.00</td>\n",
       "      <td>NaN</td>\n",
       "      <td>S</td>\n",
       "      <td>21.0750</td>\n",
       "      <td>Palsson, Miss. Torborg Danira</td>\n",
       "      <td>1</td>\n",
       "      <td>25</td>\n",
       "      <td>3</td>\n",
       "      <td>female</td>\n",
       "      <td>3</td>\n",
       "      <td>0</td>\n",
       "      <td>349909</td>\n",
       "    </tr>\n",
       "    <tr>\n",
       "      <th>39</th>\n",
       "      <td>14.00</td>\n",
       "      <td>NaN</td>\n",
       "      <td>C</td>\n",
       "      <td>11.2417</td>\n",
       "      <td>Nicola-Yarred, Miss. Jamila</td>\n",
       "      <td>0</td>\n",
       "      <td>40</td>\n",
       "      <td>3</td>\n",
       "      <td>female</td>\n",
       "      <td>1</td>\n",
       "      <td>1</td>\n",
       "      <td>2651</td>\n",
       "    </tr>\n",
       "    <tr>\n",
       "      <th>43</th>\n",
       "      <td>3.00</td>\n",
       "      <td>NaN</td>\n",
       "      <td>C</td>\n",
       "      <td>41.5792</td>\n",
       "      <td>Laroche, Miss. Simonne Marie Anne Andree</td>\n",
       "      <td>2</td>\n",
       "      <td>44</td>\n",
       "      <td>2</td>\n",
       "      <td>female</td>\n",
       "      <td>1</td>\n",
       "      <td>1</td>\n",
       "      <td>SC/Paris 2123</td>\n",
       "    </tr>\n",
       "    <tr>\n",
       "      <th>50</th>\n",
       "      <td>7.00</td>\n",
       "      <td>NaN</td>\n",
       "      <td>S</td>\n",
       "      <td>39.6875</td>\n",
       "      <td>Panula, Master. Juha Niilo</td>\n",
       "      <td>1</td>\n",
       "      <td>51</td>\n",
       "      <td>3</td>\n",
       "      <td>male</td>\n",
       "      <td>4</td>\n",
       "      <td>0</td>\n",
       "      <td>3101295</td>\n",
       "    </tr>\n",
       "    <tr>\n",
       "      <th>58</th>\n",
       "      <td>5.00</td>\n",
       "      <td>NaN</td>\n",
       "      <td>S</td>\n",
       "      <td>27.7500</td>\n",
       "      <td>West, Miss. Constance Mirium</td>\n",
       "      <td>2</td>\n",
       "      <td>59</td>\n",
       "      <td>2</td>\n",
       "      <td>female</td>\n",
       "      <td>1</td>\n",
       "      <td>1</td>\n",
       "      <td>C.A. 34651</td>\n",
       "    </tr>\n",
       "    <tr>\n",
       "      <th>59</th>\n",
       "      <td>11.00</td>\n",
       "      <td>NaN</td>\n",
       "      <td>S</td>\n",
       "      <td>46.9000</td>\n",
       "      <td>Goodwin, Master. William Frederick</td>\n",
       "      <td>2</td>\n",
       "      <td>60</td>\n",
       "      <td>3</td>\n",
       "      <td>male</td>\n",
       "      <td>5</td>\n",
       "      <td>0</td>\n",
       "      <td>CA 2144</td>\n",
       "    </tr>\n",
       "    <tr>\n",
       "      <th>63</th>\n",
       "      <td>4.00</td>\n",
       "      <td>NaN</td>\n",
       "      <td>S</td>\n",
       "      <td>27.9000</td>\n",
       "      <td>Skoog, Master. Harald</td>\n",
       "      <td>2</td>\n",
       "      <td>64</td>\n",
       "      <td>3</td>\n",
       "      <td>male</td>\n",
       "      <td>3</td>\n",
       "      <td>0</td>\n",
       "      <td>347088</td>\n",
       "    </tr>\n",
       "    <tr>\n",
       "      <th>78</th>\n",
       "      <td>0.83</td>\n",
       "      <td>NaN</td>\n",
       "      <td>S</td>\n",
       "      <td>29.0000</td>\n",
       "      <td>Caldwell, Master. Alden Gates</td>\n",
       "      <td>2</td>\n",
       "      <td>79</td>\n",
       "      <td>2</td>\n",
       "      <td>male</td>\n",
       "      <td>0</td>\n",
       "      <td>1</td>\n",
       "      <td>248738</td>\n",
       "    </tr>\n",
       "    <tr>\n",
       "      <th>111</th>\n",
       "      <td>14.50</td>\n",
       "      <td>NaN</td>\n",
       "      <td>C</td>\n",
       "      <td>14.4542</td>\n",
       "      <td>Zabour, Miss. Hileni</td>\n",
       "      <td>0</td>\n",
       "      <td>112</td>\n",
       "      <td>3</td>\n",
       "      <td>female</td>\n",
       "      <td>1</td>\n",
       "      <td>0</td>\n",
       "      <td>2665</td>\n",
       "    </tr>\n",
       "    <tr>\n",
       "      <th>119</th>\n",
       "      <td>2.00</td>\n",
       "      <td>NaN</td>\n",
       "      <td>S</td>\n",
       "      <td>31.2750</td>\n",
       "      <td>Andersson, Miss. Ellis Anna Maria</td>\n",
       "      <td>2</td>\n",
       "      <td>120</td>\n",
       "      <td>3</td>\n",
       "      <td>female</td>\n",
       "      <td>4</td>\n",
       "      <td>0</td>\n",
       "      <td>347082</td>\n",
       "    </tr>\n",
       "    <tr>\n",
       "      <th>125</th>\n",
       "      <td>12.00</td>\n",
       "      <td>NaN</td>\n",
       "      <td>C</td>\n",
       "      <td>11.2417</td>\n",
       "      <td>Nicola-Yarred, Master. Elias</td>\n",
       "      <td>0</td>\n",
       "      <td>126</td>\n",
       "      <td>3</td>\n",
       "      <td>male</td>\n",
       "      <td>1</td>\n",
       "      <td>1</td>\n",
       "      <td>2651</td>\n",
       "    </tr>\n",
       "    <tr>\n",
       "      <th>147</th>\n",
       "      <td>9.00</td>\n",
       "      <td>NaN</td>\n",
       "      <td>S</td>\n",
       "      <td>34.3750</td>\n",
       "      <td>Ford, Miss. Robina Maggie \"Ruby\"</td>\n",
       "      <td>2</td>\n",
       "      <td>148</td>\n",
       "      <td>3</td>\n",
       "      <td>female</td>\n",
       "      <td>2</td>\n",
       "      <td>0</td>\n",
       "      <td>W./C. 6608</td>\n",
       "    </tr>\n",
       "    <tr>\n",
       "      <th>164</th>\n",
       "      <td>1.00</td>\n",
       "      <td>NaN</td>\n",
       "      <td>S</td>\n",
       "      <td>39.6875</td>\n",
       "      <td>Panula, Master. Eino Viljami</td>\n",
       "      <td>1</td>\n",
       "      <td>165</td>\n",
       "      <td>3</td>\n",
       "      <td>male</td>\n",
       "      <td>4</td>\n",
       "      <td>0</td>\n",
       "      <td>3101295</td>\n",
       "    </tr>\n",
       "    <tr>\n",
       "      <th>165</th>\n",
       "      <td>9.00</td>\n",
       "      <td>NaN</td>\n",
       "      <td>S</td>\n",
       "      <td>20.5250</td>\n",
       "      <td>Goldsmith, Master. Frank John William \"Frankie\"</td>\n",
       "      <td>2</td>\n",
       "      <td>166</td>\n",
       "      <td>3</td>\n",
       "      <td>male</td>\n",
       "      <td>0</td>\n",
       "      <td>1</td>\n",
       "      <td>363291</td>\n",
       "    </tr>\n",
       "    <tr>\n",
       "      <th>171</th>\n",
       "      <td>4.00</td>\n",
       "      <td>NaN</td>\n",
       "      <td>Q</td>\n",
       "      <td>29.1250</td>\n",
       "      <td>Rice, Master. Arthur</td>\n",
       "      <td>1</td>\n",
       "      <td>172</td>\n",
       "      <td>3</td>\n",
       "      <td>male</td>\n",
       "      <td>4</td>\n",
       "      <td>0</td>\n",
       "      <td>382652</td>\n",
       "    </tr>\n",
       "    <tr>\n",
       "      <th>172</th>\n",
       "      <td>1.00</td>\n",
       "      <td>NaN</td>\n",
       "      <td>S</td>\n",
       "      <td>11.1333</td>\n",
       "      <td>Johnson, Miss. Eleanor Ileen</td>\n",
       "      <td>1</td>\n",
       "      <td>173</td>\n",
       "      <td>3</td>\n",
       "      <td>female</td>\n",
       "      <td>1</td>\n",
       "      <td>1</td>\n",
       "      <td>347742</td>\n",
       "    </tr>\n",
       "    <tr>\n",
       "      <th>182</th>\n",
       "      <td>9.00</td>\n",
       "      <td>NaN</td>\n",
       "      <td>S</td>\n",
       "      <td>31.3875</td>\n",
       "      <td>Asplund, Master. Clarence Gustaf Hugo</td>\n",
       "      <td>2</td>\n",
       "      <td>183</td>\n",
       "      <td>3</td>\n",
       "      <td>male</td>\n",
       "      <td>4</td>\n",
       "      <td>0</td>\n",
       "      <td>347077</td>\n",
       "    </tr>\n",
       "    <tr>\n",
       "      <th>183</th>\n",
       "      <td>1.00</td>\n",
       "      <td>F4</td>\n",
       "      <td>S</td>\n",
       "      <td>39.0000</td>\n",
       "      <td>Becker, Master. Richard F</td>\n",
       "      <td>1</td>\n",
       "      <td>184</td>\n",
       "      <td>2</td>\n",
       "      <td>male</td>\n",
       "      <td>2</td>\n",
       "      <td>1</td>\n",
       "      <td>230136</td>\n",
       "    </tr>\n",
       "    <tr>\n",
       "      <th>184</th>\n",
       "      <td>4.00</td>\n",
       "      <td>NaN</td>\n",
       "      <td>S</td>\n",
       "      <td>22.0250</td>\n",
       "      <td>Kink-Heilmann, Miss. Luise Gretchen</td>\n",
       "      <td>2</td>\n",
       "      <td>185</td>\n",
       "      <td>3</td>\n",
       "      <td>female</td>\n",
       "      <td>0</td>\n",
       "      <td>1</td>\n",
       "      <td>315153</td>\n",
       "    </tr>\n",
       "    <tr>\n",
       "      <th>193</th>\n",
       "      <td>3.00</td>\n",
       "      <td>F2</td>\n",
       "      <td>S</td>\n",
       "      <td>26.0000</td>\n",
       "      <td>Navratil, Master. Michel M</td>\n",
       "      <td>1</td>\n",
       "      <td>194</td>\n",
       "      <td>2</td>\n",
       "      <td>male</td>\n",
       "      <td>1</td>\n",
       "      <td>1</td>\n",
       "      <td>230080</td>\n",
       "    </tr>\n",
       "    <tr>\n",
       "      <th>205</th>\n",
       "      <td>2.00</td>\n",
       "      <td>G6</td>\n",
       "      <td>S</td>\n",
       "      <td>10.4625</td>\n",
       "      <td>Strom, Miss. Telma Matilda</td>\n",
       "      <td>1</td>\n",
       "      <td>206</td>\n",
       "      <td>3</td>\n",
       "      <td>female</td>\n",
       "      <td>0</td>\n",
       "      <td>0</td>\n",
       "      <td>347054</td>\n",
       "    </tr>\n",
       "    <tr>\n",
       "      <th>233</th>\n",
       "      <td>5.00</td>\n",
       "      <td>NaN</td>\n",
       "      <td>S</td>\n",
       "      <td>31.3875</td>\n",
       "      <td>Asplund, Miss. Lillian Gertrud</td>\n",
       "      <td>2</td>\n",
       "      <td>234</td>\n",
       "      <td>3</td>\n",
       "      <td>female</td>\n",
       "      <td>4</td>\n",
       "      <td>1</td>\n",
       "      <td>347077</td>\n",
       "    </tr>\n",
       "    <tr>\n",
       "      <th>237</th>\n",
       "      <td>8.00</td>\n",
       "      <td>NaN</td>\n",
       "      <td>S</td>\n",
       "      <td>26.2500</td>\n",
       "      <td>Collyer, Miss. Marjorie \"Lottie\"</td>\n",
       "      <td>2</td>\n",
       "      <td>238</td>\n",
       "      <td>2</td>\n",
       "      <td>female</td>\n",
       "      <td>0</td>\n",
       "      <td>1</td>\n",
       "      <td>C.A. 31921</td>\n",
       "    </tr>\n",
       "    <tr>\n",
       "      <th>261</th>\n",
       "      <td>3.00</td>\n",
       "      <td>NaN</td>\n",
       "      <td>S</td>\n",
       "      <td>31.3875</td>\n",
       "      <td>Asplund, Master. Edvin Rojj Felix</td>\n",
       "      <td>2</td>\n",
       "      <td>262</td>\n",
       "      <td>3</td>\n",
       "      <td>male</td>\n",
       "      <td>4</td>\n",
       "      <td>1</td>\n",
       "      <td>347077</td>\n",
       "    </tr>\n",
       "    <tr>\n",
       "      <th>278</th>\n",
       "      <td>7.00</td>\n",
       "      <td>NaN</td>\n",
       "      <td>Q</td>\n",
       "      <td>29.1250</td>\n",
       "      <td>Rice, Master. Eric</td>\n",
       "      <td>1</td>\n",
       "      <td>279</td>\n",
       "      <td>3</td>\n",
       "      <td>male</td>\n",
       "      <td>4</td>\n",
       "      <td>0</td>\n",
       "      <td>382652</td>\n",
       "    </tr>\n",
       "    <tr>\n",
       "      <th>...</th>\n",
       "      <td>...</td>\n",
       "      <td>...</td>\n",
       "      <td>...</td>\n",
       "      <td>...</td>\n",
       "      <td>...</td>\n",
       "      <td>...</td>\n",
       "      <td>...</td>\n",
       "      <td>...</td>\n",
       "      <td>...</td>\n",
       "      <td>...</td>\n",
       "      <td>...</td>\n",
       "      <td>...</td>\n",
       "    </tr>\n",
       "    <tr>\n",
       "      <th>21</th>\n",
       "      <td>9.00</td>\n",
       "      <td>NaN</td>\n",
       "      <td>S</td>\n",
       "      <td>3.1708</td>\n",
       "      <td>Olsen, Master. Artur Karl</td>\n",
       "      <td>1</td>\n",
       "      <td>913</td>\n",
       "      <td>3</td>\n",
       "      <td>male</td>\n",
       "      <td>0</td>\n",
       "      <td>-888</td>\n",
       "      <td>C 17368</td>\n",
       "    </tr>\n",
       "    <tr>\n",
       "      <th>55</th>\n",
       "      <td>10.00</td>\n",
       "      <td>NaN</td>\n",
       "      <td>Q</td>\n",
       "      <td>29.1250</td>\n",
       "      <td>Rice, Master. Albert</td>\n",
       "      <td>1</td>\n",
       "      <td>947</td>\n",
       "      <td>3</td>\n",
       "      <td>male</td>\n",
       "      <td>4</td>\n",
       "      <td>-888</td>\n",
       "      <td>382652</td>\n",
       "    </tr>\n",
       "    <tr>\n",
       "      <th>64</th>\n",
       "      <td>13.00</td>\n",
       "      <td>B57 B59 B63 B66</td>\n",
       "      <td>C</td>\n",
       "      <td>262.3750</td>\n",
       "      <td>Ryerson, Master. John Borie</td>\n",
       "      <td>2</td>\n",
       "      <td>956</td>\n",
       "      <td>1</td>\n",
       "      <td>male</td>\n",
       "      <td>2</td>\n",
       "      <td>-888</td>\n",
       "      <td>PC 17608</td>\n",
       "    </tr>\n",
       "    <tr>\n",
       "      <th>80</th>\n",
       "      <td>6.00</td>\n",
       "      <td>NaN</td>\n",
       "      <td>C</td>\n",
       "      <td>15.2458</td>\n",
       "      <td>Boulos, Master. Akar</td>\n",
       "      <td>1</td>\n",
       "      <td>972</td>\n",
       "      <td>3</td>\n",
       "      <td>male</td>\n",
       "      <td>1</td>\n",
       "      <td>-888</td>\n",
       "      <td>2678</td>\n",
       "    </tr>\n",
       "    <tr>\n",
       "      <th>89</th>\n",
       "      <td>2.00</td>\n",
       "      <td>NaN</td>\n",
       "      <td>S</td>\n",
       "      <td>23.0000</td>\n",
       "      <td>Wells, Master. Ralph Lester</td>\n",
       "      <td>1</td>\n",
       "      <td>981</td>\n",
       "      <td>2</td>\n",
       "      <td>male</td>\n",
       "      <td>1</td>\n",
       "      <td>-888</td>\n",
       "      <td>29103</td>\n",
       "    </tr>\n",
       "    <tr>\n",
       "      <th>117</th>\n",
       "      <td>1.00</td>\n",
       "      <td>G6</td>\n",
       "      <td>S</td>\n",
       "      <td>16.7000</td>\n",
       "      <td>Sandstrom, Miss. Beatrice Irene</td>\n",
       "      <td>1</td>\n",
       "      <td>1009</td>\n",
       "      <td>3</td>\n",
       "      <td>female</td>\n",
       "      <td>1</td>\n",
       "      <td>-888</td>\n",
       "      <td>PP 9549</td>\n",
       "    </tr>\n",
       "    <tr>\n",
       "      <th>120</th>\n",
       "      <td>12.00</td>\n",
       "      <td>NaN</td>\n",
       "      <td>S</td>\n",
       "      <td>15.7500</td>\n",
       "      <td>Watt, Miss. Bertha J</td>\n",
       "      <td>0</td>\n",
       "      <td>1012</td>\n",
       "      <td>2</td>\n",
       "      <td>female</td>\n",
       "      <td>0</td>\n",
       "      <td>-888</td>\n",
       "      <td>C.A. 33595</td>\n",
       "    </tr>\n",
       "    <tr>\n",
       "      <th>140</th>\n",
       "      <td>10.00</td>\n",
       "      <td>NaN</td>\n",
       "      <td>S</td>\n",
       "      <td>46.9000</td>\n",
       "      <td>Goodwin, Miss. Jessie Allis</td>\n",
       "      <td>2</td>\n",
       "      <td>1032</td>\n",
       "      <td>3</td>\n",
       "      <td>female</td>\n",
       "      <td>5</td>\n",
       "      <td>-888</td>\n",
       "      <td>CA 2144</td>\n",
       "    </tr>\n",
       "    <tr>\n",
       "      <th>154</th>\n",
       "      <td>13.00</td>\n",
       "      <td>NaN</td>\n",
       "      <td>S</td>\n",
       "      <td>31.3875</td>\n",
       "      <td>Asplund, Master. Filip Oscar</td>\n",
       "      <td>2</td>\n",
       "      <td>1046</td>\n",
       "      <td>3</td>\n",
       "      <td>male</td>\n",
       "      <td>4</td>\n",
       "      <td>-888</td>\n",
       "      <td>347077</td>\n",
       "    </tr>\n",
       "    <tr>\n",
       "      <th>161</th>\n",
       "      <td>7.00</td>\n",
       "      <td>NaN</td>\n",
       "      <td>C</td>\n",
       "      <td>15.2458</td>\n",
       "      <td>Touma, Master. Georges Youssef</td>\n",
       "      <td>1</td>\n",
       "      <td>1053</td>\n",
       "      <td>3</td>\n",
       "      <td>male</td>\n",
       "      <td>1</td>\n",
       "      <td>-888</td>\n",
       "      <td>2650</td>\n",
       "    </tr>\n",
       "    <tr>\n",
       "      <th>192</th>\n",
       "      <td>11.50</td>\n",
       "      <td>NaN</td>\n",
       "      <td>S</td>\n",
       "      <td>14.5000</td>\n",
       "      <td>van Billiard, Master. Walter John</td>\n",
       "      <td>1</td>\n",
       "      <td>1084</td>\n",
       "      <td>3</td>\n",
       "      <td>male</td>\n",
       "      <td>1</td>\n",
       "      <td>-888</td>\n",
       "      <td>A/5. 851</td>\n",
       "    </tr>\n",
       "    <tr>\n",
       "      <th>194</th>\n",
       "      <td>8.00</td>\n",
       "      <td>NaN</td>\n",
       "      <td>S</td>\n",
       "      <td>32.5000</td>\n",
       "      <td>Drew, Master. Marshall Brines</td>\n",
       "      <td>2</td>\n",
       "      <td>1086</td>\n",
       "      <td>2</td>\n",
       "      <td>male</td>\n",
       "      <td>0</td>\n",
       "      <td>-888</td>\n",
       "      <td>28220</td>\n",
       "    </tr>\n",
       "    <tr>\n",
       "      <th>196</th>\n",
       "      <td>6.00</td>\n",
       "      <td>E34</td>\n",
       "      <td>C</td>\n",
       "      <td>134.5000</td>\n",
       "      <td>Spedden, Master. Robert Douglas</td>\n",
       "      <td>2</td>\n",
       "      <td>1088</td>\n",
       "      <td>1</td>\n",
       "      <td>male</td>\n",
       "      <td>0</td>\n",
       "      <td>-888</td>\n",
       "      <td>16966</td>\n",
       "    </tr>\n",
       "    <tr>\n",
       "      <th>201</th>\n",
       "      <td>0.33</td>\n",
       "      <td>NaN</td>\n",
       "      <td>S</td>\n",
       "      <td>14.4000</td>\n",
       "      <td>Danbom, Master. Gilbert Sigvard Emanuel</td>\n",
       "      <td>2</td>\n",
       "      <td>1093</td>\n",
       "      <td>3</td>\n",
       "      <td>male</td>\n",
       "      <td>0</td>\n",
       "      <td>-888</td>\n",
       "      <td>347080</td>\n",
       "    </tr>\n",
       "    <tr>\n",
       "      <th>203</th>\n",
       "      <td>8.00</td>\n",
       "      <td>NaN</td>\n",
       "      <td>S</td>\n",
       "      <td>26.0000</td>\n",
       "      <td>Quick, Miss. Winifred Vera</td>\n",
       "      <td>1</td>\n",
       "      <td>1095</td>\n",
       "      <td>2</td>\n",
       "      <td>female</td>\n",
       "      <td>1</td>\n",
       "      <td>-888</td>\n",
       "      <td>26360</td>\n",
       "    </tr>\n",
       "    <tr>\n",
       "      <th>230</th>\n",
       "      <td>14.00</td>\n",
       "      <td>NaN</td>\n",
       "      <td>S</td>\n",
       "      <td>65.0000</td>\n",
       "      <td>Sweet, Mr. George Frederick</td>\n",
       "      <td>0</td>\n",
       "      <td>1122</td>\n",
       "      <td>2</td>\n",
       "      <td>male</td>\n",
       "      <td>0</td>\n",
       "      <td>-888</td>\n",
       "      <td>220845</td>\n",
       "    </tr>\n",
       "    <tr>\n",
       "      <th>250</th>\n",
       "      <td>0.92</td>\n",
       "      <td>NaN</td>\n",
       "      <td>S</td>\n",
       "      <td>27.7500</td>\n",
       "      <td>West, Miss. Barbara J</td>\n",
       "      <td>2</td>\n",
       "      <td>1142</td>\n",
       "      <td>2</td>\n",
       "      <td>female</td>\n",
       "      <td>1</td>\n",
       "      <td>-888</td>\n",
       "      <td>C.A. 34651</td>\n",
       "    </tr>\n",
       "    <tr>\n",
       "      <th>263</th>\n",
       "      <td>1.00</td>\n",
       "      <td>NaN</td>\n",
       "      <td>S</td>\n",
       "      <td>12.1833</td>\n",
       "      <td>Klasen, Miss. Gertrud Emilia</td>\n",
       "      <td>1</td>\n",
       "      <td>1155</td>\n",
       "      <td>3</td>\n",
       "      <td>female</td>\n",
       "      <td>1</td>\n",
       "      <td>-888</td>\n",
       "      <td>350405</td>\n",
       "    </tr>\n",
       "    <tr>\n",
       "      <th>281</th>\n",
       "      <td>0.75</td>\n",
       "      <td>NaN</td>\n",
       "      <td>S</td>\n",
       "      <td>13.7750</td>\n",
       "      <td>Peacock, Master. Alfred Edward</td>\n",
       "      <td>1</td>\n",
       "      <td>1173</td>\n",
       "      <td>3</td>\n",
       "      <td>male</td>\n",
       "      <td>1</td>\n",
       "      <td>-888</td>\n",
       "      <td>SOTON/O.Q. 3101315</td>\n",
       "    </tr>\n",
       "    <tr>\n",
       "      <th>283</th>\n",
       "      <td>9.00</td>\n",
       "      <td>NaN</td>\n",
       "      <td>C</td>\n",
       "      <td>15.2458</td>\n",
       "      <td>Touma, Miss. Maria Youssef</td>\n",
       "      <td>1</td>\n",
       "      <td>1175</td>\n",
       "      <td>3</td>\n",
       "      <td>female</td>\n",
       "      <td>1</td>\n",
       "      <td>-888</td>\n",
       "      <td>2650</td>\n",
       "    </tr>\n",
       "    <tr>\n",
       "      <th>284</th>\n",
       "      <td>2.00</td>\n",
       "      <td>NaN</td>\n",
       "      <td>S</td>\n",
       "      <td>20.2125</td>\n",
       "      <td>Rosblom, Miss. Salli Helena</td>\n",
       "      <td>1</td>\n",
       "      <td>1176</td>\n",
       "      <td>3</td>\n",
       "      <td>female</td>\n",
       "      <td>1</td>\n",
       "      <td>-888</td>\n",
       "      <td>370129</td>\n",
       "    </tr>\n",
       "    <tr>\n",
       "      <th>296</th>\n",
       "      <td>1.00</td>\n",
       "      <td>NaN</td>\n",
       "      <td>C</td>\n",
       "      <td>41.5792</td>\n",
       "      <td>Laroche, Miss. Louise</td>\n",
       "      <td>2</td>\n",
       "      <td>1188</td>\n",
       "      <td>2</td>\n",
       "      <td>female</td>\n",
       "      <td>1</td>\n",
       "      <td>-888</td>\n",
       "      <td>SC/Paris 2123</td>\n",
       "    </tr>\n",
       "    <tr>\n",
       "      <th>307</th>\n",
       "      <td>0.83</td>\n",
       "      <td>NaN</td>\n",
       "      <td>S</td>\n",
       "      <td>9.3500</td>\n",
       "      <td>Aks, Master. Philip Frank</td>\n",
       "      <td>1</td>\n",
       "      <td>1199</td>\n",
       "      <td>3</td>\n",
       "      <td>male</td>\n",
       "      <td>0</td>\n",
       "      <td>-888</td>\n",
       "      <td>392091</td>\n",
       "    </tr>\n",
       "    <tr>\n",
       "      <th>326</th>\n",
       "      <td>12.00</td>\n",
       "      <td>F4</td>\n",
       "      <td>S</td>\n",
       "      <td>39.0000</td>\n",
       "      <td>Becker, Miss. Ruth Elizabeth</td>\n",
       "      <td>1</td>\n",
       "      <td>1218</td>\n",
       "      <td>2</td>\n",
       "      <td>female</td>\n",
       "      <td>2</td>\n",
       "      <td>-888</td>\n",
       "      <td>230136</td>\n",
       "    </tr>\n",
       "    <tr>\n",
       "      <th>354</th>\n",
       "      <td>0.17</td>\n",
       "      <td>NaN</td>\n",
       "      <td>S</td>\n",
       "      <td>20.5750</td>\n",
       "      <td>Dean, Miss. Elizabeth Gladys Millvina\"\"</td>\n",
       "      <td>2</td>\n",
       "      <td>1246</td>\n",
       "      <td>3</td>\n",
       "      <td>female</td>\n",
       "      <td>1</td>\n",
       "      <td>-888</td>\n",
       "      <td>C.A. 2315</td>\n",
       "    </tr>\n",
       "    <tr>\n",
       "      <th>360</th>\n",
       "      <td>14.50</td>\n",
       "      <td>NaN</td>\n",
       "      <td>S</td>\n",
       "      <td>69.5500</td>\n",
       "      <td>Sage, Master. William Henry</td>\n",
       "      <td>2</td>\n",
       "      <td>1252</td>\n",
       "      <td>3</td>\n",
       "      <td>male</td>\n",
       "      <td>8</td>\n",
       "      <td>-888</td>\n",
       "      <td>CA. 2343</td>\n",
       "    </tr>\n",
       "    <tr>\n",
       "      <th>379</th>\n",
       "      <td>5.00</td>\n",
       "      <td>NaN</td>\n",
       "      <td>S</td>\n",
       "      <td>31.3875</td>\n",
       "      <td>Asplund, Master. Carl Edgar</td>\n",
       "      <td>2</td>\n",
       "      <td>1271</td>\n",
       "      <td>3</td>\n",
       "      <td>male</td>\n",
       "      <td>4</td>\n",
       "      <td>-888</td>\n",
       "      <td>347077</td>\n",
       "    </tr>\n",
       "    <tr>\n",
       "      <th>389</th>\n",
       "      <td>6.00</td>\n",
       "      <td>NaN</td>\n",
       "      <td>S</td>\n",
       "      <td>21.0750</td>\n",
       "      <td>Palsson, Master. Paul Folke</td>\n",
       "      <td>1</td>\n",
       "      <td>1281</td>\n",
       "      <td>3</td>\n",
       "      <td>male</td>\n",
       "      <td>3</td>\n",
       "      <td>-888</td>\n",
       "      <td>349909</td>\n",
       "    </tr>\n",
       "    <tr>\n",
       "      <th>392</th>\n",
       "      <td>13.00</td>\n",
       "      <td>NaN</td>\n",
       "      <td>S</td>\n",
       "      <td>20.2500</td>\n",
       "      <td>Abbott, Master. Eugene Joseph</td>\n",
       "      <td>2</td>\n",
       "      <td>1284</td>\n",
       "      <td>3</td>\n",
       "      <td>male</td>\n",
       "      <td>0</td>\n",
       "      <td>-888</td>\n",
       "      <td>C.A. 2673</td>\n",
       "    </tr>\n",
       "    <tr>\n",
       "      <th>409</th>\n",
       "      <td>3.00</td>\n",
       "      <td>NaN</td>\n",
       "      <td>S</td>\n",
       "      <td>13.7750</td>\n",
       "      <td>Peacock, Miss. Treasteall</td>\n",
       "      <td>1</td>\n",
       "      <td>1301</td>\n",
       "      <td>3</td>\n",
       "      <td>female</td>\n",
       "      <td>1</td>\n",
       "      <td>-888</td>\n",
       "      <td>SOTON/O.Q. 3101315</td>\n",
       "    </tr>\n",
       "  </tbody>\n",
       "</table>\n",
       "<p>109 rows × 12 columns</p>\n",
       "</div>"
      ],
      "text/plain": [
       "       Age            Cabin Embarked      Fare  \\\n",
       "7     2.00              NaN        S   21.0750   \n",
       "9    14.00              NaN        C   30.0708   \n",
       "10    4.00               G6        S   16.7000   \n",
       "14   14.00              NaN        S    7.8542   \n",
       "16    2.00              NaN        Q   29.1250   \n",
       "24    8.00              NaN        S   21.0750   \n",
       "39   14.00              NaN        C   11.2417   \n",
       "43    3.00              NaN        C   41.5792   \n",
       "50    7.00              NaN        S   39.6875   \n",
       "58    5.00              NaN        S   27.7500   \n",
       "59   11.00              NaN        S   46.9000   \n",
       "63    4.00              NaN        S   27.9000   \n",
       "78    0.83              NaN        S   29.0000   \n",
       "111  14.50              NaN        C   14.4542   \n",
       "119   2.00              NaN        S   31.2750   \n",
       "125  12.00              NaN        C   11.2417   \n",
       "147   9.00              NaN        S   34.3750   \n",
       "164   1.00              NaN        S   39.6875   \n",
       "165   9.00              NaN        S   20.5250   \n",
       "171   4.00              NaN        Q   29.1250   \n",
       "172   1.00              NaN        S   11.1333   \n",
       "182   9.00              NaN        S   31.3875   \n",
       "183   1.00               F4        S   39.0000   \n",
       "184   4.00              NaN        S   22.0250   \n",
       "193   3.00               F2        S   26.0000   \n",
       "205   2.00               G6        S   10.4625   \n",
       "233   5.00              NaN        S   31.3875   \n",
       "237   8.00              NaN        S   26.2500   \n",
       "261   3.00              NaN        S   31.3875   \n",
       "278   7.00              NaN        Q   29.1250   \n",
       "..     ...              ...      ...       ...   \n",
       "21    9.00              NaN        S    3.1708   \n",
       "55   10.00              NaN        Q   29.1250   \n",
       "64   13.00  B57 B59 B63 B66        C  262.3750   \n",
       "80    6.00              NaN        C   15.2458   \n",
       "89    2.00              NaN        S   23.0000   \n",
       "117   1.00               G6        S   16.7000   \n",
       "120  12.00              NaN        S   15.7500   \n",
       "140  10.00              NaN        S   46.9000   \n",
       "154  13.00              NaN        S   31.3875   \n",
       "161   7.00              NaN        C   15.2458   \n",
       "192  11.50              NaN        S   14.5000   \n",
       "194   8.00              NaN        S   32.5000   \n",
       "196   6.00              E34        C  134.5000   \n",
       "201   0.33              NaN        S   14.4000   \n",
       "203   8.00              NaN        S   26.0000   \n",
       "230  14.00              NaN        S   65.0000   \n",
       "250   0.92              NaN        S   27.7500   \n",
       "263   1.00              NaN        S   12.1833   \n",
       "281   0.75              NaN        S   13.7750   \n",
       "283   9.00              NaN        C   15.2458   \n",
       "284   2.00              NaN        S   20.2125   \n",
       "296   1.00              NaN        C   41.5792   \n",
       "307   0.83              NaN        S    9.3500   \n",
       "326  12.00               F4        S   39.0000   \n",
       "354   0.17              NaN        S   20.5750   \n",
       "360  14.50              NaN        S   69.5500   \n",
       "379   5.00              NaN        S   31.3875   \n",
       "389   6.00              NaN        S   21.0750   \n",
       "392  13.00              NaN        S   20.2500   \n",
       "409   3.00              NaN        S   13.7750   \n",
       "\n",
       "                                                Name  Parch  PassengerId  \\\n",
       "7                     Palsson, Master. Gosta Leonard      1            8   \n",
       "9                Nasser, Mrs. Nicholas (Adele Achem)      0           10   \n",
       "10                   Sandstrom, Miss. Marguerite Rut      1           11   \n",
       "14              Vestrom, Miss. Hulda Amanda Adolfina      0           15   \n",
       "16                              Rice, Master. Eugene      1           17   \n",
       "24                     Palsson, Miss. Torborg Danira      1           25   \n",
       "39                       Nicola-Yarred, Miss. Jamila      0           40   \n",
       "43          Laroche, Miss. Simonne Marie Anne Andree      2           44   \n",
       "50                        Panula, Master. Juha Niilo      1           51   \n",
       "58                      West, Miss. Constance Mirium      2           59   \n",
       "59                Goodwin, Master. William Frederick      2           60   \n",
       "63                             Skoog, Master. Harald      2           64   \n",
       "78                     Caldwell, Master. Alden Gates      2           79   \n",
       "111                             Zabour, Miss. Hileni      0          112   \n",
       "119                Andersson, Miss. Ellis Anna Maria      2          120   \n",
       "125                     Nicola-Yarred, Master. Elias      0          126   \n",
       "147                 Ford, Miss. Robina Maggie \"Ruby\"      2          148   \n",
       "164                     Panula, Master. Eino Viljami      1          165   \n",
       "165  Goldsmith, Master. Frank John William \"Frankie\"      2          166   \n",
       "171                             Rice, Master. Arthur      1          172   \n",
       "172                     Johnson, Miss. Eleanor Ileen      1          173   \n",
       "182            Asplund, Master. Clarence Gustaf Hugo      2          183   \n",
       "183                        Becker, Master. Richard F      1          184   \n",
       "184              Kink-Heilmann, Miss. Luise Gretchen      2          185   \n",
       "193                       Navratil, Master. Michel M      1          194   \n",
       "205                       Strom, Miss. Telma Matilda      1          206   \n",
       "233                   Asplund, Miss. Lillian Gertrud      2          234   \n",
       "237                 Collyer, Miss. Marjorie \"Lottie\"      2          238   \n",
       "261                Asplund, Master. Edvin Rojj Felix      2          262   \n",
       "278                               Rice, Master. Eric      1          279   \n",
       "..                                               ...    ...          ...   \n",
       "21                         Olsen, Master. Artur Karl      1          913   \n",
       "55                              Rice, Master. Albert      1          947   \n",
       "64                       Ryerson, Master. John Borie      2          956   \n",
       "80                              Boulos, Master. Akar      1          972   \n",
       "89                       Wells, Master. Ralph Lester      1          981   \n",
       "117                  Sandstrom, Miss. Beatrice Irene      1         1009   \n",
       "120                             Watt, Miss. Bertha J      0         1012   \n",
       "140                      Goodwin, Miss. Jessie Allis      2         1032   \n",
       "154                     Asplund, Master. Filip Oscar      2         1046   \n",
       "161                   Touma, Master. Georges Youssef      1         1053   \n",
       "192                van Billiard, Master. Walter John      1         1084   \n",
       "194                    Drew, Master. Marshall Brines      2         1086   \n",
       "196                  Spedden, Master. Robert Douglas      2         1088   \n",
       "201          Danbom, Master. Gilbert Sigvard Emanuel      2         1093   \n",
       "203                       Quick, Miss. Winifred Vera      1         1095   \n",
       "230                      Sweet, Mr. George Frederick      0         1122   \n",
       "250                            West, Miss. Barbara J      2         1142   \n",
       "263                     Klasen, Miss. Gertrud Emilia      1         1155   \n",
       "281                   Peacock, Master. Alfred Edward      1         1173   \n",
       "283                       Touma, Miss. Maria Youssef      1         1175   \n",
       "284                      Rosblom, Miss. Salli Helena      1         1176   \n",
       "296                            Laroche, Miss. Louise      2         1188   \n",
       "307                        Aks, Master. Philip Frank      1         1199   \n",
       "326                     Becker, Miss. Ruth Elizabeth      1         1218   \n",
       "354          Dean, Miss. Elizabeth Gladys Millvina\"\"      2         1246   \n",
       "360                      Sage, Master. William Henry      2         1252   \n",
       "379                      Asplund, Master. Carl Edgar      2         1271   \n",
       "389                      Palsson, Master. Paul Folke      1         1281   \n",
       "392                    Abbott, Master. Eugene Joseph      2         1284   \n",
       "409                        Peacock, Miss. Treasteall      1         1301   \n",
       "\n",
       "     Pclass     Sex  SibSp  Survived              Ticket  \n",
       "7         3    male      3         0              349909  \n",
       "9         2  female      1         1              237736  \n",
       "10        3  female      1         1             PP 9549  \n",
       "14        3  female      0         0              350406  \n",
       "16        3    male      4         0              382652  \n",
       "24        3  female      3         0              349909  \n",
       "39        3  female      1         1                2651  \n",
       "43        2  female      1         1       SC/Paris 2123  \n",
       "50        3    male      4         0             3101295  \n",
       "58        2  female      1         1          C.A. 34651  \n",
       "59        3    male      5         0             CA 2144  \n",
       "63        3    male      3         0              347088  \n",
       "78        2    male      0         1              248738  \n",
       "111       3  female      1         0                2665  \n",
       "119       3  female      4         0              347082  \n",
       "125       3    male      1         1                2651  \n",
       "147       3  female      2         0          W./C. 6608  \n",
       "164       3    male      4         0             3101295  \n",
       "165       3    male      0         1              363291  \n",
       "171       3    male      4         0              382652  \n",
       "172       3  female      1         1              347742  \n",
       "182       3    male      4         0              347077  \n",
       "183       2    male      2         1              230136  \n",
       "184       3  female      0         1              315153  \n",
       "193       2    male      1         1              230080  \n",
       "205       3  female      0         0              347054  \n",
       "233       3  female      4         1              347077  \n",
       "237       2  female      0         1          C.A. 31921  \n",
       "261       3    male      4         1              347077  \n",
       "278       3    male      4         0              382652  \n",
       "..      ...     ...    ...       ...                 ...  \n",
       "21        3    male      0      -888             C 17368  \n",
       "55        3    male      4      -888              382652  \n",
       "64        1    male      2      -888            PC 17608  \n",
       "80        3    male      1      -888                2678  \n",
       "89        2    male      1      -888               29103  \n",
       "117       3  female      1      -888             PP 9549  \n",
       "120       2  female      0      -888          C.A. 33595  \n",
       "140       3  female      5      -888             CA 2144  \n",
       "154       3    male      4      -888              347077  \n",
       "161       3    male      1      -888                2650  \n",
       "192       3    male      1      -888            A/5. 851  \n",
       "194       2    male      0      -888               28220  \n",
       "196       1    male      0      -888               16966  \n",
       "201       3    male      0      -888              347080  \n",
       "203       2  female      1      -888               26360  \n",
       "230       2    male      0      -888              220845  \n",
       "250       2  female      1      -888          C.A. 34651  \n",
       "263       3  female      1      -888              350405  \n",
       "281       3    male      1      -888  SOTON/O.Q. 3101315  \n",
       "283       3  female      1      -888                2650  \n",
       "284       3  female      1      -888              370129  \n",
       "296       2  female      1      -888       SC/Paris 2123  \n",
       "307       3    male      0      -888              392091  \n",
       "326       2  female      2      -888              230136  \n",
       "354       3  female      1      -888           C.A. 2315  \n",
       "360       3    male      8      -888            CA. 2343  \n",
       "379       3    male      4      -888              347077  \n",
       "389       3    male      3      -888              349909  \n",
       "392       3    male      0      -888           C.A. 2673  \n",
       "409       3  female      1      -888  SOTON/O.Q. 3101315  \n",
       "\n",
       "[109 rows x 12 columns]"
      ]
     },
     "execution_count": 7,
     "metadata": {},
     "output_type": "execute_result"
    }
   ],
   "source": [
    "# Experimenting with indexing functions\n",
    "df.loc[df['Age'] < 15, :]"
   ]
  },
  {
   "cell_type": "code",
   "execution_count": 8,
   "metadata": {},
   "outputs": [
    {
     "data": {
      "text/html": [
       "<div>\n",
       "<style>\n",
       "    .dataframe thead tr:only-child th {\n",
       "        text-align: right;\n",
       "    }\n",
       "\n",
       "    .dataframe thead th {\n",
       "        text-align: left;\n",
       "    }\n",
       "\n",
       "    .dataframe tbody tr th {\n",
       "        vertical-align: top;\n",
       "    }\n",
       "</style>\n",
       "<table border=\"1\" class=\"dataframe\">\n",
       "  <thead>\n",
       "    <tr style=\"text-align: right;\">\n",
       "      <th></th>\n",
       "      <th>Age</th>\n",
       "      <th>Fare</th>\n",
       "      <th>Parch</th>\n",
       "      <th>PassengerId</th>\n",
       "      <th>Pclass</th>\n",
       "      <th>SibSp</th>\n",
       "      <th>Survived</th>\n",
       "    </tr>\n",
       "  </thead>\n",
       "  <tbody>\n",
       "    <tr>\n",
       "      <th>count</th>\n",
       "      <td>1046.000000</td>\n",
       "      <td>1308.000000</td>\n",
       "      <td>1309.000000</td>\n",
       "      <td>1309.000000</td>\n",
       "      <td>1309.000000</td>\n",
       "      <td>1309.000000</td>\n",
       "      <td>1309.000000</td>\n",
       "    </tr>\n",
       "    <tr>\n",
       "      <th>mean</th>\n",
       "      <td>29.881138</td>\n",
       "      <td>33.295479</td>\n",
       "      <td>0.385027</td>\n",
       "      <td>655.000000</td>\n",
       "      <td>2.294882</td>\n",
       "      <td>0.498854</td>\n",
       "      <td>-283.301757</td>\n",
       "    </tr>\n",
       "    <tr>\n",
       "      <th>std</th>\n",
       "      <td>14.413493</td>\n",
       "      <td>51.758668</td>\n",
       "      <td>0.865560</td>\n",
       "      <td>378.020061</td>\n",
       "      <td>0.837836</td>\n",
       "      <td>1.041658</td>\n",
       "      <td>414.337413</td>\n",
       "    </tr>\n",
       "    <tr>\n",
       "      <th>min</th>\n",
       "      <td>0.170000</td>\n",
       "      <td>0.000000</td>\n",
       "      <td>0.000000</td>\n",
       "      <td>1.000000</td>\n",
       "      <td>1.000000</td>\n",
       "      <td>0.000000</td>\n",
       "      <td>-888.000000</td>\n",
       "    </tr>\n",
       "    <tr>\n",
       "      <th>25%</th>\n",
       "      <td>21.000000</td>\n",
       "      <td>7.895800</td>\n",
       "      <td>0.000000</td>\n",
       "      <td>328.000000</td>\n",
       "      <td>2.000000</td>\n",
       "      <td>0.000000</td>\n",
       "      <td>-888.000000</td>\n",
       "    </tr>\n",
       "    <tr>\n",
       "      <th>50%</th>\n",
       "      <td>28.000000</td>\n",
       "      <td>14.454200</td>\n",
       "      <td>0.000000</td>\n",
       "      <td>655.000000</td>\n",
       "      <td>3.000000</td>\n",
       "      <td>0.000000</td>\n",
       "      <td>0.000000</td>\n",
       "    </tr>\n",
       "    <tr>\n",
       "      <th>75%</th>\n",
       "      <td>39.000000</td>\n",
       "      <td>31.275000</td>\n",
       "      <td>0.000000</td>\n",
       "      <td>982.000000</td>\n",
       "      <td>3.000000</td>\n",
       "      <td>1.000000</td>\n",
       "      <td>1.000000</td>\n",
       "    </tr>\n",
       "    <tr>\n",
       "      <th>max</th>\n",
       "      <td>80.000000</td>\n",
       "      <td>512.329200</td>\n",
       "      <td>9.000000</td>\n",
       "      <td>1309.000000</td>\n",
       "      <td>3.000000</td>\n",
       "      <td>8.000000</td>\n",
       "      <td>1.000000</td>\n",
       "    </tr>\n",
       "  </tbody>\n",
       "</table>\n",
       "</div>"
      ],
      "text/plain": [
       "               Age         Fare        Parch  PassengerId       Pclass  \\\n",
       "count  1046.000000  1308.000000  1309.000000  1309.000000  1309.000000   \n",
       "mean     29.881138    33.295479     0.385027   655.000000     2.294882   \n",
       "std      14.413493    51.758668     0.865560   378.020061     0.837836   \n",
       "min       0.170000     0.000000     0.000000     1.000000     1.000000   \n",
       "25%      21.000000     7.895800     0.000000   328.000000     2.000000   \n",
       "50%      28.000000    14.454200     0.000000   655.000000     3.000000   \n",
       "75%      39.000000    31.275000     0.000000   982.000000     3.000000   \n",
       "max      80.000000   512.329200     9.000000  1309.000000     3.000000   \n",
       "\n",
       "             SibSp     Survived  \n",
       "count  1309.000000  1309.000000  \n",
       "mean      0.498854  -283.301757  \n",
       "std       1.041658   414.337413  \n",
       "min       0.000000  -888.000000  \n",
       "25%       0.000000  -888.000000  \n",
       "50%       0.000000     0.000000  \n",
       "75%       1.000000     1.000000  \n",
       "max       8.000000     1.000000  "
      ]
     },
     "execution_count": 8,
     "metadata": {},
     "output_type": "execute_result"
    }
   ],
   "source": [
    "df.describe()"
   ]
  },
  {
   "cell_type": "code",
   "execution_count": 9,
   "metadata": {},
   "outputs": [
    {
     "name": "stdout",
     "output_type": "stream",
     "text": [
      "Mean of fare: 33.2954792813456\n",
      "Median of fare: 14.4542\n"
     ]
    }
   ],
   "source": [
    "# Numerical features\n",
    "# Centrality measures\n",
    "print(f\"Mean of fare: {df.Fare.mean()}\")\n",
    "print(f\"Median of fare: {df.Fare.median()}\")"
   ]
  },
  {
   "cell_type": "code",
   "execution_count": 10,
   "metadata": {},
   "outputs": [
    {
     "name": "stdout",
     "output_type": "stream",
     "text": [
      "Range of fare: 512.3292\n",
      "25 percentile of fare: 7.8958\n",
      "50 fare: 14.4542\n",
      "Variance of fare: 2678.959737892894\n",
      "Standard deviation of fare: 51.75866823917414\n"
     ]
    }
   ],
   "source": [
    "print(f\"Range of fare: {df.Fare.max() - df['Fare'].min()}\")\n",
    "print(f\"25 percentile of fare: {df.Fare.quantile(.25)}\") # Percentiles can be broken into 4 parts - quartiles\n",
    "print(f\"50 fare: {df.Fare.quantile(.5)}\")\n",
    "print(f\"Variance of fare: {df.Fare.var()}\")\n",
    "print(f\"Standard deviation of fare: {df.Fare.std()}\")"
   ]
  },
  {
   "cell_type": "code",
   "execution_count": 11,
   "metadata": {
    "collapsed": true
   },
   "outputs": [],
   "source": [
    "%matplotlib inline"
   ]
  },
  {
   "cell_type": "code",
   "execution_count": 12,
   "metadata": {},
   "outputs": [
    {
     "data": {
      "image/png": "[encoded data removed]",
      "text/plain": [
       "<Figure size 720x504 with 1 Axes>"
      ]
     },
     "metadata": {},
     "output_type": "display_data"
    }
   ],
   "source": [
    "# box-whisker plot\n",
    "df.Fare.plot(kind='box', figsize=(10,7));"
   ]
  },
  {
   "cell_type": "code",
   "execution_count": 13,
   "metadata": {},
   "outputs": [
    {
     "data": {
      "text/html": [
       "<div>\n",
       "<style>\n",
       "    .dataframe thead tr:only-child th {\n",
       "        text-align: right;\n",
       "    }\n",
       "\n",
       "    .dataframe thead th {\n",
       "        text-align: left;\n",
       "    }\n",
       "\n",
       "    .dataframe tbody tr th {\n",
       "        vertical-align: top;\n",
       "    }\n",
       "</style>\n",
       "<table border=\"1\" class=\"dataframe\">\n",
       "  <thead>\n",
       "    <tr style=\"text-align: right;\">\n",
       "      <th></th>\n",
       "      <th>Age</th>\n",
       "      <th>Cabin</th>\n",
       "      <th>Embarked</th>\n",
       "      <th>Fare</th>\n",
       "      <th>Name</th>\n",
       "      <th>Parch</th>\n",
       "      <th>PassengerId</th>\n",
       "      <th>Pclass</th>\n",
       "      <th>Sex</th>\n",
       "      <th>SibSp</th>\n",
       "      <th>Survived</th>\n",
       "      <th>Ticket</th>\n",
       "    </tr>\n",
       "  </thead>\n",
       "  <tbody>\n",
       "    <tr>\n",
       "      <th>count</th>\n",
       "      <td>1046.000000</td>\n",
       "      <td>295</td>\n",
       "      <td>1307</td>\n",
       "      <td>1308.000000</td>\n",
       "      <td>1309</td>\n",
       "      <td>1309.000000</td>\n",
       "      <td>1309.000000</td>\n",
       "      <td>1309.000000</td>\n",
       "      <td>1309</td>\n",
       "      <td>1309.000000</td>\n",
       "      <td>1309.000000</td>\n",
       "      <td>1309</td>\n",
       "    </tr>\n",
       "    <tr>\n",
       "      <th>unique</th>\n",
       "      <td>NaN</td>\n",
       "      <td>186</td>\n",
       "      <td>3</td>\n",
       "      <td>NaN</td>\n",
       "      <td>1307</td>\n",
       "      <td>NaN</td>\n",
       "      <td>NaN</td>\n",
       "      <td>NaN</td>\n",
       "      <td>2</td>\n",
       "      <td>NaN</td>\n",
       "      <td>NaN</td>\n",
       "      <td>929</td>\n",
       "    </tr>\n",
       "    <tr>\n",
       "      <th>top</th>\n",
       "      <td>NaN</td>\n",
       "      <td>C23 C25 C27</td>\n",
       "      <td>S</td>\n",
       "      <td>NaN</td>\n",
       "      <td>Connolly, Miss. Kate</td>\n",
       "      <td>NaN</td>\n",
       "      <td>NaN</td>\n",
       "      <td>NaN</td>\n",
       "      <td>male</td>\n",
       "      <td>NaN</td>\n",
       "      <td>NaN</td>\n",
       "      <td>CA. 2343</td>\n",
       "    </tr>\n",
       "    <tr>\n",
       "      <th>freq</th>\n",
       "      <td>NaN</td>\n",
       "      <td>6</td>\n",
       "      <td>914</td>\n",
       "      <td>NaN</td>\n",
       "      <td>2</td>\n",
       "      <td>NaN</td>\n",
       "      <td>NaN</td>\n",
       "      <td>NaN</td>\n",
       "      <td>843</td>\n",
       "      <td>NaN</td>\n",
       "      <td>NaN</td>\n",
       "      <td>11</td>\n",
       "    </tr>\n",
       "    <tr>\n",
       "      <th>mean</th>\n",
       "      <td>29.881138</td>\n",
       "      <td>NaN</td>\n",
       "      <td>NaN</td>\n",
       "      <td>33.295479</td>\n",
       "      <td>NaN</td>\n",
       "      <td>0.385027</td>\n",
       "      <td>655.000000</td>\n",
       "      <td>2.294882</td>\n",
       "      <td>NaN</td>\n",
       "      <td>0.498854</td>\n",
       "      <td>-283.301757</td>\n",
       "      <td>NaN</td>\n",
       "    </tr>\n",
       "    <tr>\n",
       "      <th>std</th>\n",
       "      <td>14.413493</td>\n",
       "      <td>NaN</td>\n",
       "      <td>NaN</td>\n",
       "      <td>51.758668</td>\n",
       "      <td>NaN</td>\n",
       "      <td>0.865560</td>\n",
       "      <td>378.020061</td>\n",
       "      <td>0.837836</td>\n",
       "      <td>NaN</td>\n",
       "      <td>1.041658</td>\n",
       "      <td>414.337413</td>\n",
       "      <td>NaN</td>\n",
       "    </tr>\n",
       "    <tr>\n",
       "      <th>min</th>\n",
       "      <td>0.170000</td>\n",
       "      <td>NaN</td>\n",
       "      <td>NaN</td>\n",
       "      <td>0.000000</td>\n",
       "      <td>NaN</td>\n",
       "      <td>0.000000</td>\n",
       "      <td>1.000000</td>\n",
       "      <td>1.000000</td>\n",
       "      <td>NaN</td>\n",
       "      <td>0.000000</td>\n",
       "      <td>-888.000000</td>\n",
       "      <td>NaN</td>\n",
       "    </tr>\n",
       "    <tr>\n",
       "      <th>25%</th>\n",
       "      <td>21.000000</td>\n",
       "      <td>NaN</td>\n",
       "      <td>NaN</td>\n",
       "      <td>7.895800</td>\n",
       "      <td>NaN</td>\n",
       "      <td>0.000000</td>\n",
       "      <td>328.000000</td>\n",
       "      <td>2.000000</td>\n",
       "      <td>NaN</td>\n",
       "      <td>0.000000</td>\n",
       "      <td>-888.000000</td>\n",
       "      <td>NaN</td>\n",
       "    </tr>\n",
       "    <tr>\n",
       "      <th>50%</th>\n",
       "      <td>28.000000</td>\n",
       "      <td>NaN</td>\n",
       "      <td>NaN</td>\n",
       "      <td>14.454200</td>\n",
       "      <td>NaN</td>\n",
       "      <td>0.000000</td>\n",
       "      <td>655.000000</td>\n",
       "      <td>3.000000</td>\n",
       "      <td>NaN</td>\n",
       "      <td>0.000000</td>\n",
       "      <td>0.000000</td>\n",
       "      <td>NaN</td>\n",
       "    </tr>\n",
       "    <tr>\n",
       "      <th>75%</th>\n",
       "      <td>39.000000</td>\n",
       "      <td>NaN</td>\n",
       "      <td>NaN</td>\n",
       "      <td>31.275000</td>\n",
       "      <td>NaN</td>\n",
       "      <td>0.000000</td>\n",
       "      <td>982.000000</td>\n",
       "      <td>3.000000</td>\n",
       "      <td>NaN</td>\n",
       "      <td>1.000000</td>\n",
       "      <td>1.000000</td>\n",
       "      <td>NaN</td>\n",
       "    </tr>\n",
       "    <tr>\n",
       "      <th>max</th>\n",
       "      <td>80.000000</td>\n",
       "      <td>NaN</td>\n",
       "      <td>NaN</td>\n",
       "      <td>512.329200</td>\n",
       "      <td>NaN</td>\n",
       "      <td>9.000000</td>\n",
       "      <td>1309.000000</td>\n",
       "      <td>3.000000</td>\n",
       "      <td>NaN</td>\n",
       "      <td>8.000000</td>\n",
       "      <td>1.000000</td>\n",
       "      <td>NaN</td>\n",
       "    </tr>\n",
       "  </tbody>\n",
       "</table>\n",
       "</div>"
      ],
      "text/plain": [
       "                Age        Cabin Embarked         Fare                  Name  \\\n",
       "count   1046.000000          295     1307  1308.000000                  1309   \n",
       "unique          NaN          186        3          NaN                  1307   \n",
       "top             NaN  C23 C25 C27        S          NaN  Connolly, Miss. Kate   \n",
       "freq            NaN            6      914          NaN                     2   \n",
       "mean      29.881138          NaN      NaN    33.295479                   NaN   \n",
       "std       14.413493          NaN      NaN    51.758668                   NaN   \n",
       "min        0.170000          NaN      NaN     0.000000                   NaN   \n",
       "25%       21.000000          NaN      NaN     7.895800                   NaN   \n",
       "50%       28.000000          NaN      NaN    14.454200                   NaN   \n",
       "75%       39.000000          NaN      NaN    31.275000                   NaN   \n",
       "max       80.000000          NaN      NaN   512.329200                   NaN   \n",
       "\n",
       "              Parch  PassengerId       Pclass   Sex        SibSp     Survived  \\\n",
       "count   1309.000000  1309.000000  1309.000000  1309  1309.000000  1309.000000   \n",
       "unique          NaN          NaN          NaN     2          NaN          NaN   \n",
       "top             NaN          NaN          NaN  male          NaN          NaN   \n",
       "freq            NaN          NaN          NaN   843          NaN          NaN   \n",
       "mean       0.385027   655.000000     2.294882   NaN     0.498854  -283.301757   \n",
       "std        0.865560   378.020061     0.837836   NaN     1.041658   414.337413   \n",
       "min        0.000000     1.000000     1.000000   NaN     0.000000  -888.000000   \n",
       "25%        0.000000   328.000000     2.000000   NaN     0.000000  -888.000000   \n",
       "50%        0.000000   655.000000     3.000000   NaN     0.000000     0.000000   \n",
       "75%        0.000000   982.000000     3.000000   NaN     1.000000     1.000000   \n",
       "max        9.000000  1309.000000     3.000000   NaN     8.000000     1.000000   \n",
       "\n",
       "          Ticket  \n",
       "count       1309  \n",
       "unique       929  \n",
       "top     CA. 2343  \n",
       "freq          11  \n",
       "mean         NaN  \n",
       "std          NaN  \n",
       "min          NaN  \n",
       "25%          NaN  \n",
       "50%          NaN  \n",
       "75%          NaN  \n",
       "max          NaN  "
      ]
     },
     "execution_count": 13,
     "metadata": {},
     "output_type": "execute_result"
    }
   ],
   "source": [
    "# We can use decsribe(include='all') to get insights on categorical columns as well\n",
    "df.describe(include='all')"
   ]
  },
  {
   "cell_type": "code",
   "execution_count": 14,
   "metadata": {},
   "outputs": [
    {
     "data": {
      "text/plain": [
       "male      843\n",
       "female    466\n",
       "Name: Sex, dtype: int64"
      ]
     },
     "execution_count": 14,
     "metadata": {},
     "output_type": "execute_result"
    }
   ],
   "source": [
    "# Categorical count\n",
    "df.Sex.value_counts()"
   ]
  },
  {
   "cell_type": "code",
   "execution_count": 15,
   "metadata": {},
   "outputs": [
    {
     "data": {
      "text/plain": [
       "male      0.644003\n",
       "female    0.355997\n",
       "Name: Sex, dtype: float64"
      ]
     },
     "execution_count": 15,
     "metadata": {},
     "output_type": "execute_result"
    }
   ],
   "source": [
    "# Proportions\n",
    "df.Sex.value_counts(normalize=True)"
   ]
  },
  {
   "cell_type": "code",
   "execution_count": 16,
   "metadata": {},
   "outputs": [
    {
     "data": {
      "text/plain": [
       "0    549\n",
       "1    342\n",
       "Name: Survived, dtype: int64"
      ]
     },
     "execution_count": 16,
     "metadata": {},
     "output_type": "execute_result"
    }
   ],
   "source": [
    "df[df.Survived != -888].Survived.value_counts()"
   ]
  },
  {
   "cell_type": "code",
   "execution_count": 17,
   "metadata": {},
   "outputs": [
    {
     "data": {
      "text/plain": [
       "3    709\n",
       "1    323\n",
       "2    277\n",
       "Name: Pclass, dtype: int64"
      ]
     },
     "execution_count": 17,
     "metadata": {},
     "output_type": "execute_result"
    }
   ],
   "source": [
    "df.Pclass.value_counts()"
   ]
  },
  {
   "cell_type": "code",
   "execution_count": 18,
   "metadata": {},
   "outputs": [
    {
     "data": {
      "image/png": "[encoded data removed]",
      "text/plain": [
       "<Figure size 432x288 with 1 Axes>"
      ]
     },
     "metadata": {},
     "output_type": "display_data"
    }
   ],
   "source": [
    "df.Pclass.value_counts().plot(kind='bar', rot=0, title='Passengers\\' class distribution', color='c');"
   ]
  },
  {
   "cell_type": "markdown",
   "metadata": {},
   "source": [
    "## Distributions"
   ]
  },
  {
   "cell_type": "code",
   "execution_count": 19,
   "metadata": {},
   "outputs": [
    {
     "data": {
      "image/png": "[encoded data removed]",
      "text/plain": [
       "<Figure size 720x504 with 1 Axes>"
      ]
     },
     "metadata": {},
     "output_type": "display_data"
    }
   ],
   "source": [
    "# histogram\n",
    "df.Age.plot(kind='hist', title='Age Histogram', color='y', edgecolor='black', bins=20, figsize=(10,7));"
   ]
  },
  {
   "cell_type": "code",
   "execution_count": 20,
   "metadata": {},
   "outputs": [
    {
     "data": {
      "image/png": "[encoded data removed]",
      "text/plain": [
       "<Figure size 720x504 with 1 Axes>"
      ]
     },
     "metadata": {},
     "output_type": "display_data"
    }
   ],
   "source": [
    "# Kernel Density Estimation\n",
    "df.Age.plot(kind='kde', title='KDE for Age', color='r', figsize=(10,7));"
   ]
  },
  {
   "cell_type": "code",
   "execution_count": 21,
   "metadata": {},
   "outputs": [
    {
     "data": {
      "image/png": "[encoded data removed]",
      "text/plain": [
       "<Figure size 720x504 with 1 Axes>"
      ]
     },
     "metadata": {},
     "output_type": "display_data"
    }
   ],
   "source": [
    "df.Fare.plot(kind='hist', edgecolor='black', figsize=(10,7));"
   ]
  },
  {
   "cell_type": "code",
   "execution_count": 22,
   "metadata": {},
   "outputs": [
    {
     "name": "stdout",
     "output_type": "stream",
     "text": [
      "Skewness for Age: 0.40767455974362266\n",
      "Skewness for Fare: 4.367709134122922\n"
     ]
    }
   ],
   "source": [
    "print(f\"Skewness for Age: {df.Age.skew()}\")\n",
    "print(f\"Skewness for Fare: {df.Fare.skew()}\")"
   ]
  },
  {
   "cell_type": "code",
   "execution_count": 23,
   "metadata": {},
   "outputs": [
    {
     "data": {
      "image/png": "[encoded data removed]",
      "text/plain": [
       "<Figure size 720x504 with 1 Axes>"
      ]
     },
     "metadata": {},
     "output_type": "display_data"
    }
   ],
   "source": [
    "# Scatterplot\n",
    "df.plot.scatter(x='Age', y='Fare', color='green', edgecolor='black', title='Age vs Fare Scatterplot', figsize=(10,7));"
   ]
  },
  {
   "cell_type": "code",
   "execution_count": 24,
   "metadata": {},
   "outputs": [
    {
     "data": {
      "image/png": "[encoded data removed]",
      "text/plain": [
       "<Figure size 720x504 with 1 Axes>"
      ]
     },
     "metadata": {},
     "output_type": "display_data"
    }
   ],
   "source": [
    "df.plot.scatter(x='Age', y='Fare', color='green', edgecolor='black', title='Age vs Fare Scatterplot', alpha=0.1, figsize=(10,7));"
   ]
  },
  {
   "cell_type": "code",
   "execution_count": 25,
   "metadata": {},
   "outputs": [
    {
     "data": {
      "image/png": "[encoded data removed]",
      "text/plain": [
       "<Figure size 720x504 with 1 Axes>"
      ]
     },
     "metadata": {},
     "output_type": "display_data"
    }
   ],
   "source": [
    "df.plot.scatter(x='Pclass', y='Fare', color='green', edgecolor='b', title='Age vs Fare Scatterplot', alpha=.15, figsize=(10,7));"
   ]
  },
  {
   "cell_type": "code",
   "execution_count": 26,
   "metadata": {},
   "outputs": [
    {
     "data": {
      "text/plain": [
       "Sex\n",
       "female    27.0\n",
       "male      28.0\n",
       "Name: Age, dtype: float64"
      ]
     },
     "execution_count": 26,
     "metadata": {},
     "output_type": "execute_result"
    }
   ],
   "source": [
    "# Grouping and aggregations\n",
    "df.groupby('Sex').Age.median()"
   ]
  },
  {
   "cell_type": "code",
   "execution_count": 27,
   "metadata": {},
   "outputs": [
    {
     "data": {
      "text/html": [
       "<div>\n",
       "<style>\n",
       "    .dataframe thead tr:only-child th {\n",
       "        text-align: right;\n",
       "    }\n",
       "\n",
       "    .dataframe thead th {\n",
       "        text-align: left;\n",
       "    }\n",
       "\n",
       "    .dataframe tbody tr th {\n",
       "        vertical-align: top;\n",
       "    }\n",
       "</style>\n",
       "<table border=\"1\" class=\"dataframe\">\n",
       "  <thead>\n",
       "    <tr style=\"text-align: right;\">\n",
       "      <th></th>\n",
       "      <th>Fare</th>\n",
       "      <th>Age</th>\n",
       "    </tr>\n",
       "    <tr>\n",
       "      <th>Sex</th>\n",
       "      <th></th>\n",
       "      <th></th>\n",
       "    </tr>\n",
       "  </thead>\n",
       "  <tbody>\n",
       "    <tr>\n",
       "      <th>female</th>\n",
       "      <td>23.0000</td>\n",
       "      <td>27.0</td>\n",
       "    </tr>\n",
       "    <tr>\n",
       "      <th>male</th>\n",
       "      <td>11.8875</td>\n",
       "      <td>28.0</td>\n",
       "    </tr>\n",
       "  </tbody>\n",
       "</table>\n",
       "</div>"
      ],
      "text/plain": [
       "           Fare   Age\n",
       "Sex                  \n",
       "female  23.0000  27.0\n",
       "male    11.8875  28.0"
      ]
     },
     "execution_count": 27,
     "metadata": {},
     "output_type": "execute_result"
    }
   ],
   "source": [
    "df.groupby('Sex')['Fare', 'Age'].median()"
   ]
  },
  {
   "cell_type": "code",
   "execution_count": 28,
   "metadata": {},
   "outputs": [
    {
     "data": {
      "text/html": [
       "<div>\n",
       "<style>\n",
       "    .dataframe thead tr:only-child th {\n",
       "        text-align: right;\n",
       "    }\n",
       "\n",
       "    .dataframe thead th {\n",
       "        text-align: left;\n",
       "    }\n",
       "\n",
       "    .dataframe tbody tr th {\n",
       "        vertical-align: top;\n",
       "    }\n",
       "</style>\n",
       "<table border=\"1\" class=\"dataframe\">\n",
       "  <thead>\n",
       "    <tr style=\"text-align: right;\">\n",
       "      <th></th>\n",
       "      <th>Fare</th>\n",
       "      <th>Age</th>\n",
       "    </tr>\n",
       "    <tr>\n",
       "      <th>Pclass</th>\n",
       "      <th></th>\n",
       "      <th></th>\n",
       "    </tr>\n",
       "  </thead>\n",
       "  <tbody>\n",
       "    <tr>\n",
       "      <th>1</th>\n",
       "      <td>87.508992</td>\n",
       "      <td>39.0</td>\n",
       "    </tr>\n",
       "    <tr>\n",
       "      <th>2</th>\n",
       "      <td>21.179196</td>\n",
       "      <td>29.0</td>\n",
       "    </tr>\n",
       "    <tr>\n",
       "      <th>3</th>\n",
       "      <td>13.302889</td>\n",
       "      <td>24.0</td>\n",
       "    </tr>\n",
       "  </tbody>\n",
       "</table>\n",
       "</div>"
      ],
      "text/plain": [
       "             Fare   Age\n",
       "Pclass                 \n",
       "1       87.508992  39.0\n",
       "2       21.179196  29.0\n",
       "3       13.302889  24.0"
      ]
     },
     "execution_count": 28,
     "metadata": {},
     "output_type": "execute_result"
    }
   ],
   "source": [
    "df.groupby(['Pclass']).agg({'Fare' : 'mean', 'Age' : 'median'})"
   ]
  },
  {
   "cell_type": "code",
   "execution_count": 29,
   "metadata": {
    "collapsed": true
   },
   "outputs": [],
   "source": [
    "# Some complicated aggregations using dictionary of aggregations\n",
    "\n",
    "aggregations = {\n",
    "    'Fare' : {\n",
    "        'mean_Fare' : 'mean',\n",
    "        'median_Fare' : 'median',\n",
    "        'max_Fare' : max,\n",
    "        'min_Fare' : min\n",
    "    },\n",
    "    \n",
    "    'Age' : {\n",
    "        'mean_Age' : 'mean',\n",
    "        'median_Age' : 'median',\n",
    "        'max_Age' : 'max',\n",
    "        'range_Age' : lambda x: x.max() - x.min()\n",
    "    }\n",
    "}"
   ]
  },
  {
   "cell_type": "code",
   "execution_count": 30,
   "metadata": {},
   "outputs": [
    {
     "name": "stderr",
     "output_type": "stream",
     "text": [
      "C:\\Anaconda3\\lib\\site-packages\\pandas\\core\\groupby.py:4036: FutureWarning: using a dict with renaming is deprecated and will be removed in a future version\n",
      "  return super(DataFrameGroupBy, self).aggregate(arg, *args, **kwargs)\n"
     ]
    },
    {
     "data": {
      "text/html": [
       "<div>\n",
       "<style>\n",
       "    .dataframe thead tr:only-child th {\n",
       "        text-align: right;\n",
       "    }\n",
       "\n",
       "    .dataframe thead th {\n",
       "        text-align: left;\n",
       "    }\n",
       "\n",
       "    .dataframe tbody tr th {\n",
       "        vertical-align: top;\n",
       "    }\n",
       "</style>\n",
       "<table border=\"1\" class=\"dataframe\">\n",
       "  <thead>\n",
       "    <tr>\n",
       "      <th></th>\n",
       "      <th colspan=\"4\" halign=\"left\">Fare</th>\n",
       "      <th colspan=\"4\" halign=\"left\">Age</th>\n",
       "    </tr>\n",
       "    <tr>\n",
       "      <th></th>\n",
       "      <th>mean_Fare</th>\n",
       "      <th>median_Fare</th>\n",
       "      <th>max_Fare</th>\n",
       "      <th>min_Fare</th>\n",
       "      <th>mean_Age</th>\n",
       "      <th>median_Age</th>\n",
       "      <th>max_Age</th>\n",
       "      <th>range_Age</th>\n",
       "    </tr>\n",
       "    <tr>\n",
       "      <th>Pclass</th>\n",
       "      <th></th>\n",
       "      <th></th>\n",
       "      <th></th>\n",
       "      <th></th>\n",
       "      <th></th>\n",
       "      <th></th>\n",
       "      <th></th>\n",
       "      <th></th>\n",
       "    </tr>\n",
       "  </thead>\n",
       "  <tbody>\n",
       "    <tr>\n",
       "      <th>1</th>\n",
       "      <td>87.508992</td>\n",
       "      <td>60.0000</td>\n",
       "      <td>512.3292</td>\n",
       "      <td>0.0</td>\n",
       "      <td>39.159930</td>\n",
       "      <td>39.0</td>\n",
       "      <td>80.0</td>\n",
       "      <td>79.08</td>\n",
       "    </tr>\n",
       "    <tr>\n",
       "      <th>2</th>\n",
       "      <td>21.179196</td>\n",
       "      <td>15.0458</td>\n",
       "      <td>73.5000</td>\n",
       "      <td>0.0</td>\n",
       "      <td>29.506705</td>\n",
       "      <td>29.0</td>\n",
       "      <td>70.0</td>\n",
       "      <td>69.33</td>\n",
       "    </tr>\n",
       "    <tr>\n",
       "      <th>3</th>\n",
       "      <td>13.302889</td>\n",
       "      <td>8.0500</td>\n",
       "      <td>69.5500</td>\n",
       "      <td>0.0</td>\n",
       "      <td>24.816367</td>\n",
       "      <td>24.0</td>\n",
       "      <td>74.0</td>\n",
       "      <td>73.83</td>\n",
       "    </tr>\n",
       "  </tbody>\n",
       "</table>\n",
       "</div>"
      ],
      "text/plain": [
       "             Fare                                       Age             \\\n",
       "        mean_Fare median_Fare  max_Fare min_Fare   mean_Age median_Age   \n",
       "Pclass                                                                   \n",
       "1       87.508992     60.0000  512.3292      0.0  39.159930       39.0   \n",
       "2       21.179196     15.0458   73.5000      0.0  29.506705       29.0   \n",
       "3       13.302889      8.0500   69.5500      0.0  24.816367       24.0   \n",
       "\n",
       "                          \n",
       "       max_Age range_Age  \n",
       "Pclass                    \n",
       "1         80.0     79.08  \n",
       "2         70.0     69.33  \n",
       "3         74.0     73.83  "
      ]
     },
     "execution_count": 30,
     "metadata": {},
     "output_type": "execute_result"
    }
   ],
   "source": [
    "df.groupby('Pclass').agg(aggregations)"
   ]
  },
  {
   "cell_type": "code",
   "execution_count": 31,
   "metadata": {},
   "outputs": [
    {
     "data": {
      "text/plain": [
       "Pclass  Embarked\n",
       "1       C           106.845330\n",
       "        Q            90.000000\n",
       "        S            72.148094\n",
       "2       C            23.300593\n",
       "        Q            11.735114\n",
       "        S            21.206921\n",
       "3       C            11.021624\n",
       "        Q            10.390820\n",
       "        S            14.435422\n",
       "Name: Fare, dtype: float64"
      ]
     },
     "execution_count": 31,
     "metadata": {},
     "output_type": "execute_result"
    }
   ],
   "source": [
    "df.groupby(['Pclass', 'Embarked']).Fare.mean()"
   ]
  },
  {
   "cell_type": "code",
   "execution_count": 32,
   "metadata": {},
   "outputs": [
    {
     "data": {
      "text/html": [
       "<div>\n",
       "<style>\n",
       "    .dataframe thead tr:only-child th {\n",
       "        text-align: right;\n",
       "    }\n",
       "\n",
       "    .dataframe thead th {\n",
       "        text-align: left;\n",
       "    }\n",
       "\n",
       "    .dataframe tbody tr th {\n",
       "        vertical-align: top;\n",
       "    }\n",
       "</style>\n",
       "<table border=\"1\" class=\"dataframe\">\n",
       "  <thead>\n",
       "    <tr style=\"text-align: right;\">\n",
       "      <th>Pclass</th>\n",
       "      <th>1</th>\n",
       "      <th>2</th>\n",
       "      <th>3</th>\n",
       "    </tr>\n",
       "    <tr>\n",
       "      <th>Sex</th>\n",
       "      <th></th>\n",
       "      <th></th>\n",
       "      <th></th>\n",
       "    </tr>\n",
       "  </thead>\n",
       "  <tbody>\n",
       "    <tr>\n",
       "      <th>female</th>\n",
       "      <td>144</td>\n",
       "      <td>106</td>\n",
       "      <td>216</td>\n",
       "    </tr>\n",
       "    <tr>\n",
       "      <th>male</th>\n",
       "      <td>179</td>\n",
       "      <td>171</td>\n",
       "      <td>493</td>\n",
       "    </tr>\n",
       "  </tbody>\n",
       "</table>\n",
       "</div>"
      ],
      "text/plain": [
       "Pclass    1    2    3\n",
       "Sex                  \n",
       "female  144  106  216\n",
       "male    179  171  493"
      ]
     },
     "execution_count": 32,
     "metadata": {},
     "output_type": "execute_result"
    }
   ],
   "source": [
    "# Crosstabs\n",
    "pd.crosstab(df.Sex, df.Pclass)"
   ]
  },
  {
   "cell_type": "code",
   "execution_count": 33,
   "metadata": {},
   "outputs": [
    {
     "data": {
      "image/png": "[encoded data removed]",
      "text/plain": [
       "<Figure size 432x288 with 1 Axes>"
      ]
     },
     "metadata": {},
     "output_type": "display_data"
    }
   ],
   "source": [
    "pd.crosstab(df.Sex, df.Pclass).plot(kind='bar', edgecolor='black');"
   ]
  },
  {
   "cell_type": "code",
   "execution_count": 34,
   "metadata": {},
   "outputs": [
    {
     "data": {
      "text/html": [
       "<div>\n",
       "<style>\n",
       "    .dataframe thead tr:only-child th {\n",
       "        text-align: right;\n",
       "    }\n",
       "\n",
       "    .dataframe thead th {\n",
       "        text-align: left;\n",
       "    }\n",
       "\n",
       "    .dataframe tbody tr th {\n",
       "        vertical-align: top;\n",
       "    }\n",
       "</style>\n",
       "<table border=\"1\" class=\"dataframe\">\n",
       "  <thead>\n",
       "    <tr style=\"text-align: right;\">\n",
       "      <th>Pclass</th>\n",
       "      <th>1</th>\n",
       "      <th>2</th>\n",
       "      <th>3</th>\n",
       "    </tr>\n",
       "    <tr>\n",
       "      <th>Sex</th>\n",
       "      <th></th>\n",
       "      <th></th>\n",
       "      <th></th>\n",
       "    </tr>\n",
       "  </thead>\n",
       "  <tbody>\n",
       "    <tr>\n",
       "      <th>female</th>\n",
       "      <td>37.037594</td>\n",
       "      <td>27.499223</td>\n",
       "      <td>22.185329</td>\n",
       "    </tr>\n",
       "    <tr>\n",
       "      <th>male</th>\n",
       "      <td>41.029272</td>\n",
       "      <td>30.815380</td>\n",
       "      <td>25.962264</td>\n",
       "    </tr>\n",
       "  </tbody>\n",
       "</table>\n",
       "</div>"
      ],
      "text/plain": [
       "Pclass          1          2          3\n",
       "Sex                                    \n",
       "female  37.037594  27.499223  22.185329\n",
       "male    41.029272  30.815380  25.962264"
      ]
     },
     "execution_count": 34,
     "metadata": {},
     "output_type": "execute_result"
    }
   ],
   "source": [
    "# Pivot table\n",
    "df.pivot_table(index='Sex', columns='Pclass', values='Age', aggfunc='mean')"
   ]
  },
  {
   "cell_type": "code",
   "execution_count": 35,
   "metadata": {},
   "outputs": [
    {
     "data": {
      "text/html": [
       "<div>\n",
       "<style>\n",
       "    .dataframe thead tr:only-child th {\n",
       "        text-align: right;\n",
       "    }\n",
       "\n",
       "    .dataframe thead th {\n",
       "        text-align: left;\n",
       "    }\n",
       "\n",
       "    .dataframe tbody tr th {\n",
       "        vertical-align: top;\n",
       "    }\n",
       "</style>\n",
       "<table border=\"1\" class=\"dataframe\">\n",
       "  <thead>\n",
       "    <tr style=\"text-align: right;\">\n",
       "      <th>Pclass</th>\n",
       "      <th>1</th>\n",
       "      <th>2</th>\n",
       "      <th>3</th>\n",
       "    </tr>\n",
       "    <tr>\n",
       "      <th>Sex</th>\n",
       "      <th></th>\n",
       "      <th></th>\n",
       "      <th></th>\n",
       "    </tr>\n",
       "  </thead>\n",
       "  <tbody>\n",
       "    <tr>\n",
       "      <th>female</th>\n",
       "      <td>37.037594</td>\n",
       "      <td>27.499223</td>\n",
       "      <td>22.185329</td>\n",
       "    </tr>\n",
       "    <tr>\n",
       "      <th>male</th>\n",
       "      <td>41.029272</td>\n",
       "      <td>30.815380</td>\n",
       "      <td>25.962264</td>\n",
       "    </tr>\n",
       "  </tbody>\n",
       "</table>\n",
       "</div>"
      ],
      "text/plain": [
       "Pclass          1          2          3\n",
       "Sex                                    \n",
       "female  37.037594  27.499223  22.185329\n",
       "male    41.029272  30.815380  25.962264"
      ]
     },
     "execution_count": 35,
     "metadata": {},
     "output_type": "execute_result"
    }
   ],
   "source": [
    "# Same thing as above using groupby\n",
    "df.groupby(['Sex', 'Pclass']).Age.mean().unstack()"
   ]
  },
  {
   "cell_type": "markdown",
   "metadata": {},
   "source": [
    "#### End of EDA"
   ]
  },
  {
   "cell_type": "markdown",
   "metadata": {},
   "source": [
    "# 2. Data Munging and Feature Engineering"
   ]
  },
  {
   "cell_type": "code",
   "execution_count": 36,
   "metadata": {},
   "outputs": [
    {
     "name": "stdout",
     "output_type": "stream",
     "text": [
      "<class 'pandas.core.frame.DataFrame'>\n",
      "Int64Index: 1309 entries, 0 to 417\n",
      "Data columns (total 12 columns):\n",
      "Age            1046 non-null float64\n",
      "Cabin          295 non-null object\n",
      "Embarked       1307 non-null object\n",
      "Fare           1308 non-null float64\n",
      "Name           1309 non-null object\n",
      "Parch          1309 non-null int64\n",
      "PassengerId    1309 non-null int64\n",
      "Pclass         1309 non-null int64\n",
      "Sex            1309 non-null object\n",
      "SibSp          1309 non-null int64\n",
      "Survived       1309 non-null int64\n",
      "Ticket         1309 non-null object\n",
      "dtypes: float64(2), int64(5), object(5)\n",
      "memory usage: 172.9+ KB\n"
     ]
    }
   ],
   "source": [
    "# Missing values in our data\n",
    "df.info()"
   ]
  },
  {
   "cell_type": "markdown",
   "metadata": {},
   "source": [
    "### Dealing with 'Embarked'"
   ]
  },
  {
   "cell_type": "code",
   "execution_count": 37,
   "metadata": {},
   "outputs": [
    {
     "data": {
      "text/html": [
       "<div>\n",
       "<style>\n",
       "    .dataframe thead tr:only-child th {\n",
       "        text-align: right;\n",
       "    }\n",
       "\n",
       "    .dataframe thead th {\n",
       "        text-align: left;\n",
       "    }\n",
       "\n",
       "    .dataframe tbody tr th {\n",
       "        vertical-align: top;\n",
       "    }\n",
       "</style>\n",
       "<table border=\"1\" class=\"dataframe\">\n",
       "  <thead>\n",
       "    <tr style=\"text-align: right;\">\n",
       "      <th></th>\n",
       "      <th>Age</th>\n",
       "      <th>Cabin</th>\n",
       "      <th>Embarked</th>\n",
       "      <th>Fare</th>\n",
       "      <th>Name</th>\n",
       "      <th>Parch</th>\n",
       "      <th>PassengerId</th>\n",
       "      <th>Pclass</th>\n",
       "      <th>Sex</th>\n",
       "      <th>SibSp</th>\n",
       "      <th>Survived</th>\n",
       "      <th>Ticket</th>\n",
       "    </tr>\n",
       "  </thead>\n",
       "  <tbody>\n",
       "    <tr>\n",
       "      <th>61</th>\n",
       "      <td>38.0</td>\n",
       "      <td>B28</td>\n",
       "      <td>NaN</td>\n",
       "      <td>80.0</td>\n",
       "      <td>Icard, Miss. Amelie</td>\n",
       "      <td>0</td>\n",
       "      <td>62</td>\n",
       "      <td>1</td>\n",
       "      <td>female</td>\n",
       "      <td>0</td>\n",
       "      <td>1</td>\n",
       "      <td>113572</td>\n",
       "    </tr>\n",
       "    <tr>\n",
       "      <th>829</th>\n",
       "      <td>62.0</td>\n",
       "      <td>B28</td>\n",
       "      <td>NaN</td>\n",
       "      <td>80.0</td>\n",
       "      <td>Stone, Mrs. George Nelson (Martha Evelyn)</td>\n",
       "      <td>0</td>\n",
       "      <td>830</td>\n",
       "      <td>1</td>\n",
       "      <td>female</td>\n",
       "      <td>0</td>\n",
       "      <td>1</td>\n",
       "      <td>113572</td>\n",
       "    </tr>\n",
       "  </tbody>\n",
       "</table>\n",
       "</div>"
      ],
      "text/plain": [
       "      Age Cabin Embarked  Fare                                       Name  \\\n",
       "61   38.0   B28      NaN  80.0                        Icard, Miss. Amelie   \n",
       "829  62.0   B28      NaN  80.0  Stone, Mrs. George Nelson (Martha Evelyn)   \n",
       "\n",
       "     Parch  PassengerId  Pclass     Sex  SibSp  Survived  Ticket  \n",
       "61       0           62       1  female      0         1  113572  \n",
       "829      0          830       1  female      0         1  113572  "
      ]
     },
     "execution_count": 37,
     "metadata": {},
     "output_type": "execute_result"
    }
   ],
   "source": [
    "# Dealing with the missing values in 'Embarked' feature first\n",
    "df[df['Embarked'].isnull()]"
   ]
  },
  {
   "cell_type": "code",
   "execution_count": 38,
   "metadata": {},
   "outputs": [
    {
     "data": {
      "text/plain": [
       "S    914\n",
       "C    270\n",
       "Q    123\n",
       "Name: Embarked, dtype: int64"
      ]
     },
     "execution_count": 38,
     "metadata": {},
     "output_type": "execute_result"
    }
   ],
   "source": [
    "# Looking at the mode of 'Embarked' values\n",
    "df.Embarked.value_counts()"
   ]
  },
  {
   "cell_type": "code",
   "execution_count": 39,
   "metadata": {},
   "outputs": [
    {
     "data": {
      "text/html": [
       "<div>\n",
       "<style>\n",
       "    .dataframe thead tr:only-child th {\n",
       "        text-align: right;\n",
       "    }\n",
       "\n",
       "    .dataframe thead th {\n",
       "        text-align: left;\n",
       "    }\n",
       "\n",
       "    .dataframe tbody tr th {\n",
       "        vertical-align: top;\n",
       "    }\n",
       "</style>\n",
       "<table border=\"1\" class=\"dataframe\">\n",
       "  <thead>\n",
       "    <tr style=\"text-align: right;\">\n",
       "      <th>Survived</th>\n",
       "      <th>0</th>\n",
       "      <th>1</th>\n",
       "    </tr>\n",
       "    <tr>\n",
       "      <th>Embarked</th>\n",
       "      <th></th>\n",
       "      <th></th>\n",
       "    </tr>\n",
       "  </thead>\n",
       "  <tbody>\n",
       "    <tr>\n",
       "      <th>C</th>\n",
       "      <td>75</td>\n",
       "      <td>93</td>\n",
       "    </tr>\n",
       "    <tr>\n",
       "      <th>Q</th>\n",
       "      <td>47</td>\n",
       "      <td>30</td>\n",
       "    </tr>\n",
       "    <tr>\n",
       "      <th>S</th>\n",
       "      <td>427</td>\n",
       "      <td>217</td>\n",
       "    </tr>\n",
       "  </tbody>\n",
       "</table>\n",
       "</div>"
      ],
      "text/plain": [
       "Survived    0    1\n",
       "Embarked          \n",
       "C          75   93\n",
       "Q          47   30\n",
       "S         427  217"
      ]
     },
     "execution_count": 39,
     "metadata": {},
     "output_type": "execute_result"
    }
   ],
   "source": [
    "pd.crosstab(df[df.Survived != -888].Embarked, df[df.Survived != -888].Survived)"
   ]
  },
  {
   "cell_type": "code",
   "execution_count": 40,
   "metadata": {
    "collapsed": true
   },
   "outputs": [],
   "source": [
    "# 'S' has the most survivors\n",
    "# df.Embarked.fillna('S', inplace=True)"
   ]
  },
  {
   "cell_type": "code",
   "execution_count": 41,
   "metadata": {},
   "outputs": [
    {
     "data": {
      "text/plain": [
       "Pclass  Embarked\n",
       "1       C           76.7292\n",
       "        Q           90.0000\n",
       "        S           52.0000\n",
       "2       C           15.3146\n",
       "        Q           12.3500\n",
       "        S           15.3750\n",
       "3       C            7.8958\n",
       "        Q            7.7500\n",
       "        S            8.0500\n",
       "Name: Fare, dtype: float64"
      ]
     },
     "execution_count": 41,
     "metadata": {},
     "output_type": "execute_result"
    }
   ],
   "source": [
    "df.groupby(['Pclass', 'Embarked']).Fare.median()"
   ]
  },
  {
   "cell_type": "code",
   "execution_count": 42,
   "metadata": {
    "collapsed": true
   },
   "outputs": [],
   "source": [
    "# Replacing missing 'Embarked' values with 'C' since the median fare is close the fares of the two passengers with empty Embarked point (80)\n",
    "df.Embarked.fillna('C', inplace=True)"
   ]
  },
  {
   "cell_type": "code",
   "execution_count": 43,
   "metadata": {},
   "outputs": [
    {
     "data": {
      "text/html": [
       "<div>\n",
       "<style>\n",
       "    .dataframe thead tr:only-child th {\n",
       "        text-align: right;\n",
       "    }\n",
       "\n",
       "    .dataframe thead th {\n",
       "        text-align: left;\n",
       "    }\n",
       "\n",
       "    .dataframe tbody tr th {\n",
       "        vertical-align: top;\n",
       "    }\n",
       "</style>\n",
       "<table border=\"1\" class=\"dataframe\">\n",
       "  <thead>\n",
       "    <tr style=\"text-align: right;\">\n",
       "      <th></th>\n",
       "      <th>Age</th>\n",
       "      <th>Cabin</th>\n",
       "      <th>Embarked</th>\n",
       "      <th>Fare</th>\n",
       "      <th>Name</th>\n",
       "      <th>Parch</th>\n",
       "      <th>PassengerId</th>\n",
       "      <th>Pclass</th>\n",
       "      <th>Sex</th>\n",
       "      <th>SibSp</th>\n",
       "      <th>Survived</th>\n",
       "      <th>Ticket</th>\n",
       "    </tr>\n",
       "  </thead>\n",
       "  <tbody>\n",
       "  </tbody>\n",
       "</table>\n",
       "</div>"
      ],
      "text/plain": [
       "Empty DataFrame\n",
       "Columns: [Age, Cabin, Embarked, Fare, Name, Parch, PassengerId, Pclass, Sex, SibSp, Survived, Ticket]\n",
       "Index: []"
      ]
     },
     "execution_count": 43,
     "metadata": {},
     "output_type": "execute_result"
    }
   ],
   "source": [
    "df[df.Embarked.isnull()]"
   ]
  },
  {
   "cell_type": "code",
   "execution_count": 44,
   "metadata": {},
   "outputs": [
    {
     "name": "stdout",
     "output_type": "stream",
     "text": [
      "<class 'pandas.core.frame.DataFrame'>\n",
      "Int64Index: 1309 entries, 0 to 417\n",
      "Data columns (total 12 columns):\n",
      "Age            1046 non-null float64\n",
      "Cabin          295 non-null object\n",
      "Embarked       1309 non-null object\n",
      "Fare           1308 non-null float64\n",
      "Name           1309 non-null object\n",
      "Parch          1309 non-null int64\n",
      "PassengerId    1309 non-null int64\n",
      "Pclass         1309 non-null int64\n",
      "Sex            1309 non-null object\n",
      "SibSp          1309 non-null int64\n",
      "Survived       1309 non-null int64\n",
      "Ticket         1309 non-null object\n",
      "dtypes: float64(2), int64(5), object(5)\n",
      "memory usage: 172.9+ KB\n"
     ]
    }
   ],
   "source": [
    "df.info()"
   ]
  },
  {
   "cell_type": "markdown",
   "metadata": {},
   "source": [
    "### Dealing with 'Fare'"
   ]
  },
  {
   "cell_type": "code",
   "execution_count": 45,
   "metadata": {},
   "outputs": [
    {
     "data": {
      "text/html": [
       "<div>\n",
       "<style>\n",
       "    .dataframe thead tr:only-child th {\n",
       "        text-align: right;\n",
       "    }\n",
       "\n",
       "    .dataframe thead th {\n",
       "        text-align: left;\n",
       "    }\n",
       "\n",
       "    .dataframe tbody tr th {\n",
       "        vertical-align: top;\n",
       "    }\n",
       "</style>\n",
       "<table border=\"1\" class=\"dataframe\">\n",
       "  <thead>\n",
       "    <tr style=\"text-align: right;\">\n",
       "      <th></th>\n",
       "      <th>Age</th>\n",
       "      <th>Cabin</th>\n",
       "      <th>Embarked</th>\n",
       "      <th>Fare</th>\n",
       "      <th>Name</th>\n",
       "      <th>Parch</th>\n",
       "      <th>PassengerId</th>\n",
       "      <th>Pclass</th>\n",
       "      <th>Sex</th>\n",
       "      <th>SibSp</th>\n",
       "      <th>Survived</th>\n",
       "      <th>Ticket</th>\n",
       "    </tr>\n",
       "  </thead>\n",
       "  <tbody>\n",
       "    <tr>\n",
       "      <th>152</th>\n",
       "      <td>60.5</td>\n",
       "      <td>NaN</td>\n",
       "      <td>S</td>\n",
       "      <td>NaN</td>\n",
       "      <td>Storey, Mr. Thomas</td>\n",
       "      <td>0</td>\n",
       "      <td>1044</td>\n",
       "      <td>3</td>\n",
       "      <td>male</td>\n",
       "      <td>0</td>\n",
       "      <td>-888</td>\n",
       "      <td>3701</td>\n",
       "    </tr>\n",
       "  </tbody>\n",
       "</table>\n",
       "</div>"
      ],
      "text/plain": [
       "      Age Cabin Embarked  Fare                Name  Parch  PassengerId  \\\n",
       "152  60.5   NaN        S   NaN  Storey, Mr. Thomas      0         1044   \n",
       "\n",
       "     Pclass   Sex  SibSp  Survived Ticket  \n",
       "152       3  male      0      -888   3701  "
      ]
     },
     "execution_count": 45,
     "metadata": {},
     "output_type": "execute_result"
    }
   ],
   "source": [
    "df[df.Fare.isnull()]"
   ]
  },
  {
   "cell_type": "code",
   "execution_count": 46,
   "metadata": {
    "collapsed": true
   },
   "outputs": [],
   "source": [
    "median_fare = df.loc[(df.Pclass==3) & (df.Embarked=='S'), 'Fare'].median()\n",
    "df.Fare.fillna(median_fare, inplace=True)"
   ]
  },
  {
   "cell_type": "code",
   "execution_count": 47,
   "metadata": {},
   "outputs": [
    {
     "name": "stdout",
     "output_type": "stream",
     "text": [
      "<class 'pandas.core.frame.DataFrame'>\n",
      "Int64Index: 1309 entries, 0 to 417\n",
      "Data columns (total 12 columns):\n",
      "Age            1046 non-null float64\n",
      "Cabin          295 non-null object\n",
      "Embarked       1309 non-null object\n",
      "Fare           1309 non-null float64\n",
      "Name           1309 non-null object\n",
      "Parch          1309 non-null int64\n",
      "PassengerId    1309 non-null int64\n",
      "Pclass         1309 non-null int64\n",
      "Sex            1309 non-null object\n",
      "SibSp          1309 non-null int64\n",
      "Survived       1309 non-null int64\n",
      "Ticket         1309 non-null object\n",
      "dtypes: float64(2), int64(5), object(5)\n",
      "memory usage: 172.9+ KB\n"
     ]
    }
   ],
   "source": [
    "df.info()"
   ]
  },
  {
   "cell_type": "markdown",
   "metadata": {},
   "source": [
    "### Dealing with 'Age'"
   ]
  },
  {
   "cell_type": "code",
   "execution_count": 48,
   "metadata": {},
   "outputs": [
    {
     "data": {
      "text/html": [
       "<div>\n",
       "<style>\n",
       "    .dataframe thead tr:only-child th {\n",
       "        text-align: right;\n",
       "    }\n",
       "\n",
       "    .dataframe thead th {\n",
       "        text-align: left;\n",
       "    }\n",
       "\n",
       "    .dataframe tbody tr th {\n",
       "        vertical-align: top;\n",
       "    }\n",
       "</style>\n",
       "<table border=\"1\" class=\"dataframe\">\n",
       "  <thead>\n",
       "    <tr style=\"text-align: right;\">\n",
       "      <th></th>\n",
       "      <th>Age</th>\n",
       "      <th>Cabin</th>\n",
       "      <th>Embarked</th>\n",
       "      <th>Fare</th>\n",
       "      <th>Name</th>\n",
       "      <th>Parch</th>\n",
       "      <th>PassengerId</th>\n",
       "      <th>Pclass</th>\n",
       "      <th>Sex</th>\n",
       "      <th>SibSp</th>\n",
       "      <th>Survived</th>\n",
       "      <th>Ticket</th>\n",
       "    </tr>\n",
       "  </thead>\n",
       "  <tbody>\n",
       "    <tr>\n",
       "      <th>5</th>\n",
       "      <td>NaN</td>\n",
       "      <td>NaN</td>\n",
       "      <td>Q</td>\n",
       "      <td>8.4583</td>\n",
       "      <td>Moran, Mr. James</td>\n",
       "      <td>0</td>\n",
       "      <td>6</td>\n",
       "      <td>3</td>\n",
       "      <td>male</td>\n",
       "      <td>0</td>\n",
       "      <td>0</td>\n",
       "      <td>330877</td>\n",
       "    </tr>\n",
       "    <tr>\n",
       "      <th>17</th>\n",
       "      <td>NaN</td>\n",
       "      <td>NaN</td>\n",
       "      <td>S</td>\n",
       "      <td>13.0000</td>\n",
       "      <td>Williams, Mr. Charles Eugene</td>\n",
       "      <td>0</td>\n",
       "      <td>18</td>\n",
       "      <td>2</td>\n",
       "      <td>male</td>\n",
       "      <td>0</td>\n",
       "      <td>1</td>\n",
       "      <td>244373</td>\n",
       "    </tr>\n",
       "    <tr>\n",
       "      <th>19</th>\n",
       "      <td>NaN</td>\n",
       "      <td>NaN</td>\n",
       "      <td>C</td>\n",
       "      <td>7.2250</td>\n",
       "      <td>Masselmani, Mrs. Fatima</td>\n",
       "      <td>0</td>\n",
       "      <td>20</td>\n",
       "      <td>3</td>\n",
       "      <td>female</td>\n",
       "      <td>0</td>\n",
       "      <td>1</td>\n",
       "      <td>2649</td>\n",
       "    </tr>\n",
       "    <tr>\n",
       "      <th>26</th>\n",
       "      <td>NaN</td>\n",
       "      <td>NaN</td>\n",
       "      <td>C</td>\n",
       "      <td>7.2250</td>\n",
       "      <td>Emir, Mr. Farred Chehab</td>\n",
       "      <td>0</td>\n",
       "      <td>27</td>\n",
       "      <td>3</td>\n",
       "      <td>male</td>\n",
       "      <td>0</td>\n",
       "      <td>0</td>\n",
       "      <td>2631</td>\n",
       "    </tr>\n",
       "    <tr>\n",
       "      <th>28</th>\n",
       "      <td>NaN</td>\n",
       "      <td>NaN</td>\n",
       "      <td>Q</td>\n",
       "      <td>7.8792</td>\n",
       "      <td>O'Dwyer, Miss. Ellen \"Nellie\"</td>\n",
       "      <td>0</td>\n",
       "      <td>29</td>\n",
       "      <td>3</td>\n",
       "      <td>female</td>\n",
       "      <td>0</td>\n",
       "      <td>1</td>\n",
       "      <td>330959</td>\n",
       "    </tr>\n",
       "    <tr>\n",
       "      <th>29</th>\n",
       "      <td>NaN</td>\n",
       "      <td>NaN</td>\n",
       "      <td>S</td>\n",
       "      <td>7.8958</td>\n",
       "      <td>Todoroff, Mr. Lalio</td>\n",
       "      <td>0</td>\n",
       "      <td>30</td>\n",
       "      <td>3</td>\n",
       "      <td>male</td>\n",
       "      <td>0</td>\n",
       "      <td>0</td>\n",
       "      <td>349216</td>\n",
       "    </tr>\n",
       "    <tr>\n",
       "      <th>31</th>\n",
       "      <td>NaN</td>\n",
       "      <td>B78</td>\n",
       "      <td>C</td>\n",
       "      <td>146.5208</td>\n",
       "      <td>Spencer, Mrs. William Augustus (Marie Eugenie)</td>\n",
       "      <td>0</td>\n",
       "      <td>32</td>\n",
       "      <td>1</td>\n",
       "      <td>female</td>\n",
       "      <td>1</td>\n",
       "      <td>1</td>\n",
       "      <td>PC 17569</td>\n",
       "    </tr>\n",
       "    <tr>\n",
       "      <th>...</th>\n",
       "      <td>...</td>\n",
       "      <td>...</td>\n",
       "      <td>...</td>\n",
       "      <td>...</td>\n",
       "      <td>...</td>\n",
       "      <td>...</td>\n",
       "      <td>...</td>\n",
       "      <td>...</td>\n",
       "      <td>...</td>\n",
       "      <td>...</td>\n",
       "      <td>...</td>\n",
       "      <td>...</td>\n",
       "    </tr>\n",
       "    <tr>\n",
       "      <th>382</th>\n",
       "      <td>NaN</td>\n",
       "      <td>NaN</td>\n",
       "      <td>S</td>\n",
       "      <td>14.5000</td>\n",
       "      <td>Risien, Mrs. Samuel (Emma)</td>\n",
       "      <td>0</td>\n",
       "      <td>1274</td>\n",
       "      <td>3</td>\n",
       "      <td>female</td>\n",
       "      <td>0</td>\n",
       "      <td>-888</td>\n",
       "      <td>364498</td>\n",
       "    </tr>\n",
       "    <tr>\n",
       "      <th>384</th>\n",
       "      <td>NaN</td>\n",
       "      <td>NaN</td>\n",
       "      <td>S</td>\n",
       "      <td>12.8750</td>\n",
       "      <td>Wheeler, Mr. Edwin Frederick\"\"</td>\n",
       "      <td>0</td>\n",
       "      <td>1276</td>\n",
       "      <td>2</td>\n",
       "      <td>male</td>\n",
       "      <td>0</td>\n",
       "      <td>-888</td>\n",
       "      <td>SC/PARIS 2159</td>\n",
       "    </tr>\n",
       "    <tr>\n",
       "      <th>408</th>\n",
       "      <td>NaN</td>\n",
       "      <td>NaN</td>\n",
       "      <td>Q</td>\n",
       "      <td>7.7208</td>\n",
       "      <td>Riordan, Miss. Johanna Hannah\"\"</td>\n",
       "      <td>0</td>\n",
       "      <td>1300</td>\n",
       "      <td>3</td>\n",
       "      <td>female</td>\n",
       "      <td>0</td>\n",
       "      <td>-888</td>\n",
       "      <td>334915</td>\n",
       "    </tr>\n",
       "    <tr>\n",
       "      <th>410</th>\n",
       "      <td>NaN</td>\n",
       "      <td>NaN</td>\n",
       "      <td>Q</td>\n",
       "      <td>7.7500</td>\n",
       "      <td>Naughton, Miss. Hannah</td>\n",
       "      <td>0</td>\n",
       "      <td>1302</td>\n",
       "      <td>3</td>\n",
       "      <td>female</td>\n",
       "      <td>0</td>\n",
       "      <td>-888</td>\n",
       "      <td>365237</td>\n",
       "    </tr>\n",
       "    <tr>\n",
       "      <th>413</th>\n",
       "      <td>NaN</td>\n",
       "      <td>NaN</td>\n",
       "      <td>S</td>\n",
       "      <td>8.0500</td>\n",
       "      <td>Spector, Mr. Woolf</td>\n",
       "      <td>0</td>\n",
       "      <td>1305</td>\n",
       "      <td>3</td>\n",
       "      <td>male</td>\n",
       "      <td>0</td>\n",
       "      <td>-888</td>\n",
       "      <td>A.5. 3236</td>\n",
       "    </tr>\n",
       "    <tr>\n",
       "      <th>416</th>\n",
       "      <td>NaN</td>\n",
       "      <td>NaN</td>\n",
       "      <td>S</td>\n",
       "      <td>8.0500</td>\n",
       "      <td>Ware, Mr. Frederick</td>\n",
       "      <td>0</td>\n",
       "      <td>1308</td>\n",
       "      <td>3</td>\n",
       "      <td>male</td>\n",
       "      <td>0</td>\n",
       "      <td>-888</td>\n",
       "      <td>359309</td>\n",
       "    </tr>\n",
       "    <tr>\n",
       "      <th>417</th>\n",
       "      <td>NaN</td>\n",
       "      <td>NaN</td>\n",
       "      <td>C</td>\n",
       "      <td>22.3583</td>\n",
       "      <td>Peter, Master. Michael J</td>\n",
       "      <td>1</td>\n",
       "      <td>1309</td>\n",
       "      <td>3</td>\n",
       "      <td>male</td>\n",
       "      <td>1</td>\n",
       "      <td>-888</td>\n",
       "      <td>2668</td>\n",
       "    </tr>\n",
       "  </tbody>\n",
       "</table>\n",
       "<p>263 rows × 12 columns</p>\n",
       "</div>"
      ],
      "text/plain": [
       "     Age Cabin Embarked      Fare  \\\n",
       "5    NaN   NaN        Q    8.4583   \n",
       "17   NaN   NaN        S   13.0000   \n",
       "19   NaN   NaN        C    7.2250   \n",
       "26   NaN   NaN        C    7.2250   \n",
       "28   NaN   NaN        Q    7.8792   \n",
       "29   NaN   NaN        S    7.8958   \n",
       "31   NaN   B78        C  146.5208   \n",
       "..   ...   ...      ...       ...   \n",
       "382  NaN   NaN        S   14.5000   \n",
       "384  NaN   NaN        S   12.8750   \n",
       "408  NaN   NaN        Q    7.7208   \n",
       "410  NaN   NaN        Q    7.7500   \n",
       "413  NaN   NaN        S    8.0500   \n",
       "416  NaN   NaN        S    8.0500   \n",
       "417  NaN   NaN        C   22.3583   \n",
       "\n",
       "                                               Name  Parch  PassengerId  \\\n",
       "5                                  Moran, Mr. James      0            6   \n",
       "17                     Williams, Mr. Charles Eugene      0           18   \n",
       "19                          Masselmani, Mrs. Fatima      0           20   \n",
       "26                          Emir, Mr. Farred Chehab      0           27   \n",
       "28                    O'Dwyer, Miss. Ellen \"Nellie\"      0           29   \n",
       "29                              Todoroff, Mr. Lalio      0           30   \n",
       "31   Spencer, Mrs. William Augustus (Marie Eugenie)      0           32   \n",
       "..                                              ...    ...          ...   \n",
       "382                      Risien, Mrs. Samuel (Emma)      0         1274   \n",
       "384                  Wheeler, Mr. Edwin Frederick\"\"      0         1276   \n",
       "408                 Riordan, Miss. Johanna Hannah\"\"      0         1300   \n",
       "410                          Naughton, Miss. Hannah      0         1302   \n",
       "413                              Spector, Mr. Woolf      0         1305   \n",
       "416                             Ware, Mr. Frederick      0         1308   \n",
       "417                        Peter, Master. Michael J      1         1309   \n",
       "\n",
       "     Pclass     Sex  SibSp  Survived         Ticket  \n",
       "5         3    male      0         0         330877  \n",
       "17        2    male      0         1         244373  \n",
       "19        3  female      0         1           2649  \n",
       "26        3    male      0         0           2631  \n",
       "28        3  female      0         1         330959  \n",
       "29        3    male      0         0         349216  \n",
       "31        1  female      1         1       PC 17569  \n",
       "..      ...     ...    ...       ...            ...  \n",
       "382       3  female      0      -888         364498  \n",
       "384       2    male      0      -888  SC/PARIS 2159  \n",
       "408       3  female      0      -888         334915  \n",
       "410       3  female      0      -888         365237  \n",
       "413       3    male      0      -888      A.5. 3236  \n",
       "416       3    male      0      -888         359309  \n",
       "417       3    male      1      -888           2668  \n",
       "\n",
       "[263 rows x 12 columns]"
      ]
     },
     "execution_count": 48,
     "metadata": {},
     "output_type": "execute_result"
    }
   ],
   "source": [
    "pd.options.display.max_rows = 15\n",
    "df[df.Age.isnull()]"
   ]
  },
  {
   "cell_type": "code",
   "execution_count": 49,
   "metadata": {},
   "outputs": [
    {
     "data": {
      "image/png": "[encoded data removed]",
      "text/plain": [
       "<Figure size 720x360 with 1 Axes>"
      ]
     },
     "metadata": {},
     "output_type": "display_data"
    }
   ],
   "source": [
    "# Inspecting the distribution of age in the dataset\n",
    "df.Age.plot(kind='hist', color='y', edgecolor='black', bins=20, figsize=(10,5));"
   ]
  },
  {
   "cell_type": "code",
   "execution_count": 50,
   "metadata": {},
   "outputs": [
    {
     "data": {
      "text/plain": [
       "29.881137667304014"
      ]
     },
     "execution_count": 50,
     "metadata": {},
     "output_type": "execute_result"
    }
   ],
   "source": [
    "df.Age.mean()"
   ]
  },
  {
   "cell_type": "code",
   "execution_count": 51,
   "metadata": {},
   "outputs": [
    {
     "data": {
      "text/plain": [
       "Sex\n",
       "female    27.0\n",
       "male      28.0\n",
       "Name: Age, dtype: float64"
      ]
     },
     "execution_count": 51,
     "metadata": {},
     "output_type": "execute_result"
    }
   ],
   "source": [
    "# Mean is not a very good measure since it is easily affected by extreme values, and we have some extreme values here\n",
    "# Checking median values and percentiles\n",
    "df.groupby('Sex').Age.median()"
   ]
  },
  {
   "cell_type": "code",
   "execution_count": 52,
   "metadata": {},
   "outputs": [
    {
     "name": "stderr",
     "output_type": "stream",
     "text": [
      "C:\\Anaconda3\\lib\\site-packages\\numpy\\core\\fromnumeric.py:57: FutureWarning: reshape is deprecated and will raise in a subsequent release. Please use .values.reshape(...) instead\n",
      "  return getattr(obj, method)(*args, **kwds)\n"
     ]
    },
    {
     "data": {
      "image/png": "[encoded data removed]",
      "text/plain": [
       "<Figure size 504x504 with 1 Axes>"
      ]
     },
     "metadata": {},
     "output_type": "display_data"
    }
   ],
   "source": [
    "df[df.Age.notnull()].boxplot('Age', 'Sex', figsize=(7,7));"
   ]
  },
  {
   "cell_type": "code",
   "execution_count": 53,
   "metadata": {
    "collapsed": true
   },
   "outputs": [],
   "source": [
    "# age_sex_median = df.groupby('Sex').Age.transform('median')\n",
    "# df.Age.fillna('age_sex_median', inplace=True)"
   ]
  },
  {
   "cell_type": "code",
   "execution_count": 54,
   "metadata": {},
   "outputs": [
    {
     "name": "stderr",
     "output_type": "stream",
     "text": [
      "C:\\Anaconda3\\lib\\site-packages\\numpy\\core\\fromnumeric.py:57: FutureWarning: reshape is deprecated and will raise in a subsequent release. Please use .values.reshape(...) instead\n",
      "  return getattr(obj, method)(*args, **kwds)\n"
     ]
    },
    {
     "data": {
      "image/png": "[encoded data removed]",
      "text/plain": [
       "<Figure size 504x504 with 1 Axes>"
      ]
     },
     "metadata": {},
     "output_type": "display_data"
    }
   ],
   "source": [
    "# Checking median age according to Pclass\n",
    "df[df.Age.notnull()].boxplot('Age', 'Pclass', figsize=(7,7));"
   ]
  },
  {
   "cell_type": "code",
   "execution_count": 55,
   "metadata": {
    "collapsed": true
   },
   "outputs": [],
   "source": [
    "# pclass_age_median = df.groupby('Pclass').Age.transform('median')\n",
    "# df.Age.fillna(pclass_age_median), inplace=True"
   ]
  },
  {
   "cell_type": "code",
   "execution_count": 56,
   "metadata": {},
   "outputs": [
    {
     "data": {
      "text/plain": [
       "0                                Braund, Mr. Owen Harris\n",
       "1      Cumings, Mrs. John Bradley (Florence Briggs Th...\n",
       "2                                 Heikkinen, Miss. Laina\n",
       "3           Futrelle, Mrs. Jacques Heath (Lily May Peel)\n",
       "4                               Allen, Mr. William Henry\n",
       "5                                       Moran, Mr. James\n",
       "6                                McCarthy, Mr. Timothy J\n",
       "                             ...                        \n",
       "411      Minahan, Mrs. William Edward (Lillian E Thorpe)\n",
       "412                       Henriksson, Miss. Jenny Lovisa\n",
       "413                                   Spector, Mr. Woolf\n",
       "414                         Oliva y Ocana, Dona. Fermina\n",
       "415                         Saether, Mr. Simon Sivertsen\n",
       "416                                  Ware, Mr. Frederick\n",
       "417                             Peter, Master. Michael J\n",
       "Name: Name, Length: 1309, dtype: object"
      ]
     },
     "execution_count": 56,
     "metadata": {},
     "output_type": "execute_result"
    }
   ],
   "source": [
    "# Trying to use name title as a measure for filling missing age values\n",
    "df.Name"
   ]
  },
  {
   "cell_type": "code",
   "execution_count": 57,
   "metadata": {
    "collapsed": true
   },
   "outputs": [],
   "source": [
    "# Function to get the title for a name\n",
    "def GetTitle(name):\n",
    "        first_name_with_title = name.split(',')[1]\n",
    "        title = first_name_with_title.split('.')[0]\n",
    "        title = title.strip().lower()\n",
    "        return title"
   ]
  },
  {
   "cell_type": "code",
   "execution_count": 58,
   "metadata": {},
   "outputs": [
    {
     "data": {
      "text/plain": [
       "0          mr\n",
       "1         mrs\n",
       "2        miss\n",
       "3         mrs\n",
       "4          mr\n",
       "5          mr\n",
       "6          mr\n",
       "        ...  \n",
       "411       mrs\n",
       "412      miss\n",
       "413        mr\n",
       "414      dona\n",
       "415        mr\n",
       "416        mr\n",
       "417    master\n",
       "Name: Name, Length: 1309, dtype: object"
      ]
     },
     "execution_count": 58,
     "metadata": {},
     "output_type": "execute_result"
    }
   ],
   "source": [
    "# Using map to use GetTitle function on all names values\n",
    "df.Name.map(lambda x: GetTitle(x))"
   ]
  },
  {
   "cell_type": "code",
   "execution_count": 59,
   "metadata": {},
   "outputs": [
    {
     "data": {
      "text/plain": [
       "mr              757\n",
       "miss            260\n",
       "mrs             197\n",
       "master           61\n",
       "rev               8\n",
       "dr                8\n",
       "col               4\n",
       "               ... \n",
       "jonkheer          1\n",
       "lady              1\n",
       "dona              1\n",
       "capt              1\n",
       "the countess      1\n",
       "mme               1\n",
       "don               1\n",
       "Name: Name, Length: 18, dtype: int64"
      ]
     },
     "execution_count": 59,
     "metadata": {},
     "output_type": "execute_result"
    }
   ],
   "source": [
    "df.Name.map(lambda x: GetTitle(x)).value_counts()"
   ]
  },
  {
   "cell_type": "code",
   "execution_count": 60,
   "metadata": {},
   "outputs": [
    {
     "data": {
      "text/plain": [
       "array(['mr', 'mrs', 'miss', 'master', 'don', 'rev', 'dr', 'mme', 'ms',\n",
       "       'major', 'lady', 'sir', 'mlle', 'col', 'capt', 'the countess',\n",
       "       'jonkheer', 'dona'], dtype=object)"
      ]
     },
     "execution_count": 60,
     "metadata": {},
     "output_type": "execute_result"
    }
   ],
   "source": [
    "df.Name.map(lambda x: GetTitle(x)).unique()"
   ]
  },
  {
   "cell_type": "code",
   "execution_count": 61,
   "metadata": {
    "collapsed": true
   },
   "outputs": [],
   "source": [
    "# Modifying the GetTitle function to map titles as we need\n",
    "def GetTitle(name):\n",
    "    title_group = {'mr' : 'Mr',\n",
    "                   'mrs' : 'Mrs',\n",
    "                   'miss' : 'Miss',\n",
    "                   'master' : 'Master',\n",
    "                   'don' : 'Sir',\n",
    "                   'rev' : 'Sir',\n",
    "                   'dr' : 'Officer',\n",
    "                   'mme' : 'Mrs',\n",
    "                   'ms' : 'Mrs',\n",
    "                   'major' : 'Officer',\n",
    "                   'lady' : 'Lady',\n",
    "                   'sir' : 'Sir',\n",
    "                   'mlle' : 'Miss',\n",
    "                   'col' : 'Officer',\n",
    "                   'capt' : 'Officer',\n",
    "                   'the countess' : 'Lady',\n",
    "                   'jonkheer' : 'Sir',\n",
    "                   'dona' : 'Lady'\n",
    "                  }\n",
    "    first_name_with_title = name.split(',')[1]\n",
    "    title = first_name_with_title.split('.')[0]\n",
    "    title = title.strip().lower()\n",
    "    return title_group[title]"
   ]
  },
  {
   "cell_type": "code",
   "execution_count": 62,
   "metadata": {
    "collapsed": true
   },
   "outputs": [],
   "source": [
    "# Creating new feature called 'Title'\n",
    "df['Title'] = df.Name.map(lambda x : GetTitle(x))"
   ]
  },
  {
   "cell_type": "code",
   "execution_count": 63,
   "metadata": {},
   "outputs": [
    {
     "data": {
      "text/html": [
       "<div>\n",
       "<style>\n",
       "    .dataframe thead tr:only-child th {\n",
       "        text-align: right;\n",
       "    }\n",
       "\n",
       "    .dataframe thead th {\n",
       "        text-align: left;\n",
       "    }\n",
       "\n",
       "    .dataframe tbody tr th {\n",
       "        vertical-align: top;\n",
       "    }\n",
       "</style>\n",
       "<table border=\"1\" class=\"dataframe\">\n",
       "  <thead>\n",
       "    <tr style=\"text-align: right;\">\n",
       "      <th></th>\n",
       "      <th>Age</th>\n",
       "      <th>Cabin</th>\n",
       "      <th>Embarked</th>\n",
       "      <th>Fare</th>\n",
       "      <th>Name</th>\n",
       "      <th>Parch</th>\n",
       "      <th>PassengerId</th>\n",
       "      <th>Pclass</th>\n",
       "      <th>Sex</th>\n",
       "      <th>SibSp</th>\n",
       "      <th>Survived</th>\n",
       "      <th>Ticket</th>\n",
       "      <th>Title</th>\n",
       "    </tr>\n",
       "  </thead>\n",
       "  <tbody>\n",
       "    <tr>\n",
       "      <th>0</th>\n",
       "      <td>22.0</td>\n",
       "      <td>NaN</td>\n",
       "      <td>S</td>\n",
       "      <td>7.2500</td>\n",
       "      <td>Braund, Mr. Owen Harris</td>\n",
       "      <td>0</td>\n",
       "      <td>1</td>\n",
       "      <td>3</td>\n",
       "      <td>male</td>\n",
       "      <td>1</td>\n",
       "      <td>0</td>\n",
       "      <td>A/5 21171</td>\n",
       "      <td>Mr</td>\n",
       "    </tr>\n",
       "    <tr>\n",
       "      <th>1</th>\n",
       "      <td>38.0</td>\n",
       "      <td>C85</td>\n",
       "      <td>C</td>\n",
       "      <td>71.2833</td>\n",
       "      <td>Cumings, Mrs. John Bradley (Florence Briggs Th...</td>\n",
       "      <td>0</td>\n",
       "      <td>2</td>\n",
       "      <td>1</td>\n",
       "      <td>female</td>\n",
       "      <td>1</td>\n",
       "      <td>1</td>\n",
       "      <td>PC 17599</td>\n",
       "      <td>Mrs</td>\n",
       "    </tr>\n",
       "    <tr>\n",
       "      <th>2</th>\n",
       "      <td>26.0</td>\n",
       "      <td>NaN</td>\n",
       "      <td>S</td>\n",
       "      <td>7.9250</td>\n",
       "      <td>Heikkinen, Miss. Laina</td>\n",
       "      <td>0</td>\n",
       "      <td>3</td>\n",
       "      <td>3</td>\n",
       "      <td>female</td>\n",
       "      <td>0</td>\n",
       "      <td>1</td>\n",
       "      <td>STON/O2. 3101282</td>\n",
       "      <td>Miss</td>\n",
       "    </tr>\n",
       "    <tr>\n",
       "      <th>3</th>\n",
       "      <td>35.0</td>\n",
       "      <td>C123</td>\n",
       "      <td>S</td>\n",
       "      <td>53.1000</td>\n",
       "      <td>Futrelle, Mrs. Jacques Heath (Lily May Peel)</td>\n",
       "      <td>0</td>\n",
       "      <td>4</td>\n",
       "      <td>1</td>\n",
       "      <td>female</td>\n",
       "      <td>1</td>\n",
       "      <td>1</td>\n",
       "      <td>113803</td>\n",
       "      <td>Mrs</td>\n",
       "    </tr>\n",
       "    <tr>\n",
       "      <th>4</th>\n",
       "      <td>35.0</td>\n",
       "      <td>NaN</td>\n",
       "      <td>S</td>\n",
       "      <td>8.0500</td>\n",
       "      <td>Allen, Mr. William Henry</td>\n",
       "      <td>0</td>\n",
       "      <td>5</td>\n",
       "      <td>3</td>\n",
       "      <td>male</td>\n",
       "      <td>0</td>\n",
       "      <td>0</td>\n",
       "      <td>373450</td>\n",
       "      <td>Mr</td>\n",
       "    </tr>\n",
       "  </tbody>\n",
       "</table>\n",
       "</div>"
      ],
      "text/plain": [
       "    Age Cabin Embarked     Fare  \\\n",
       "0  22.0   NaN        S   7.2500   \n",
       "1  38.0   C85        C  71.2833   \n",
       "2  26.0   NaN        S   7.9250   \n",
       "3  35.0  C123        S  53.1000   \n",
       "4  35.0   NaN        S   8.0500   \n",
       "\n",
       "                                                Name  Parch  PassengerId  \\\n",
       "0                            Braund, Mr. Owen Harris      0            1   \n",
       "1  Cumings, Mrs. John Bradley (Florence Briggs Th...      0            2   \n",
       "2                             Heikkinen, Miss. Laina      0            3   \n",
       "3       Futrelle, Mrs. Jacques Heath (Lily May Peel)      0            4   \n",
       "4                           Allen, Mr. William Henry      0            5   \n",
       "\n",
       "   Pclass     Sex  SibSp  Survived            Ticket Title  \n",
       "0       3    male      1         0         A/5 21171    Mr  \n",
       "1       1  female      1         1          PC 17599   Mrs  \n",
       "2       3  female      0         1  STON/O2. 3101282  Miss  \n",
       "3       1  female      1         1            113803   Mrs  \n",
       "4       3    male      0         0            373450    Mr  "
      ]
     },
     "execution_count": 63,
     "metadata": {},
     "output_type": "execute_result"
    }
   ],
   "source": [
    "df.head()"
   ]
  },
  {
   "cell_type": "code",
   "execution_count": 64,
   "metadata": {},
   "outputs": [
    {
     "name": "stderr",
     "output_type": "stream",
     "text": [
      "C:\\Anaconda3\\lib\\site-packages\\numpy\\core\\fromnumeric.py:57: FutureWarning: reshape is deprecated and will raise in a subsequent release. Please use .values.reshape(...) instead\n",
      "  return getattr(obj, method)(*args, **kwds)\n"
     ]
    },
    {
     "data": {
      "image/png": "[encoded data removed]",
      "text/plain": [
       "<Figure size 648x648 with 1 Axes>"
      ]
     },
     "metadata": {},
     "output_type": "display_data"
    }
   ],
   "source": [
    "df[df.Age.notnull()].boxplot('Age', 'Title', figsize=(9,9));"
   ]
  },
  {
   "cell_type": "code",
   "execution_count": 65,
   "metadata": {
    "collapsed": true
   },
   "outputs": [],
   "source": [
    "# Replacing missing age value with median ages according to titles\n",
    "title_age_median = df.groupby('Title').Age.transform('median')\n",
    "df.Age.fillna(title_age_median, inplace=True)"
   ]
  },
  {
   "cell_type": "code",
   "execution_count": 66,
   "metadata": {},
   "outputs": [
    {
     "name": "stdout",
     "output_type": "stream",
     "text": [
      "<class 'pandas.core.frame.DataFrame'>\n",
      "Int64Index: 1309 entries, 0 to 417\n",
      "Data columns (total 13 columns):\n",
      "Age            1309 non-null float64\n",
      "Cabin          295 non-null object\n",
      "Embarked       1309 non-null object\n",
      "Fare           1309 non-null float64\n",
      "Name           1309 non-null object\n",
      "Parch          1309 non-null int64\n",
      "PassengerId    1309 non-null int64\n",
      "Pclass         1309 non-null int64\n",
      "Sex            1309 non-null object\n",
      "SibSp          1309 non-null int64\n",
      "Survived       1309 non-null int64\n",
      "Ticket         1309 non-null object\n",
      "Title          1309 non-null object\n",
      "dtypes: float64(2), int64(5), object(6)\n",
      "memory usage: 183.2+ KB\n"
     ]
    }
   ],
   "source": [
    "df.info();"
   ]
  },
  {
   "cell_type": "markdown",
   "metadata": {},
   "source": [
    "## Treating Outliers"
   ]
  },
  {
   "cell_type": "code",
   "execution_count": 67,
   "metadata": {},
   "outputs": [
    {
     "data": {
      "image/png": "[encoded data removed]",
      "text/plain": [
       "<Figure size 720x504 with 1 Axes>"
      ]
     },
     "metadata": {},
     "output_type": "display_data"
    }
   ],
   "source": [
    "# Age\n",
    "df.Age.plot(kind='hist', title='Histogram for Age', bins=20, color='g', edgecolor='black', figsize=(10,7));"
   ]
  },
  {
   "cell_type": "code",
   "execution_count": 68,
   "metadata": {},
   "outputs": [
    {
     "data": {
      "text/html": [
       "<div>\n",
       "<style>\n",
       "    .dataframe thead tr:only-child th {\n",
       "        text-align: right;\n",
       "    }\n",
       "\n",
       "    .dataframe thead th {\n",
       "        text-align: left;\n",
       "    }\n",
       "\n",
       "    .dataframe tbody tr th {\n",
       "        vertical-align: top;\n",
       "    }\n",
       "</style>\n",
       "<table border=\"1\" class=\"dataframe\">\n",
       "  <thead>\n",
       "    <tr style=\"text-align: right;\">\n",
       "      <th></th>\n",
       "      <th>Age</th>\n",
       "      <th>Cabin</th>\n",
       "      <th>Embarked</th>\n",
       "      <th>Fare</th>\n",
       "      <th>Name</th>\n",
       "      <th>Parch</th>\n",
       "      <th>PassengerId</th>\n",
       "      <th>Pclass</th>\n",
       "      <th>Sex</th>\n",
       "      <th>SibSp</th>\n",
       "      <th>Survived</th>\n",
       "      <th>Ticket</th>\n",
       "      <th>Title</th>\n",
       "    </tr>\n",
       "  </thead>\n",
       "  <tbody>\n",
       "    <tr>\n",
       "      <th>96</th>\n",
       "      <td>71.0</td>\n",
       "      <td>A5</td>\n",
       "      <td>C</td>\n",
       "      <td>34.6542</td>\n",
       "      <td>Goldschmidt, Mr. George B</td>\n",
       "      <td>0</td>\n",
       "      <td>97</td>\n",
       "      <td>1</td>\n",
       "      <td>male</td>\n",
       "      <td>0</td>\n",
       "      <td>0</td>\n",
       "      <td>PC 17754</td>\n",
       "      <td>Mr</td>\n",
       "    </tr>\n",
       "    <tr>\n",
       "      <th>116</th>\n",
       "      <td>70.5</td>\n",
       "      <td>NaN</td>\n",
       "      <td>Q</td>\n",
       "      <td>7.7500</td>\n",
       "      <td>Connors, Mr. Patrick</td>\n",
       "      <td>0</td>\n",
       "      <td>117</td>\n",
       "      <td>3</td>\n",
       "      <td>male</td>\n",
       "      <td>0</td>\n",
       "      <td>0</td>\n",
       "      <td>370369</td>\n",
       "      <td>Mr</td>\n",
       "    </tr>\n",
       "    <tr>\n",
       "      <th>493</th>\n",
       "      <td>71.0</td>\n",
       "      <td>NaN</td>\n",
       "      <td>C</td>\n",
       "      <td>49.5042</td>\n",
       "      <td>Artagaveytia, Mr. Ramon</td>\n",
       "      <td>0</td>\n",
       "      <td>494</td>\n",
       "      <td>1</td>\n",
       "      <td>male</td>\n",
       "      <td>0</td>\n",
       "      <td>0</td>\n",
       "      <td>PC 17609</td>\n",
       "      <td>Mr</td>\n",
       "    </tr>\n",
       "    <tr>\n",
       "      <th>630</th>\n",
       "      <td>80.0</td>\n",
       "      <td>A23</td>\n",
       "      <td>S</td>\n",
       "      <td>30.0000</td>\n",
       "      <td>Barkworth, Mr. Algernon Henry Wilson</td>\n",
       "      <td>0</td>\n",
       "      <td>631</td>\n",
       "      <td>1</td>\n",
       "      <td>male</td>\n",
       "      <td>0</td>\n",
       "      <td>1</td>\n",
       "      <td>27042</td>\n",
       "      <td>Mr</td>\n",
       "    </tr>\n",
       "    <tr>\n",
       "      <th>851</th>\n",
       "      <td>74.0</td>\n",
       "      <td>NaN</td>\n",
       "      <td>S</td>\n",
       "      <td>7.7750</td>\n",
       "      <td>Svensson, Mr. Johan</td>\n",
       "      <td>0</td>\n",
       "      <td>852</td>\n",
       "      <td>3</td>\n",
       "      <td>male</td>\n",
       "      <td>0</td>\n",
       "      <td>0</td>\n",
       "      <td>347060</td>\n",
       "      <td>Mr</td>\n",
       "    </tr>\n",
       "    <tr>\n",
       "      <th>96</th>\n",
       "      <td>76.0</td>\n",
       "      <td>C46</td>\n",
       "      <td>S</td>\n",
       "      <td>78.8500</td>\n",
       "      <td>Cavendish, Mrs. Tyrell William (Julia Florence...</td>\n",
       "      <td>0</td>\n",
       "      <td>988</td>\n",
       "      <td>1</td>\n",
       "      <td>female</td>\n",
       "      <td>1</td>\n",
       "      <td>-888</td>\n",
       "      <td>19877</td>\n",
       "      <td>Mrs</td>\n",
       "    </tr>\n",
       "  </tbody>\n",
       "</table>\n",
       "</div>"
      ],
      "text/plain": [
       "      Age Cabin Embarked     Fare  \\\n",
       "96   71.0    A5        C  34.6542   \n",
       "116  70.5   NaN        Q   7.7500   \n",
       "493  71.0   NaN        C  49.5042   \n",
       "630  80.0   A23        S  30.0000   \n",
       "851  74.0   NaN        S   7.7750   \n",
       "96   76.0   C46        S  78.8500   \n",
       "\n",
       "                                                  Name  Parch  PassengerId  \\\n",
       "96                           Goldschmidt, Mr. George B      0           97   \n",
       "116                               Connors, Mr. Patrick      0          117   \n",
       "493                            Artagaveytia, Mr. Ramon      0          494   \n",
       "630               Barkworth, Mr. Algernon Henry Wilson      0          631   \n",
       "851                                Svensson, Mr. Johan      0          852   \n",
       "96   Cavendish, Mrs. Tyrell William (Julia Florence...      0          988   \n",
       "\n",
       "     Pclass     Sex  SibSp  Survived    Ticket Title  \n",
       "96        1    male      0         0  PC 17754    Mr  \n",
       "116       3    male      0         0    370369    Mr  \n",
       "493       1    male      0         0  PC 17609    Mr  \n",
       "630       1    male      0         1     27042    Mr  \n",
       "851       3    male      0         0    347060    Mr  \n",
       "96        1  female      1      -888     19877   Mrs  "
      ]
     },
     "execution_count": 68,
     "metadata": {},
     "output_type": "execute_result"
    }
   ],
   "source": [
    "df.loc[df.Age > 70]"
   ]
  },
  {
   "cell_type": "code",
   "execution_count": 69,
   "metadata": {},
   "outputs": [
    {
     "data": {
      "image/png": "[encoded data removed]",
      "text/plain": [
       "<Figure size 720x504 with 1 Axes>"
      ]
     },
     "metadata": {},
     "output_type": "display_data"
    }
   ],
   "source": [
    "# Fare\n",
    "df.Fare.plot(kind='hist', title='Histogram for Fare', bins=20, color='c', edgecolor='black', figsize=(10,7));"
   ]
  },
  {
   "cell_type": "code",
   "execution_count": 70,
   "metadata": {},
   "outputs": [
    {
     "data": {
      "image/png": "[encoded data removed]",
      "text/plain": [
       "<Figure size 504x504 with 1 Axes>"
      ]
     },
     "metadata": {},
     "output_type": "display_data"
    }
   ],
   "source": [
    "df.Fare.plot(kind='box', figsize=(7,7));"
   ]
  },
  {
   "cell_type": "code",
   "execution_count": 71,
   "metadata": {},
   "outputs": [
    {
     "data": {
      "text/html": [
       "<div>\n",
       "<style>\n",
       "    .dataframe thead tr:only-child th {\n",
       "        text-align: right;\n",
       "    }\n",
       "\n",
       "    .dataframe thead th {\n",
       "        text-align: left;\n",
       "    }\n",
       "\n",
       "    .dataframe tbody tr th {\n",
       "        vertical-align: top;\n",
       "    }\n",
       "</style>\n",
       "<table border=\"1\" class=\"dataframe\">\n",
       "  <thead>\n",
       "    <tr style=\"text-align: right;\">\n",
       "      <th></th>\n",
       "      <th>Age</th>\n",
       "      <th>Cabin</th>\n",
       "      <th>Embarked</th>\n",
       "      <th>Fare</th>\n",
       "      <th>Name</th>\n",
       "      <th>Parch</th>\n",
       "      <th>PassengerId</th>\n",
       "      <th>Pclass</th>\n",
       "      <th>Sex</th>\n",
       "      <th>SibSp</th>\n",
       "      <th>Survived</th>\n",
       "      <th>Ticket</th>\n",
       "      <th>Title</th>\n",
       "    </tr>\n",
       "  </thead>\n",
       "  <tbody>\n",
       "    <tr>\n",
       "      <th>258</th>\n",
       "      <td>35.0</td>\n",
       "      <td>NaN</td>\n",
       "      <td>C</td>\n",
       "      <td>512.3292</td>\n",
       "      <td>Ward, Miss. Anna</td>\n",
       "      <td>0</td>\n",
       "      <td>259</td>\n",
       "      <td>1</td>\n",
       "      <td>female</td>\n",
       "      <td>0</td>\n",
       "      <td>1</td>\n",
       "      <td>PC 17755</td>\n",
       "      <td>Miss</td>\n",
       "    </tr>\n",
       "    <tr>\n",
       "      <th>679</th>\n",
       "      <td>36.0</td>\n",
       "      <td>B51 B53 B55</td>\n",
       "      <td>C</td>\n",
       "      <td>512.3292</td>\n",
       "      <td>Cardeza, Mr. Thomas Drake Martinez</td>\n",
       "      <td>1</td>\n",
       "      <td>680</td>\n",
       "      <td>1</td>\n",
       "      <td>male</td>\n",
       "      <td>0</td>\n",
       "      <td>1</td>\n",
       "      <td>PC 17755</td>\n",
       "      <td>Mr</td>\n",
       "    </tr>\n",
       "    <tr>\n",
       "      <th>737</th>\n",
       "      <td>35.0</td>\n",
       "      <td>B101</td>\n",
       "      <td>C</td>\n",
       "      <td>512.3292</td>\n",
       "      <td>Lesurer, Mr. Gustave J</td>\n",
       "      <td>0</td>\n",
       "      <td>738</td>\n",
       "      <td>1</td>\n",
       "      <td>male</td>\n",
       "      <td>0</td>\n",
       "      <td>1</td>\n",
       "      <td>PC 17755</td>\n",
       "      <td>Mr</td>\n",
       "    </tr>\n",
       "    <tr>\n",
       "      <th>343</th>\n",
       "      <td>58.0</td>\n",
       "      <td>B51 B53 B55</td>\n",
       "      <td>C</td>\n",
       "      <td>512.3292</td>\n",
       "      <td>Cardeza, Mrs. James Warburton Martinez (Charlo...</td>\n",
       "      <td>1</td>\n",
       "      <td>1235</td>\n",
       "      <td>1</td>\n",
       "      <td>female</td>\n",
       "      <td>0</td>\n",
       "      <td>-888</td>\n",
       "      <td>PC 17755</td>\n",
       "      <td>Mrs</td>\n",
       "    </tr>\n",
       "  </tbody>\n",
       "</table>\n",
       "</div>"
      ],
      "text/plain": [
       "      Age        Cabin Embarked      Fare  \\\n",
       "258  35.0          NaN        C  512.3292   \n",
       "679  36.0  B51 B53 B55        C  512.3292   \n",
       "737  35.0         B101        C  512.3292   \n",
       "343  58.0  B51 B53 B55        C  512.3292   \n",
       "\n",
       "                                                  Name  Parch  PassengerId  \\\n",
       "258                                   Ward, Miss. Anna      0          259   \n",
       "679                 Cardeza, Mr. Thomas Drake Martinez      1          680   \n",
       "737                             Lesurer, Mr. Gustave J      0          738   \n",
       "343  Cardeza, Mrs. James Warburton Martinez (Charlo...      1         1235   \n",
       "\n",
       "     Pclass     Sex  SibSp  Survived    Ticket Title  \n",
       "258       1  female      0         1  PC 17755  Miss  \n",
       "679       1    male      0         1  PC 17755    Mr  \n",
       "737       1    male      0         1  PC 17755    Mr  \n",
       "343       1  female      0      -888  PC 17755   Mrs  "
      ]
     },
     "execution_count": 71,
     "metadata": {},
     "output_type": "execute_result"
    }
   ],
   "source": [
    "# Outlier values for Fare\n",
    "df.loc[df.Fare == df.Fare.max()]"
   ]
  },
  {
   "cell_type": "code",
   "execution_count": 72,
   "metadata": {},
   "outputs": [
    {
     "data": {
      "image/png": "[encoded data removed]",
      "text/plain": [
       "<Figure size 720x504 with 1 Axes>"
      ]
     },
     "metadata": {},
     "output_type": "display_data"
    }
   ],
   "source": [
    "log_Fare = np.log(df.Fare + 1.0)\n",
    "log_Fare.plot(kind='hist', title='Histogram for Fare', bins=20, color='c', edgecolor='black', figsize=(10,7));"
   ]
  },
  {
   "cell_type": "code",
   "execution_count": 73,
   "metadata": {},
   "outputs": [
    {
     "data": {
      "text/plain": [
       "0        (-0.001, 7.896]\n",
       "1      (31.275, 512.329]\n",
       "2        (7.896, 14.454]\n",
       "3      (31.275, 512.329]\n",
       "4        (7.896, 14.454]\n",
       "5        (7.896, 14.454]\n",
       "6      (31.275, 512.329]\n",
       "             ...        \n",
       "411    (31.275, 512.329]\n",
       "412      (-0.001, 7.896]\n",
       "413      (7.896, 14.454]\n",
       "414    (31.275, 512.329]\n",
       "415      (-0.001, 7.896]\n",
       "416      (7.896, 14.454]\n",
       "417     (14.454, 31.275]\n",
       "Name: Fare, Length: 1309, dtype: category\n",
       "Categories (4, interval[float64]): [(-0.001, 7.896] < (7.896, 14.454] < (14.454, 31.275] < (31.275, 512.329]]"
      ]
     },
     "execution_count": 73,
     "metadata": {},
     "output_type": "execute_result"
    }
   ],
   "source": [
    "# Binning\n",
    "# qcut function performs quantile based binning\n",
    "pd.qcut(df['Fare'], 4)"
   ]
  },
  {
   "cell_type": "code",
   "execution_count": 74,
   "metadata": {},
   "outputs": [
    {
     "data": {
      "text/plain": [
       "0       very_low\n",
       "1      very_high\n",
       "2            low\n",
       "3      very_high\n",
       "4            low\n",
       "5            low\n",
       "6      very_high\n",
       "         ...    \n",
       "411    very_high\n",
       "412     very_low\n",
       "413          low\n",
       "414    very_high\n",
       "415     very_low\n",
       "416          low\n",
       "417         high\n",
       "Name: Fare, Length: 1309, dtype: category\n",
       "Categories (4, object): [very_low < low < high < very_high]"
      ]
     },
     "execution_count": 74,
     "metadata": {},
     "output_type": "execute_result"
    }
   ],
   "source": [
    "# Discretizing the bins into 4 categories\n",
    "pd.qcut(df.Fare, 4, labels=['very_low', 'low', 'high', 'very_high'])"
   ]
  },
  {
   "cell_type": "code",
   "execution_count": 75,
   "metadata": {},
   "outputs": [
    {
     "data": {
      "image/png": "[encoded data removed]",
      "text/plain": [
       "<Figure size 432x360 with 1 Axes>"
      ]
     },
     "metadata": {},
     "output_type": "display_data"
    }
   ],
   "source": [
    "pd.qcut(df.Fare, 4, labels=['very_low', 'low', 'high', 'very_high']).value_counts().plot(kind='bar', color='c', rot=0, figsize=(6,5));"
   ]
  },
  {
   "cell_type": "code",
   "execution_count": 76,
   "metadata": {
    "collapsed": true
   },
   "outputs": [],
   "source": [
    "# Creating a new feature for storing these fare bins\n",
    "df['Fare_Bin'] = pd.qcut(df.Fare, 4, labels=['very_low', 'low', 'high', 'very_high'])"
   ]
  },
  {
   "cell_type": "code",
   "execution_count": 77,
   "metadata": {},
   "outputs": [
    {
     "name": "stdout",
     "output_type": "stream",
     "text": [
      "<class 'pandas.core.frame.DataFrame'>\n",
      "Int64Index: 1309 entries, 0 to 417\n",
      "Data columns (total 14 columns):\n",
      "Age            1309 non-null float64\n",
      "Cabin          295 non-null object\n",
      "Embarked       1309 non-null object\n",
      "Fare           1309 non-null float64\n",
      "Name           1309 non-null object\n",
      "Parch          1309 non-null int64\n",
      "PassengerId    1309 non-null int64\n",
      "Pclass         1309 non-null int64\n",
      "Sex            1309 non-null object\n",
      "SibSp          1309 non-null int64\n",
      "Survived       1309 non-null int64\n",
      "Ticket         1309 non-null object\n",
      "Title          1309 non-null object\n",
      "Fare_Bin       1309 non-null category\n",
      "dtypes: category(1), float64(2), int64(5), object(6)\n",
      "memory usage: 184.6+ KB\n"
     ]
    }
   ],
   "source": [
    "df.info()"
   ]
  },
  {
   "cell_type": "code",
   "execution_count": 78,
   "metadata": {},
   "outputs": [
    {
     "data": {
      "text/plain": [
       "very_low     337\n",
       "high         328\n",
       "very_high    323\n",
       "low          321\n",
       "Name: Fare_Bin, dtype: int64"
      ]
     },
     "execution_count": 78,
     "metadata": {},
     "output_type": "execute_result"
    }
   ],
   "source": [
    "df.Fare_Bin.value_counts()"
   ]
  },
  {
   "cell_type": "markdown",
   "metadata": {},
   "source": [
    "## Feature Engineering - tranformation, creation, selection\n",
    "#### Using domain knowledge and technical expertise"
   ]
  },
  {
   "cell_type": "markdown",
   "metadata": {},
   "source": [
    "### AgeState (child/adult)"
   ]
  },
  {
   "cell_type": "code",
   "execution_count": 79,
   "metadata": {
    "collapsed": true
   },
   "outputs": [],
   "source": [
    "# Creating feature 'AgeState' for child/adult\n",
    "df['AgeState'] = np.where(df['Age'] >= 18, 'Adult', 'Child')"
   ]
  },
  {
   "cell_type": "code",
   "execution_count": 80,
   "metadata": {},
   "outputs": [
    {
     "data": {
      "text/plain": [
       "Adult    1147\n",
       "Child     162\n",
       "Name: AgeState, dtype: int64"
      ]
     },
     "execution_count": 80,
     "metadata": {},
     "output_type": "execute_result"
    }
   ],
   "source": [
    "df.AgeState.value_counts()"
   ]
  },
  {
   "cell_type": "code",
   "execution_count": 81,
   "metadata": {},
   "outputs": [
    {
     "data": {
      "text/html": [
       "<div>\n",
       "<style>\n",
       "    .dataframe thead tr:only-child th {\n",
       "        text-align: right;\n",
       "    }\n",
       "\n",
       "    .dataframe thead th {\n",
       "        text-align: left;\n",
       "    }\n",
       "\n",
       "    .dataframe tbody tr th {\n",
       "        vertical-align: top;\n",
       "    }\n",
       "</style>\n",
       "<table border=\"1\" class=\"dataframe\">\n",
       "  <thead>\n",
       "    <tr style=\"text-align: right;\">\n",
       "      <th>AgeState</th>\n",
       "      <th>Adult</th>\n",
       "      <th>Child</th>\n",
       "    </tr>\n",
       "    <tr>\n",
       "      <th>Survived</th>\n",
       "      <th></th>\n",
       "      <th></th>\n",
       "    </tr>\n",
       "  </thead>\n",
       "  <tbody>\n",
       "    <tr>\n",
       "      <th>0</th>\n",
       "      <td>495</td>\n",
       "      <td>54</td>\n",
       "    </tr>\n",
       "    <tr>\n",
       "      <th>1</th>\n",
       "      <td>279</td>\n",
       "      <td>63</td>\n",
       "    </tr>\n",
       "  </tbody>\n",
       "</table>\n",
       "</div>"
      ],
      "text/plain": [
       "AgeState  Adult  Child\n",
       "Survived              \n",
       "0           495     54\n",
       "1           279     63"
      ]
     },
     "execution_count": 81,
     "metadata": {},
     "output_type": "execute_result"
    }
   ],
   "source": [
    "pd.crosstab(df[df.Survived != -888].Survived, df[df.Survived != -888].AgeState)"
   ]
  },
  {
   "cell_type": "markdown",
   "metadata": {},
   "source": [
    "### FamilySize"
   ]
  },
  {
   "cell_type": "code",
   "execution_count": 82,
   "metadata": {},
   "outputs": [],
   "source": [
    "df['FamilySize'] = df.Parch + df.SibSp + 1"
   ]
  },
  {
   "cell_type": "code",
   "execution_count": 83,
   "metadata": {},
   "outputs": [
    {
     "data": {
      "image/png": "[encoded data removed]",
      "text/plain": [
       "<Figure size 504x504 with 1 Axes>"
      ]
     },
     "metadata": {},
     "output_type": "display_data"
    }
   ],
   "source": [
    "df.FamilySize.plot(kind='hist', color='teal', edgecolor='black', figsize=(7,7));"
   ]
  },
  {
   "cell_type": "code",
   "execution_count": 84,
   "metadata": {},
   "outputs": [
    {
     "data": {
      "text/html": [
       "<div>\n",
       "<style>\n",
       "    .dataframe thead tr:only-child th {\n",
       "        text-align: right;\n",
       "    }\n",
       "\n",
       "    .dataframe thead th {\n",
       "        text-align: left;\n",
       "    }\n",
       "\n",
       "    .dataframe tbody tr th {\n",
       "        vertical-align: top;\n",
       "    }\n",
       "</style>\n",
       "<table border=\"1\" class=\"dataframe\">\n",
       "  <thead>\n",
       "    <tr style=\"text-align: right;\">\n",
       "      <th></th>\n",
       "      <th>Name</th>\n",
       "      <th>Survived</th>\n",
       "      <th>FamilySize</th>\n",
       "      <th>Ticket</th>\n",
       "    </tr>\n",
       "  </thead>\n",
       "  <tbody>\n",
       "    <tr>\n",
       "      <th>159</th>\n",
       "      <td>Sage, Master. Thomas Henry</td>\n",
       "      <td>0</td>\n",
       "      <td>11</td>\n",
       "      <td>CA. 2343</td>\n",
       "    </tr>\n",
       "    <tr>\n",
       "      <th>180</th>\n",
       "      <td>Sage, Miss. Constance Gladys</td>\n",
       "      <td>0</td>\n",
       "      <td>11</td>\n",
       "      <td>CA. 2343</td>\n",
       "    </tr>\n",
       "    <tr>\n",
       "      <th>201</th>\n",
       "      <td>Sage, Mr. Frederick</td>\n",
       "      <td>0</td>\n",
       "      <td>11</td>\n",
       "      <td>CA. 2343</td>\n",
       "    </tr>\n",
       "    <tr>\n",
       "      <th>324</th>\n",
       "      <td>Sage, Mr. George John Jr</td>\n",
       "      <td>0</td>\n",
       "      <td>11</td>\n",
       "      <td>CA. 2343</td>\n",
       "    </tr>\n",
       "    <tr>\n",
       "      <th>792</th>\n",
       "      <td>Sage, Miss. Stella Anna</td>\n",
       "      <td>0</td>\n",
       "      <td>11</td>\n",
       "      <td>CA. 2343</td>\n",
       "    </tr>\n",
       "    <tr>\n",
       "      <th>846</th>\n",
       "      <td>Sage, Mr. Douglas Bullen</td>\n",
       "      <td>0</td>\n",
       "      <td>11</td>\n",
       "      <td>CA. 2343</td>\n",
       "    </tr>\n",
       "    <tr>\n",
       "      <th>863</th>\n",
       "      <td>Sage, Miss. Dorothy Edith \"Dolly\"</td>\n",
       "      <td>0</td>\n",
       "      <td>11</td>\n",
       "      <td>CA. 2343</td>\n",
       "    </tr>\n",
       "    <tr>\n",
       "      <th>188</th>\n",
       "      <td>Sage, Miss. Ada</td>\n",
       "      <td>-888</td>\n",
       "      <td>11</td>\n",
       "      <td>CA. 2343</td>\n",
       "    </tr>\n",
       "    <tr>\n",
       "      <th>342</th>\n",
       "      <td>Sage, Mr. John George</td>\n",
       "      <td>-888</td>\n",
       "      <td>11</td>\n",
       "      <td>CA. 2343</td>\n",
       "    </tr>\n",
       "    <tr>\n",
       "      <th>360</th>\n",
       "      <td>Sage, Master. William Henry</td>\n",
       "      <td>-888</td>\n",
       "      <td>11</td>\n",
       "      <td>CA. 2343</td>\n",
       "    </tr>\n",
       "    <tr>\n",
       "      <th>365</th>\n",
       "      <td>Sage, Mrs. John (Annie Bullen)</td>\n",
       "      <td>-888</td>\n",
       "      <td>11</td>\n",
       "      <td>CA. 2343</td>\n",
       "    </tr>\n",
       "  </tbody>\n",
       "</table>\n",
       "</div>"
      ],
      "text/plain": [
       "                                  Name  Survived  FamilySize    Ticket\n",
       "159         Sage, Master. Thomas Henry         0          11  CA. 2343\n",
       "180       Sage, Miss. Constance Gladys         0          11  CA. 2343\n",
       "201                Sage, Mr. Frederick         0          11  CA. 2343\n",
       "324           Sage, Mr. George John Jr         0          11  CA. 2343\n",
       "792            Sage, Miss. Stella Anna         0          11  CA. 2343\n",
       "846           Sage, Mr. Douglas Bullen         0          11  CA. 2343\n",
       "863  Sage, Miss. Dorothy Edith \"Dolly\"         0          11  CA. 2343\n",
       "188                    Sage, Miss. Ada      -888          11  CA. 2343\n",
       "342              Sage, Mr. John George      -888          11  CA. 2343\n",
       "360        Sage, Master. William Henry      -888          11  CA. 2343\n",
       "365     Sage, Mrs. John (Annie Bullen)      -888          11  CA. 2343"
      ]
     },
     "execution_count": 84,
     "metadata": {},
     "output_type": "execute_result"
    }
   ],
   "source": [
    "# We can see that there were a few large size families\n",
    "df.loc[df.FamilySize == df.FamilySize.max(), ['Name', 'Survived', 'FamilySize', 'Ticket']]"
   ]
  },
  {
   "cell_type": "code",
   "execution_count": 85,
   "metadata": {},
   "outputs": [
    {
     "data": {
      "text/html": [
       "<div>\n",
       "<style>\n",
       "    .dataframe thead tr:only-child th {\n",
       "        text-align: right;\n",
       "    }\n",
       "\n",
       "    .dataframe thead th {\n",
       "        text-align: left;\n",
       "    }\n",
       "\n",
       "    .dataframe tbody tr th {\n",
       "        vertical-align: top;\n",
       "    }\n",
       "</style>\n",
       "<table border=\"1\" class=\"dataframe\">\n",
       "  <thead>\n",
       "    <tr style=\"text-align: right;\">\n",
       "      <th>FamilySize</th>\n",
       "      <th>1</th>\n",
       "      <th>2</th>\n",
       "      <th>3</th>\n",
       "      <th>4</th>\n",
       "      <th>5</th>\n",
       "      <th>6</th>\n",
       "      <th>7</th>\n",
       "      <th>8</th>\n",
       "      <th>11</th>\n",
       "    </tr>\n",
       "    <tr>\n",
       "      <th>Survived</th>\n",
       "      <th></th>\n",
       "      <th></th>\n",
       "      <th></th>\n",
       "      <th></th>\n",
       "      <th></th>\n",
       "      <th></th>\n",
       "      <th></th>\n",
       "      <th></th>\n",
       "      <th></th>\n",
       "    </tr>\n",
       "  </thead>\n",
       "  <tbody>\n",
       "    <tr>\n",
       "      <th>0</th>\n",
       "      <td>374</td>\n",
       "      <td>72</td>\n",
       "      <td>43</td>\n",
       "      <td>8</td>\n",
       "      <td>12</td>\n",
       "      <td>19</td>\n",
       "      <td>8</td>\n",
       "      <td>6</td>\n",
       "      <td>7</td>\n",
       "    </tr>\n",
       "    <tr>\n",
       "      <th>1</th>\n",
       "      <td>163</td>\n",
       "      <td>89</td>\n",
       "      <td>59</td>\n",
       "      <td>21</td>\n",
       "      <td>3</td>\n",
       "      <td>3</td>\n",
       "      <td>4</td>\n",
       "      <td>0</td>\n",
       "      <td>0</td>\n",
       "    </tr>\n",
       "  </tbody>\n",
       "</table>\n",
       "</div>"
      ],
      "text/plain": [
       "FamilySize   1   2   3   4   5   6   7   8   11\n",
       "Survived                                       \n",
       "0           374  72  43   8  12  19   8   6   7\n",
       "1           163  89  59  21   3   3   4   0   0"
      ]
     },
     "execution_count": 85,
     "metadata": {},
     "output_type": "execute_result"
    }
   ],
   "source": [
    "pd.crosstab(df[df.Survived != -888].Survived, df[df.Survived != -888].FamilySize)"
   ]
  },
  {
   "cell_type": "code",
   "execution_count": 86,
   "metadata": {
    "collapsed": true
   },
   "outputs": [],
   "source": [
    "# Here we can see that large families had low survival rate, while small families had a higher survival rate"
   ]
  },
  {
   "cell_type": "markdown",
   "metadata": {},
   "source": [
    "### Mother and child : IsMother"
   ]
  },
  {
   "cell_type": "code",
   "execution_count": 87,
   "metadata": {},
   "outputs": [],
   "source": [
    "df['IsMother'] = np.where(((df.Sex == 'female') & (df.Parch > 0) & (df.Title == 'Mrs') & (df.Age > 18)), 1, 0)"
   ]
  },
  {
   "cell_type": "code",
   "execution_count": 88,
   "metadata": {},
   "outputs": [
    {
     "data": {
      "text/html": [
       "<div>\n",
       "<style>\n",
       "    .dataframe thead tr:only-child th {\n",
       "        text-align: right;\n",
       "    }\n",
       "\n",
       "    .dataframe thead th {\n",
       "        text-align: left;\n",
       "    }\n",
       "\n",
       "    .dataframe tbody tr th {\n",
       "        vertical-align: top;\n",
       "    }\n",
       "</style>\n",
       "<table border=\"1\" class=\"dataframe\">\n",
       "  <thead>\n",
       "    <tr style=\"text-align: right;\">\n",
       "      <th>IsMother</th>\n",
       "      <th>0</th>\n",
       "      <th>1</th>\n",
       "    </tr>\n",
       "    <tr>\n",
       "      <th>Survived</th>\n",
       "      <th></th>\n",
       "      <th></th>\n",
       "    </tr>\n",
       "  </thead>\n",
       "  <tbody>\n",
       "    <tr>\n",
       "      <th>0</th>\n",
       "      <td>533</td>\n",
       "      <td>16</td>\n",
       "    </tr>\n",
       "    <tr>\n",
       "      <th>1</th>\n",
       "      <td>303</td>\n",
       "      <td>39</td>\n",
       "    </tr>\n",
       "  </tbody>\n",
       "</table>\n",
       "</div>"
      ],
      "text/plain": [
       "IsMother    0   1\n",
       "Survived         \n",
       "0         533  16\n",
       "1         303  39"
      ]
     },
     "execution_count": 88,
     "metadata": {},
     "output_type": "execute_result"
    }
   ],
   "source": [
    "pd.crosstab(df[df.Survived != -888].Survived, df[df.Survived != -888].IsMother)"
   ]
  },
  {
   "cell_type": "code",
   "execution_count": 89,
   "metadata": {
    "collapsed": true
   },
   "outputs": [],
   "source": [
    "# Here, motherhood might be one deciding factor for survival as more mothers survived"
   ]
  },
  {
   "cell_type": "markdown",
   "metadata": {},
   "source": [
    "### Deck"
   ]
  },
  {
   "cell_type": "code",
   "execution_count": 90,
   "metadata": {},
   "outputs": [
    {
     "data": {
      "text/plain": [
       "0       NaN\n",
       "1       C85\n",
       "2       NaN\n",
       "3      C123\n",
       "4       NaN\n",
       "5       NaN\n",
       "6       E46\n",
       "       ... \n",
       "411     C78\n",
       "412     NaN\n",
       "413     NaN\n",
       "414    C105\n",
       "415     NaN\n",
       "416     NaN\n",
       "417     NaN\n",
       "Name: Cabin, Length: 1309, dtype: object"
      ]
     },
     "execution_count": 90,
     "metadata": {},
     "output_type": "execute_result"
    }
   ],
   "source": [
    "df.Cabin"
   ]
  },
  {
   "cell_type": "code",
   "execution_count": 91,
   "metadata": {},
   "outputs": [
    {
     "data": {
      "text/plain": [
       "array([nan, 'C85', 'C123', 'E46', 'G6', 'C103', 'D56', 'A6', 'C23 C25 C27',\n",
       "       'B78', 'D33', 'B30', 'C52', 'B28', 'C83', 'F33', 'F G73', 'E31',\n",
       "       'A5', 'D10 D12', 'D26', 'C110', 'B58 B60', 'E101', 'F E69', 'D47',\n",
       "       'B86', 'F2', 'C2', 'E33', 'B19', 'A7', 'C49', 'F4', 'A32', 'B4',\n",
       "       'B80', 'A31', 'D36', 'D15', 'C93', 'C78', 'D35', 'C87', 'B77',\n",
       "       'E67', 'B94', 'C125', 'C99', 'C118', 'D7', 'A19', 'B49', 'D',\n",
       "       'C22 C26', 'C106', 'C65', 'E36', 'C54', 'B57 B59 B63 B66', 'C7',\n",
       "       'E34', 'C32', 'B18', 'C124', 'C91', 'E40', 'T', 'C128', 'D37',\n",
       "       'B35', 'E50', 'C82', 'B96 B98', 'E10', 'E44', 'A34', 'C104', 'C111',\n",
       "       'C92', 'E38', 'D21', 'E12', 'E63', 'A14', 'B37', 'C30', 'D20',\n",
       "       'B79', 'E25', 'D46', 'B73', 'C95', 'B38', 'B39', 'B22', 'C86',\n",
       "       'C70', 'A16', 'C101', 'C68', 'A10', 'E68', 'B41', 'A20', 'D19',\n",
       "       'D50', 'D9', 'A23', 'B50', 'A26', 'D48', 'E58', 'C126', 'B71',\n",
       "       'B51 B53 B55', 'D49', 'B5', 'B20', 'F G63', 'C62 C64', 'E24', 'C90',\n",
       "       'C45', 'E8', 'B101', 'D45', 'C46', 'D30', 'E121', 'D11', 'E77',\n",
       "       'F38', 'B3', 'D6', 'B82 B84', 'D17', 'A36', 'B102', 'B69', 'E49',\n",
       "       'C47', 'D28', 'E17', 'A24', 'C50', 'B42', 'C148', 'B45', 'B36',\n",
       "       'A21', 'D34', 'A9', 'C31', 'B61', 'C53', 'D43', 'C130', 'C132',\n",
       "       'C55 C57', 'C116', 'F', 'A29', 'C6', 'C28', 'C51', 'C97', 'D22',\n",
       "       'B10', 'E45', 'E52', 'A11', 'B11', 'C80', 'C89', 'F E46', 'B26',\n",
       "       'F E57', 'A18', 'E60', 'E39 E41', 'B52 B54 B56', 'C39', 'B24',\n",
       "       'D40', 'D38', 'C105'], dtype=object)"
      ]
     },
     "execution_count": 91,
     "metadata": {},
     "output_type": "execute_result"
    }
   ],
   "source": [
    "df.Cabin.unique()"
   ]
  },
  {
   "cell_type": "code",
   "execution_count": 92,
   "metadata": {},
   "outputs": [
    {
     "data": {
      "text/html": [
       "<div>\n",
       "<style>\n",
       "    .dataframe thead tr:only-child th {\n",
       "        text-align: right;\n",
       "    }\n",
       "\n",
       "    .dataframe thead th {\n",
       "        text-align: left;\n",
       "    }\n",
       "\n",
       "    .dataframe tbody tr th {\n",
       "        vertical-align: top;\n",
       "    }\n",
       "</style>\n",
       "<table border=\"1\" class=\"dataframe\">\n",
       "  <thead>\n",
       "    <tr style=\"text-align: right;\">\n",
       "      <th></th>\n",
       "      <th>Age</th>\n",
       "      <th>Cabin</th>\n",
       "      <th>Embarked</th>\n",
       "      <th>Fare</th>\n",
       "      <th>Name</th>\n",
       "      <th>Parch</th>\n",
       "      <th>PassengerId</th>\n",
       "      <th>Pclass</th>\n",
       "      <th>Sex</th>\n",
       "      <th>SibSp</th>\n",
       "      <th>Survived</th>\n",
       "      <th>Ticket</th>\n",
       "      <th>Title</th>\n",
       "      <th>Fare_Bin</th>\n",
       "      <th>AgeState</th>\n",
       "      <th>FamilySize</th>\n",
       "      <th>IsMother</th>\n",
       "    </tr>\n",
       "  </thead>\n",
       "  <tbody>\n",
       "    <tr>\n",
       "      <th>339</th>\n",
       "      <td>45.0</td>\n",
       "      <td>T</td>\n",
       "      <td>S</td>\n",
       "      <td>35.5</td>\n",
       "      <td>Blackwell, Mr. Stephen Weart</td>\n",
       "      <td>0</td>\n",
       "      <td>340</td>\n",
       "      <td>1</td>\n",
       "      <td>male</td>\n",
       "      <td>0</td>\n",
       "      <td>0</td>\n",
       "      <td>113784</td>\n",
       "      <td>Mr</td>\n",
       "      <td>very_high</td>\n",
       "      <td>Adult</td>\n",
       "      <td>1</td>\n",
       "      <td>0</td>\n",
       "    </tr>\n",
       "  </tbody>\n",
       "</table>\n",
       "</div>"
      ],
      "text/plain": [
       "      Age Cabin Embarked  Fare                          Name  Parch  \\\n",
       "339  45.0     T        S  35.5  Blackwell, Mr. Stephen Weart      0   \n",
       "\n",
       "     PassengerId  Pclass   Sex  SibSp  Survived  Ticket Title   Fare_Bin  \\\n",
       "339          340       1  male      0         0  113784    Mr  very_high   \n",
       "\n",
       "    AgeState  FamilySize  IsMother  \n",
       "339    Adult           1         0  "
      ]
     },
     "execution_count": 92,
     "metadata": {},
     "output_type": "execute_result"
    }
   ],
   "source": [
    "df[df.Cabin == 'T']"
   ]
  },
  {
   "cell_type": "code",
   "execution_count": 93,
   "metadata": {
    "collapsed": true
   },
   "outputs": [],
   "source": [
    "df.loc[df.Cabin == 'T', 'Cabin'] = np.NaN"
   ]
  },
  {
   "cell_type": "code",
   "execution_count": 94,
   "metadata": {},
   "outputs": [
    {
     "data": {
      "text/plain": [
       "array([nan, 'C85', 'C123', 'E46', 'G6', 'C103', 'D56', 'A6', 'C23 C25 C27',\n",
       "       'B78', 'D33', 'B30', 'C52', 'B28', 'C83', 'F33', 'F G73', 'E31',\n",
       "       'A5', 'D10 D12', 'D26', 'C110', 'B58 B60', 'E101', 'F E69', 'D47',\n",
       "       'B86', 'F2', 'C2', 'E33', 'B19', 'A7', 'C49', 'F4', 'A32', 'B4',\n",
       "       'B80', 'A31', 'D36', 'D15', 'C93', 'C78', 'D35', 'C87', 'B77',\n",
       "       'E67', 'B94', 'C125', 'C99', 'C118', 'D7', 'A19', 'B49', 'D',\n",
       "       'C22 C26', 'C106', 'C65', 'E36', 'C54', 'B57 B59 B63 B66', 'C7',\n",
       "       'E34', 'C32', 'B18', 'C124', 'C91', 'E40', 'C128', 'D37', 'B35',\n",
       "       'E50', 'C82', 'B96 B98', 'E10', 'E44', 'A34', 'C104', 'C111', 'C92',\n",
       "       'E38', 'D21', 'E12', 'E63', 'A14', 'B37', 'C30', 'D20', 'B79',\n",
       "       'E25', 'D46', 'B73', 'C95', 'B38', 'B39', 'B22', 'C86', 'C70',\n",
       "       'A16', 'C101', 'C68', 'A10', 'E68', 'B41', 'A20', 'D19', 'D50',\n",
       "       'D9', 'A23', 'B50', 'A26', 'D48', 'E58', 'C126', 'B71',\n",
       "       'B51 B53 B55', 'D49', 'B5', 'B20', 'F G63', 'C62 C64', 'E24', 'C90',\n",
       "       'C45', 'E8', 'B101', 'D45', 'C46', 'D30', 'E121', 'D11', 'E77',\n",
       "       'F38', 'B3', 'D6', 'B82 B84', 'D17', 'A36', 'B102', 'B69', 'E49',\n",
       "       'C47', 'D28', 'E17', 'A24', 'C50', 'B42', 'C148', 'B45', 'B36',\n",
       "       'A21', 'D34', 'A9', 'C31', 'B61', 'C53', 'D43', 'C130', 'C132',\n",
       "       'C55 C57', 'C116', 'F', 'A29', 'C6', 'C28', 'C51', 'C97', 'D22',\n",
       "       'B10', 'E45', 'E52', 'A11', 'B11', 'C80', 'C89', 'F E46', 'B26',\n",
       "       'F E57', 'A18', 'E60', 'E39 E41', 'B52 B54 B56', 'C39', 'B24',\n",
       "       'D40', 'D38', 'C105'], dtype=object)"
      ]
     },
     "execution_count": 94,
     "metadata": {},
     "output_type": "execute_result"
    }
   ],
   "source": [
    "df.Cabin.unique()"
   ]
  },
  {
   "cell_type": "code",
   "execution_count": 95,
   "metadata": {},
   "outputs": [],
   "source": [
    "def get_deck(cabin):\n",
    "    return np.where(pd.notnull(cabin), str(cabin)[0].upper(), 'Z')\n",
    "\n",
    "df['Deck'] = df['Cabin'].map(lambda x : get_deck(x))"
   ]
  },
  {
   "cell_type": "code",
   "execution_count": 96,
   "metadata": {},
   "outputs": [
    {
     "data": {
      "text/plain": [
       "Z    1015\n",
       "C      94\n",
       "B      65\n",
       "D      46\n",
       "E      41\n",
       "A      22\n",
       "F      21\n",
       "G       5\n",
       "Name: Deck, dtype: int64"
      ]
     },
     "execution_count": 96,
     "metadata": {},
     "output_type": "execute_result"
    }
   ],
   "source": [
    "df.Deck.value_counts()"
   ]
  },
  {
   "cell_type": "code",
   "execution_count": 97,
   "metadata": {},
   "outputs": [
    {
     "data": {
      "text/html": [
       "<div>\n",
       "<style>\n",
       "    .dataframe thead tr:only-child th {\n",
       "        text-align: right;\n",
       "    }\n",
       "\n",
       "    .dataframe thead th {\n",
       "        text-align: left;\n",
       "    }\n",
       "\n",
       "    .dataframe tbody tr th {\n",
       "        vertical-align: top;\n",
       "    }\n",
       "</style>\n",
       "<table border=\"1\" class=\"dataframe\">\n",
       "  <thead>\n",
       "    <tr style=\"text-align: right;\">\n",
       "      <th>Deck</th>\n",
       "      <th>A</th>\n",
       "      <th>B</th>\n",
       "      <th>C</th>\n",
       "      <th>D</th>\n",
       "      <th>E</th>\n",
       "      <th>F</th>\n",
       "      <th>G</th>\n",
       "      <th>Z</th>\n",
       "    </tr>\n",
       "    <tr>\n",
       "      <th>Survived</th>\n",
       "      <th></th>\n",
       "      <th></th>\n",
       "      <th></th>\n",
       "      <th></th>\n",
       "      <th></th>\n",
       "      <th></th>\n",
       "      <th></th>\n",
       "      <th></th>\n",
       "    </tr>\n",
       "  </thead>\n",
       "  <tbody>\n",
       "    <tr>\n",
       "      <th>0</th>\n",
       "      <td>8</td>\n",
       "      <td>12</td>\n",
       "      <td>24</td>\n",
       "      <td>8</td>\n",
       "      <td>8</td>\n",
       "      <td>5</td>\n",
       "      <td>2</td>\n",
       "      <td>482</td>\n",
       "    </tr>\n",
       "    <tr>\n",
       "      <th>1</th>\n",
       "      <td>7</td>\n",
       "      <td>35</td>\n",
       "      <td>35</td>\n",
       "      <td>25</td>\n",
       "      <td>24</td>\n",
       "      <td>8</td>\n",
       "      <td>2</td>\n",
       "      <td>206</td>\n",
       "    </tr>\n",
       "  </tbody>\n",
       "</table>\n",
       "</div>"
      ],
      "text/plain": [
       "Deck      A   B   C   D   E  F  G    Z\n",
       "Survived                              \n",
       "0         8  12  24   8   8  5  2  482\n",
       "1         7  35  35  25  24  8  2  206"
      ]
     },
     "execution_count": 97,
     "metadata": {},
     "output_type": "execute_result"
    }
   ],
   "source": [
    "pd.crosstab(df[df.Survived != -888].Survived, df[df.Survived != -888].Deck)"
   ]
  },
  {
   "cell_type": "markdown",
   "metadata": {},
   "source": [
    "## Categorical feature encoding"
   ]
  },
  {
   "cell_type": "code",
   "execution_count": 98,
   "metadata": {
    "collapsed": true
   },
   "outputs": [],
   "source": [
    "# Sex\n",
    "df['IsMale'] = np.where(df.Sex == 'male', 1, 0)"
   ]
  },
  {
   "cell_type": "code",
   "execution_count": 99,
   "metadata": {},
   "outputs": [],
   "source": [
    "# One-hot encoding\n",
    "df = pd.get_dummies(df, columns=['Deck', 'Pclass', 'Title', 'Fare_Bin', 'Embarked', 'AgeState'])"
   ]
  },
  {
   "cell_type": "code",
   "execution_count": 100,
   "metadata": {},
   "outputs": [
    {
     "name": "stdout",
     "output_type": "stream",
     "text": [
      "<class 'pandas.core.frame.DataFrame'>\n",
      "Int64Index: 1309 entries, 0 to 417\n",
      "Data columns (total 40 columns):\n",
      "Age                   1309 non-null float64\n",
      "Cabin                 294 non-null object\n",
      "Fare                  1309 non-null float64\n",
      "Name                  1309 non-null object\n",
      "Parch                 1309 non-null int64\n",
      "PassengerId           1309 non-null int64\n",
      "Sex                   1309 non-null object\n",
      "SibSp                 1309 non-null int64\n",
      "Survived              1309 non-null int64\n",
      "Ticket                1309 non-null object\n",
      "FamilySize            1309 non-null int64\n",
      "IsMother              1309 non-null int32\n",
      "IsMale                1309 non-null int32\n",
      "Deck_A                1309 non-null uint8\n",
      "Deck_B                1309 non-null uint8\n",
      "Deck_C                1309 non-null uint8\n",
      "Deck_D                1309 non-null uint8\n",
      "Deck_E                1309 non-null uint8\n",
      "Deck_F                1309 non-null uint8\n",
      "Deck_G                1309 non-null uint8\n",
      "Deck_Z                1309 non-null uint8\n",
      "Pclass_1              1309 non-null uint8\n",
      "Pclass_2              1309 non-null uint8\n",
      "Pclass_3              1309 non-null uint8\n",
      "Title_Lady            1309 non-null uint8\n",
      "Title_Master          1309 non-null uint8\n",
      "Title_Miss            1309 non-null uint8\n",
      "Title_Mr              1309 non-null uint8\n",
      "Title_Mrs             1309 non-null uint8\n",
      "Title_Officer         1309 non-null uint8\n",
      "Title_Sir             1309 non-null uint8\n",
      "Fare_Bin_very_low     1309 non-null uint8\n",
      "Fare_Bin_low          1309 non-null uint8\n",
      "Fare_Bin_high         1309 non-null uint8\n",
      "Fare_Bin_very_high    1309 non-null uint8\n",
      "Embarked_C            1309 non-null uint8\n",
      "Embarked_Q            1309 non-null uint8\n",
      "Embarked_S            1309 non-null uint8\n",
      "AgeState_Adult        1309 non-null uint8\n",
      "AgeState_Child        1309 non-null uint8\n",
      "dtypes: float64(2), int32(2), int64(5), object(4), uint8(27)\n",
      "memory usage: 207.5+ KB\n"
     ]
    }
   ],
   "source": [
    "df.info()"
   ]
  },
  {
   "cell_type": "markdown",
   "metadata": {},
   "source": [
    "### Rearranging and reorganizing the dataframe"
   ]
  },
  {
   "cell_type": "code",
   "execution_count": 101,
   "metadata": {},
   "outputs": [],
   "source": [
    "# Drop columns\n",
    "df.drop(['Cabin', 'Name', 'Ticket', 'Parch', 'SibSp', 'Sex'], axis=1, inplace=True)"
   ]
  },
  {
   "cell_type": "code",
   "execution_count": 102,
   "metadata": {
    "collapsed": true
   },
   "outputs": [],
   "source": [
    "columns = [column for column in df.columns if column != 'Survived']\n",
    "columns = ['Survived'] + columns\n",
    "df = df[columns]"
   ]
  },
  {
   "cell_type": "code",
   "execution_count": 103,
   "metadata": {},
   "outputs": [
    {
     "name": "stdout",
     "output_type": "stream",
     "text": [
      "<class 'pandas.core.frame.DataFrame'>\n",
      "Int64Index: 1309 entries, 0 to 417\n",
      "Data columns (total 34 columns):\n",
      "Survived              1309 non-null int64\n",
      "Age                   1309 non-null float64\n",
      "Fare                  1309 non-null float64\n",
      "PassengerId           1309 non-null int64\n",
      "FamilySize            1309 non-null int64\n",
      "IsMother              1309 non-null int32\n",
      "IsMale                1309 non-null int32\n",
      "Deck_A                1309 non-null uint8\n",
      "Deck_B                1309 non-null uint8\n",
      "Deck_C                1309 non-null uint8\n",
      "Deck_D                1309 non-null uint8\n",
      "Deck_E                1309 non-null uint8\n",
      "Deck_F                1309 non-null uint8\n",
      "Deck_G                1309 non-null uint8\n",
      "Deck_Z                1309 non-null uint8\n",
      "Pclass_1              1309 non-null uint8\n",
      "Pclass_2              1309 non-null uint8\n",
      "Pclass_3              1309 non-null uint8\n",
      "Title_Lady            1309 non-null uint8\n",
      "Title_Master          1309 non-null uint8\n",
      "Title_Miss            1309 non-null uint8\n",
      "Title_Mr              1309 non-null uint8\n",
      "Title_Mrs             1309 non-null uint8\n",
      "Title_Officer         1309 non-null uint8\n",
      "Title_Sir             1309 non-null uint8\n",
      "Fare_Bin_very_low     1309 non-null uint8\n",
      "Fare_Bin_low          1309 non-null uint8\n",
      "Fare_Bin_high         1309 non-null uint8\n",
      "Fare_Bin_very_high    1309 non-null uint8\n",
      "Embarked_C            1309 non-null uint8\n",
      "Embarked_Q            1309 non-null uint8\n",
      "Embarked_S            1309 non-null uint8\n",
      "AgeState_Adult        1309 non-null uint8\n",
      "AgeState_Child        1309 non-null uint8\n",
      "dtypes: float64(2), int32(2), int64(3), uint8(27)\n",
      "memory usage: 146.1 KB\n"
     ]
    }
   ],
   "source": [
    "df.info()"
   ]
  },
  {
   "cell_type": "markdown",
   "metadata": {},
   "source": [
    "## Saving the final clean data "
   ]
  },
  {
   "cell_type": "code",
   "execution_count": 116,
   "metadata": {
    "collapsed": true
   },
   "outputs": [],
   "source": [
    "processed_data_path = os.path.join(os.path.pardir, 'data', 'processed')\n",
    "write_train_path = os.path.join(processed_data_path, 'train.csv')\n",
    "write_test_path = os.path.join(processed_data_path, 'test.csv')"
   ]
  },
  {
   "cell_type": "code",
   "execution_count": 120,
   "metadata": {},
   "outputs": [],
   "source": [
    "# Train data\n",
    "df.loc[df.Survived != -888].to_csv('train_processed.csv', index=False)\n",
    "# Test data\n",
    "columns = [column for column in df.columns if column != 'Survived']\n",
    "df.loc[df.Survived == -888, columns].to_csv('test_processed.csv', index=False)"
   ]
  },
  {
   "cell_type": "markdown",
   "metadata": {},
   "source": [
    "## Building the data preprocessing script"
   ]
  },
  {
   "cell_type": "code",
   "execution_count": 128,
   "metadata": {
    "collapsed": true
   },
   "outputs": [],
   "source": [
    "get_processed_data_script_file = os.path.join(os.path.pardir, 'Titanic-dataset-experimentation', 'Scripts', 'get_processed_data.py')"
   ]
  },
  {
   "cell_type": "code",
   "execution_count": 129,
   "metadata": {},
   "outputs": [
    {
     "name": "stdout",
     "output_type": "stream",
     "text": [
      "Writing ..\\Titanic-dataset-experimentation\\Scripts\\get_processed_data.py\n"
     ]
    }
   ],
   "source": [
    "%%writefile $get_processed_data_script_file\n",
    "import numpy as np\n",
    "import pandas as pd\n",
    "import os\n",
    "\n",
    "def read_data():\n",
    "    train_df = pd.read_csv('train.csv', index_col='PassengerId')\n",
    "    test_df = pd.read_csv('test.csv', index_col='PassengerId')\n",
    "    test_df['Survived'] = -888\n",
    "    df = pd.concat((train_df, test_df), axis=0)\n",
    "    return df\n",
    "\n",
    "def process_data(df):\n",
    "    # using method chaining\n",
    "    return(df\n",
    "           # Creating title attribute and adding it\n",
    "           .assign(Title = lambda x : x.Name.map(GetTitle))\n",
    "           # filling missing values\n",
    "           .pipe(fill_missing_values)\n",
    "           # create fare bin\n",
    "           .assign(Fare_Bin = lambda x: pd.qcut(x.Fare, 4, labels=['very_low', 'low', 'high'm 'very_high']))\n",
    "           # creating age state\n",
    "           .assign(AgeState = lambda x: np.where(x.Age >= 18, 'Adult', 'Child'))\n",
    "           .assign(FamilySize = lambda x: x.Parch + x.SibSp + 1)\n",
    "           .assign(IsMother = lambda x: np.where(((x.Sex == 'female') & (x.Parch > 0) & (x.Title == 'Mrs') & (x.Age > 18)), 1, 0))\n",
    "           # deck feature\n",
    "           .assign(Cabin = lambda x: np.where(x.Cabin == 'T', np.NaN, x.Cabin))\n",
    "           .assign(Deck = lambda x: x.Cabin.map(get_deck))\n",
    "           # feature encoding\n",
    "           .assign(IsMale = lambda x: np.where(x.Sex == 'male', 1, 0))\n",
    "           .pipe(pd.get_dummies, columns=['Deck', 'Pclass', 'Title', 'Fare_Bin', 'Embarked', 'AgeState'])\n",
    "           .drop(['Cabin', 'Name', 'Ticket', 'Parch', 'SibSp', 'Sex'], axis=1)\n",
    "           .pipe(reorder_columns)\n",
    "          )\n",
    "\n",
    "\n",
    "def GetTitle(name):\n",
    "    title_group = {'mr' : 'Mr',\n",
    "                   'mrs' : 'Mrs',\n",
    "                   'miss' : 'Miss',\n",
    "                   'master' : 'Master',\n",
    "                   'don' : 'Sir',\n",
    "                   'rev' : 'Sir',\n",
    "                   'dr' : 'Officer',\n",
    "                   'mme' : 'Mrs',\n",
    "                   'ms' : 'Mrs',\n",
    "                   'major' : 'Officer',\n",
    "                   'lady' : 'Lady',\n",
    "                   'sir' : 'Sir',\n",
    "                   'mlle' : 'Miss',\n",
    "                   'col' : 'Officer',\n",
    "                   'capt' : 'Officer',\n",
    "                   'the countess' : 'Lady',\n",
    "                   'jonkheer' : 'Sir',\n",
    "                   'dona' : 'Lady'\n",
    "                  }\n",
    "    first_name_with_title = name.split(',')[1]\n",
    "    title = first_name_with_title.split('.')[0]\n",
    "    title = title.strip().lower()\n",
    "    return title_group[title]\n",
    "\n",
    "\n",
    "def fill_missing_values(df):\n",
    "    # embarked\n",
    "    df.Embarked.fillna('C', inplace=True)\n",
    "    # fare\n",
    "    median_fare = df[(df.Pclass == 3) & (df.Embarked = 'S')]['Fare'].median()\n",
    "    df.Fare.fillna(median_fare, inplace=True)\n",
    "    # age\n",
    "    title_age_median = df.groupby('Title').Age.transform('median')\n",
    "    df.Age.fillna(title_age_median, inplace=True)\n",
    "    return df\n",
    "\n",
    "\n",
    "def get_deck(cabin):\n",
    "    return np.where(pd.notnull(cabin), str(cabin)[0].upper(), 'Z')\n",
    "\n",
    "def reorder_columns(df):\n",
    "    columns = [column for column in df.columns if column != 'Survived']\n",
    "    columns = ['Survived'] + columns\n",
    "    df = df[columns]\n",
    "    return df\n",
    "\n",
    "\n",
    "def write_data(df):\n",
    "    # Train data\n",
    "    df.loc[df.Survived != -888].to_csv('train_processed.csv', index=False)\n",
    "    # Test data\n",
    "    columns = [column for column in df.columns if column != 'Survived']\n",
    "    df.loc[df.Survived == -888, columns].to_csv('test_processed.csv', index=False)\n",
    "    \n",
    "    \n",
    "if __name__ == '__main__':\n",
    "    df = read_data()\n",
    "    df = process_data(df)\n",
    "    write_data(df)"
   ]
  },
  {
   "cell_type": "markdown",
   "metadata": {},
   "source": [
    "## Matplotlib visualizations"
   ]
  },
  {
   "cell_type": "code",
   "execution_count": 130,
   "metadata": {
    "collapsed": true
   },
   "outputs": [],
   "source": [
    "import matplotlib.pyplot as plt\n",
    "%matplotlib inline"
   ]
  },
  {
   "cell_type": "code",
   "execution_count": 144,
   "metadata": {},
   "outputs": [
    {
     "data": {
      "image/png": "[encoded data removed]",
      "text/plain": [
       "<Figure size 432x288 with 1 Axes>"
      ]
     },
     "metadata": {},
     "output_type": "display_data"
    }
   ],
   "source": [
    "f, ax = plt.subplots()\n",
    "ax.hist(df.Age, bins=20, color='c', edgecolor='black')\n",
    "ax.set_title('Age histogram')\n",
    "ax.set_xlabel('Bins')\n",
    "ax.set_ylabel('Counts')\n",
    "plt.show()"
   ]
  },
  {
   "cell_type": "code",
   "execution_count": 147,
   "metadata": {},
   "outputs": [
    {
     "data": {
      "image/png": "[encoded data removed]",
      "text/plain": [
       "<Figure size 1440x504 with 2 Axes>"
      ]
     },
     "metadata": {},
     "output_type": "display_data"
    }
   ],
   "source": [
    "f, (ax1,ax2) = plt.subplots(1, 2, figsize=(20,7))\n",
    "\n",
    "ax1.hist(df.Age, bins=20, color='c', edgecolor='black')\n",
    "ax1.set_title('Age histogram')\n",
    "ax1.set_xlabel('Bins')\n",
    "ax1.set_ylabel('Counts')\n",
    "\n",
    "ax2.hist(df.Fare, bins=20, color='tomato', edgecolor='black')\n",
    "ax2.set_title('Fare histogram')\n",
    "ax2.set_xlabel('Bins')\n",
    "ax2.set_ylabel('Counts')\n",
    "\n",
    "plt.show()"
   ]
  },
  {
   "cell_type": "code",
   "execution_count": 151,
   "metadata": {},
   "outputs": [
    {
     "data": {
      "image/png": "[encoded data removed]",
      "text/plain": [
       "<Figure size 1512x1080 with 6 Axes>"
      ]
     },
     "metadata": {},
     "output_type": "display_data"
    }
   ],
   "source": [
    "f, ax_arr = plt.subplots(3, 2, figsize=(21,15))\n",
    "\n",
    "ax_arr[0,0].hist(df.Age, bins=20, color='c', edgecolor='black')\n",
    "ax_arr[0,0].set_title('Age histogram')\n",
    "ax_arr[0,0].set_xlabel('Bins')\n",
    "ax_arr[0,0].set_ylabel('Counts')\n",
    "\n",
    "ax_arr[0,1].hist(df.Fare, bins=20, color='tomato', edgecolor='black')\n",
    "ax_arr[0,1].set_title('Fare histogram')\n",
    "ax_arr[0,1].set_xlabel('Bins')\n",
    "ax_arr[0,1].set_ylabel('Counts')\n",
    "\n",
    "ax_arr[1,0].boxplot(df.Fare.values)\n",
    "ax_arr[1,0].set_title('Fare boxplot')\n",
    "ax_arr[1,0].set_xlabel('Fare')\n",
    "ax_arr[1,0].set_ylabel('Fare')\n",
    "\n",
    "ax_arr[1,1].boxplot(df.Age.values)\n",
    "ax_arr[1,1].set_title('Age boxplot')\n",
    "ax_arr[1,1].set_xlabel('Age')\n",
    "ax_arr[1,1].set_ylabel('Age')\n",
    "\n",
    "ax_arr[2,0].scatter(df.Age, df.Fare, color='g', alpha=0.15)\n",
    "ax_arr[2,0].set_title('Age/Fare scatterplot')\n",
    "\n",
    "ax_arr[2,1].axis('off')\n",
    "plt.tight_layout()\n",
    "\n",
    "plt.show()"
   ]
  },
  {
   "cell_type": "code",
   "execution_count": null,
   "metadata": {
    "collapsed": true
   },
   "outputs": [],
   "source": []
  }
 ],
 "metadata": {
  "kernelspec": {
   "display_name": "Python 3",
   "language": "python",
   "name": "python3"
  },
  "language_info": {
   "codemirror_mode": {
    "name": "ipython",
    "version": 3
   },
   "file_extension": ".py",
   "mimetype": "text/x-python",
   "name": "python",
   "nbconvert_exporter": "python",
   "pygments_lexer": "ipython3",
   "version": "3.6.3"
  }
 },
 "nbformat": 4,
 "nbformat_minor": 2
}
